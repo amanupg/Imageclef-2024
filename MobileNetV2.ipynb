{
  "nbformat": 4,
  "nbformat_minor": 0,
  "metadata": {
    "colab": {
      "provenance": [],
      "machine_shape": "hm",
      "gpuType": "L4",
      "authorship_tag": "ABX9TyP3jVufc4UG8zOohfwK/XvO",
      "include_colab_link": true
    },
    "kernelspec": {
      "name": "python3",
      "display_name": "Python 3"
    },
    "language_info": {
      "name": "python"
    },
    "accelerator": "GPU"
  },
  "cells": [
    {
      "cell_type": "markdown",
      "metadata": {
        "id": "view-in-github",
        "colab_type": "text"
      },
      "source": [
        "<a href=\"https://colab.research.google.com/github/amanupg/Imageclef-2024/blob/main/MobileNetV2.ipynb\" target=\"_parent\"><img src=\"https://colab.research.google.com/assets/colab-badge.svg\" alt=\"Open In Colab\"/></a>"
      ]
    },
    {
      "cell_type": "code",
      "execution_count": null,
      "metadata": {
        "id": "IQOG4I2rqI3L"
      },
      "outputs": [],
      "source": [
        "import tensorflow as tf\n",
        "from tensorflow.keras.applications import InceptionV3, VGG19, ResNet50, Xception, EfficientNetB0, MobileNetV2\n",
        "import matplotlib.pyplot as plt\n",
        "import numpy as np\n",
        "import tensorflow.keras as keras\n",
        "from tensorflow.keras.layers import Dense, GlobalAveragePooling2D\n",
        "from tensorflow.keras.models import Model\n",
        "import pandas as pd\n",
        "import pathlib\n",
        "from sklearn.cluster import KMeans\n",
        "from tensorflow.keras.layers import Conv2D, BatchNormalization, Activation, MaxPooling2D, Conv2DTranspose, Concatenate, Input\n",
        "from tensorflow.keras.optimizers import Adam\n",
        "from tensorflow.keras.callbacks import ModelCheckpoint, CSVLogger, ReduceLROnPlateau, EarlyStopping, TensorBoard"
      ]
    },
    {
      "cell_type": "code",
      "execution_count": null,
      "metadata": {
        "colab": {
          "base_uri": "https://localhost:8080/"
        },
        "id": "BweFKiIQqLJu",
        "outputId": "47bd41ab-3a62-4947-fd89-b8f57b66eef9"
      },
      "outputs": [
        {
          "output_type": "stream",
          "name": "stdout",
          "text": [
            "Mounted at /content/drive\n"
          ]
        }
      ],
      "source": [
        "from google.colab import drive\n",
        "drive.mount('/content/drive')"
      ]
    },
    {
      "cell_type": "code",
      "execution_count": null,
      "metadata": {
        "colab": {
          "base_uri": "https://localhost:8080/"
        },
        "id": "U73RqKasqZtS",
        "outputId": "72ccf9e4-99b4-45bc-9251-acdf417e660e"
      },
      "outputs": [
        {
          "output_type": "stream",
          "name": "stderr",
          "text": [
            "WARNING:tensorflow:`input_shape` is undefined or non-square, or `rows` is not in [96, 128, 160, 192, 224]. Weights for input shape (224, 224) will be loaded as the default.\n"
          ]
        },
        {
          "output_type": "stream",
          "name": "stdout",
          "text": [
            "Downloading data from https://storage.googleapis.com/tensorflow/keras-applications/mobilenet_v2/mobilenet_v2_weights_tf_dim_ordering_tf_kernels_1.0_224_no_top.h5\n",
            "9406464/9406464 [==============================] - 1s 0us/step\n"
          ]
        }
      ],
      "source": [
        "base_model = MobileNetV2(weights='imagenet', include_top=False)"
      ]
    },
    {
      "cell_type": "code",
      "execution_count": null,
      "metadata": {
        "id": "casiuFIEqdW3"
      },
      "outputs": [],
      "source": [
        "input_shape = (256, 256, 1)  # Grayscale images\n",
        "input_layer = tf.keras.layers.Input(shape=input_shape)\n",
        "gray_convert = tf.keras.layers.Lambda(lambda x: tf.image.grayscale_to_rgb(x))(input_layer)\n",
        "\n",
        "# Pass through InceptionV3 base model\n",
        "x = base_model(gray_convert)\n",
        "\n",
        "# Add custom classification head\n",
        "x = GlobalAveragePooling2D()(x)\n",
        "x = Dense(1024, activation='relu')(x)\n",
        "predictions = Dense(3, activation='softmax')(x)"
      ]
    },
    {
      "cell_type": "code",
      "execution_count": null,
      "metadata": {
        "id": "CpmZQrGwqqci"
      },
      "outputs": [],
      "source": [
        "model = Model(inputs=input_layer, outputs=predictions)"
      ]
    },
    {
      "cell_type": "code",
      "execution_count": null,
      "metadata": {
        "id": "O05CUeQ4q3Sy"
      },
      "outputs": [],
      "source": [
        "model.compile(optimizer='adam',\n",
        "              loss='categorical_crossentropy',\n",
        "              metrics=['accuracy'])"
      ]
    },
    {
      "cell_type": "code",
      "execution_count": null,
      "metadata": {
        "colab": {
          "base_uri": "https://localhost:8080/"
        },
        "id": "b6l79qD_q9tB",
        "outputId": "22f08098-811b-45af-8f0b-35a830980125"
      },
      "outputs": [
        {
          "output_type": "stream",
          "name": "stdout",
          "text": [
            "Found 540 files belonging to 3 classes.\n",
            "Found 60 files belonging to 3 classes.\n"
          ]
        }
      ],
      "source": [
        "train_ds = keras.utils.image_dataset_from_directory(\n",
        "    directory='/content/drive/MyDrive/Machine_Learning/Research/Train',\n",
        "    labels='inferred',\n",
        "    label_mode='int',\n",
        "    batch_size=16,\n",
        "    image_size=(256, 256),\n",
        "    color_mode='grayscale'\n",
        ")\n",
        "validation_ds = keras.utils.image_dataset_from_directory(\n",
        "    directory='/content/drive/MyDrive/Machine_Learning/Research/Test',\n",
        "    labels='inferred',\n",
        "    label_mode='int',\n",
        "    batch_size=16,\n",
        "    image_size=(256, 256),\n",
        "    color_mode='grayscale'\n",
        ")"
      ]
    },
    {
      "cell_type": "code",
      "execution_count": null,
      "metadata": {
        "id": "76wTzrU_sKIu"
      },
      "outputs": [],
      "source": [
        "def process(image, label):\n",
        "    image = tf.cast(image / 255, tf.float32)\n",
        "    label = tf.one_hot(label, depth=3)  # One-hot encode labels for 3 classes\n",
        "    return image, label\n",
        "\n",
        "\n",
        "train_ds = train_ds.map(process)\n",
        "validation_ds = validation_ds.map(process)"
      ]
    },
    {
      "cell_type": "code",
      "execution_count": null,
      "metadata": {
        "colab": {
          "base_uri": "https://localhost:8080/"
        },
        "id": "75gtIYPeo2aQ",
        "outputId": "3cf7df59-cf48-4317-d7dc-eebb1dfc00f9"
      },
      "outputs": [
        {
          "output_type": "stream",
          "name": "stdout",
          "text": [
            "Epoch 1/200\n",
            "34/34 [==============================] - ETA: 0s - loss: 0.2780 - accuracy: 0.9333\n",
            "Epoch 1: val_loss improved from inf to 38.43827, saving model to /content/drive/MyDrive/Machine_Learning/Research/Model/mobile.h5\n"
          ]
        },
        {
          "output_type": "stream",
          "name": "stderr",
          "text": [
            "/usr/local/lib/python3.10/dist-packages/keras/src/engine/training.py:3103: UserWarning: You are saving your model as an HDF5 file via `model.save()`. This file format is considered legacy. We recommend using instead the native Keras format, e.g. `model.save('my_model.keras')`.\n",
            "  saving_api.save_model(\n"
          ]
        },
        {
          "output_type": "stream",
          "name": "stdout",
          "text": [
            "\b\b\b\b\b\b\b\b\b\b\b\b\b\b\b\b\b\b\b\b\b\b\b\b\b\b\b\b\b\b\b\b\b\b\b\b\b\b\b\b\b\b\b\b\b\b\b\b\b\b\b\b\b\b\b\b\b\b\b\b\b\b\b\b\b\b\b\b\b\b\b\b\b\b\b\b\b\b\b\b\b\b\r34/34 [==============================] - 57s 551ms/step - loss: 0.2780 - accuracy: 0.9333 - val_loss: 38.4383 - val_accuracy: 0.3333\n",
            "Epoch 2/200\n",
            "34/34 [==============================] - ETA: 0s - loss: 0.1262 - accuracy: 0.9778\n",
            "Epoch 2: val_loss improved from 38.43827 to 2.02286, saving model to /content/drive/MyDrive/Machine_Learning/Research/Model/mobile.h5\n",
            "34/34 [==============================] - 3s 83ms/step - loss: 0.1262 - accuracy: 0.9778 - val_loss: 2.0229 - val_accuracy: 0.6833\n",
            "Epoch 3/200\n",
            "34/34 [==============================] - ETA: 0s - loss: 0.1249 - accuracy: 0.9759\n",
            "Epoch 3: val_loss did not improve from 2.02286\n",
            "34/34 [==============================] - 2s 55ms/step - loss: 0.1249 - accuracy: 0.9759 - val_loss: 12.4773 - val_accuracy: 0.3667\n",
            "Epoch 4/200\n",
            "34/34 [==============================] - ETA: 0s - loss: 0.0089 - accuracy: 1.0000\n",
            "Epoch 4: val_loss did not improve from 2.02286\n",
            "34/34 [==============================] - 2s 55ms/step - loss: 0.0089 - accuracy: 1.0000 - val_loss: 30.8527 - val_accuracy: 0.3333\n",
            "Epoch 5/200\n",
            "33/34 [============================>.] - ETA: 0s - loss: 2.3436e-04 - accuracy: 1.0000\n",
            "Epoch 5: val_loss did not improve from 2.02286\n",
            "34/34 [==============================] - 2s 57ms/step - loss: 2.2964e-04 - accuracy: 1.0000 - val_loss: 29.1716 - val_accuracy: 0.3333\n",
            "Epoch 6/200\n",
            "33/34 [============================>.] - ETA: 0s - loss: 4.8155e-04 - accuracy: 1.0000\n",
            "Epoch 6: val_loss did not improve from 2.02286\n",
            "34/34 [==============================] - 2s 56ms/step - loss: 4.7087e-04 - accuracy: 1.0000 - val_loss: 26.4622 - val_accuracy: 0.3333\n",
            "Epoch 7/200\n",
            "33/34 [============================>.] - ETA: 0s - loss: 0.1526 - accuracy: 0.9697\n",
            "Epoch 7: val_loss did not improve from 2.02286\n",
            "34/34 [==============================] - 2s 56ms/step - loss: 0.1493 - accuracy: 0.9704 - val_loss: 12.8681 - val_accuracy: 0.5667\n",
            "Epoch 8/200\n",
            "33/34 [============================>.] - ETA: 0s - loss: 0.1162 - accuracy: 0.9792\n",
            "Epoch 8: val_loss did not improve from 2.02286\n",
            "34/34 [==============================] - 2s 57ms/step - loss: 0.2205 - accuracy: 0.9704 - val_loss: 68.3386 - val_accuracy: 0.3333\n",
            "Epoch 9/200\n",
            "34/34 [==============================] - ETA: 0s - loss: 0.1190 - accuracy: 0.9778\n",
            "Epoch 9: val_loss did not improve from 2.02286\n",
            "34/34 [==============================] - 2s 56ms/step - loss: 0.1190 - accuracy: 0.9778 - val_loss: 35.9075 - val_accuracy: 0.3333\n",
            "Epoch 10/200\n",
            "33/34 [============================>.] - ETA: 0s - loss: 0.1785 - accuracy: 0.9735\n",
            "Epoch 10: val_loss did not improve from 2.02286\n",
            "34/34 [==============================] - 2s 57ms/step - loss: 0.1745 - accuracy: 0.9741 - val_loss: 18.8676 - val_accuracy: 0.3333\n",
            "Epoch 11/200\n",
            "33/34 [============================>.] - ETA: 0s - loss: 0.0012 - accuracy: 1.0000\n",
            "Epoch 11: val_loss did not improve from 2.02286\n",
            "34/34 [==============================] - 2s 55ms/step - loss: 0.0012 - accuracy: 1.0000 - val_loss: 15.4358 - val_accuracy: 0.4333\n",
            "Epoch 12/200\n",
            "34/34 [==============================] - ETA: 0s - loss: 0.0092 - accuracy: 0.9963\n",
            "Epoch 12: val_loss did not improve from 2.02286\n",
            "34/34 [==============================] - 2s 55ms/step - loss: 0.0092 - accuracy: 0.9963 - val_loss: 19.0686 - val_accuracy: 0.3333\n",
            "Epoch 13/200\n",
            "34/34 [==============================] - ETA: 0s - loss: 0.1961 - accuracy: 0.9833\n",
            "Epoch 13: val_loss did not improve from 2.02286\n",
            "34/34 [==============================] - 2s 56ms/step - loss: 0.1961 - accuracy: 0.9833 - val_loss: 26.7235 - val_accuracy: 0.4000\n",
            "Epoch 14/200\n",
            "33/34 [============================>.] - ETA: 0s - loss: 0.0153 - accuracy: 0.9981\n",
            "Epoch 14: val_loss did not improve from 2.02286\n",
            "34/34 [==============================] - 2s 55ms/step - loss: 0.0150 - accuracy: 0.9981 - val_loss: 43.0805 - val_accuracy: 0.3333\n",
            "Epoch 15/200\n",
            "34/34 [==============================] - ETA: 0s - loss: 0.0420 - accuracy: 0.9889\n",
            "Epoch 15: val_loss did not improve from 2.02286\n",
            "34/34 [==============================] - 2s 54ms/step - loss: 0.0420 - accuracy: 0.9889 - val_loss: 57.4450 - val_accuracy: 0.3333\n",
            "Epoch 16/200\n",
            "33/34 [============================>.] - ETA: 0s - loss: 0.0295 - accuracy: 0.9886\n",
            "Epoch 16: val_loss did not improve from 2.02286\n",
            "34/34 [==============================] - 2s 57ms/step - loss: 0.0293 - accuracy: 0.9889 - val_loss: 32.6293 - val_accuracy: 0.3333\n",
            "Epoch 17/200\n",
            "33/34 [============================>.] - ETA: 0s - loss: 0.0022 - accuracy: 1.0000\n",
            "Epoch 17: val_loss did not improve from 2.02286\n",
            "34/34 [==============================] - 2s 56ms/step - loss: 0.0026 - accuracy: 1.0000 - val_loss: 27.4397 - val_accuracy: 0.3333\n",
            "Epoch 18/200\n",
            "34/34 [==============================] - ETA: 0s - loss: 5.7126e-05 - accuracy: 1.0000\n",
            "Epoch 18: val_loss did not improve from 2.02286\n",
            "34/34 [==============================] - 2s 55ms/step - loss: 5.7126e-05 - accuracy: 1.0000 - val_loss: 25.3987 - val_accuracy: 0.3333\n",
            "Epoch 19/200\n",
            "33/34 [============================>.] - ETA: 0s - loss: 0.0164 - accuracy: 0.9962\n",
            "Epoch 19: val_loss did not improve from 2.02286\n",
            "34/34 [==============================] - 2s 55ms/step - loss: 0.0179 - accuracy: 0.9944 - val_loss: 62.6151 - val_accuracy: 0.3333\n",
            "Epoch 20/200\n",
            "33/34 [============================>.] - ETA: 0s - loss: 0.0942 - accuracy: 0.9811\n",
            "Epoch 20: val_loss did not improve from 2.02286\n",
            "34/34 [==============================] - 2s 56ms/step - loss: 0.0921 - accuracy: 0.9815 - val_loss: 64.0689 - val_accuracy: 0.3333\n",
            "Epoch 21/200\n",
            "33/34 [============================>.] - ETA: 0s - loss: 0.0093 - accuracy: 0.9962\n",
            "Epoch 21: val_loss did not improve from 2.02286\n",
            "34/34 [==============================] - 2s 55ms/step - loss: 0.0096 - accuracy: 0.9963 - val_loss: 84.1377 - val_accuracy: 0.3333\n",
            "Epoch 22/200\n",
            "34/34 [==============================] - ETA: 0s - loss: 6.0788e-04 - accuracy: 1.0000\n",
            "Epoch 22: val_loss did not improve from 2.02286\n",
            "34/34 [==============================] - 2s 56ms/step - loss: 6.0788e-04 - accuracy: 1.0000 - val_loss: 74.5720 - val_accuracy: 0.3333\n",
            "Epoch 23/200\n",
            "34/34 [==============================] - ETA: 0s - loss: 0.0017 - accuracy: 0.9981\n",
            "Epoch 23: val_loss did not improve from 2.02286\n",
            "34/34 [==============================] - 2s 55ms/step - loss: 0.0017 - accuracy: 0.9981 - val_loss: 51.7017 - val_accuracy: 0.6667\n",
            "Epoch 24/200\n",
            "34/34 [==============================] - ETA: 0s - loss: 0.0143 - accuracy: 0.9963\n",
            "Epoch 24: val_loss did not improve from 2.02286\n",
            "34/34 [==============================] - 2s 55ms/step - loss: 0.0143 - accuracy: 0.9963 - val_loss: 42.4074 - val_accuracy: 0.6667\n",
            "Epoch 25/200\n",
            "34/34 [==============================] - ETA: 0s - loss: 4.9005e-05 - accuracy: 1.0000\n",
            "Epoch 25: val_loss did not improve from 2.02286\n",
            "34/34 [==============================] - 2s 56ms/step - loss: 4.9005e-05 - accuracy: 1.0000 - val_loss: 43.2069 - val_accuracy: 0.6667\n",
            "Epoch 26/200\n",
            "33/34 [============================>.] - ETA: 0s - loss: 5.2359e-05 - accuracy: 1.0000\n",
            "Epoch 26: val_loss did not improve from 2.02286\n",
            "34/34 [==============================] - 2s 57ms/step - loss: 5.1372e-05 - accuracy: 1.0000 - val_loss: 40.0435 - val_accuracy: 0.6667\n",
            "Epoch 27/200\n",
            "34/34 [==============================] - ETA: 0s - loss: 4.6295e-04 - accuracy: 1.0000\n",
            "Epoch 27: val_loss did not improve from 2.02286\n",
            "34/34 [==============================] - 2s 55ms/step - loss: 4.6295e-04 - accuracy: 1.0000 - val_loss: 36.7432 - val_accuracy: 0.6667\n",
            "Epoch 28/200\n",
            "33/34 [============================>.] - ETA: 0s - loss: 6.9442e-04 - accuracy: 1.0000\n",
            "Epoch 28: val_loss did not improve from 2.02286\n",
            "34/34 [==============================] - 2s 56ms/step - loss: 6.7931e-04 - accuracy: 1.0000 - val_loss: 25.2955 - val_accuracy: 0.6500\n",
            "Epoch 29/200\n",
            "34/34 [==============================] - ETA: 0s - loss: 1.8373e-05 - accuracy: 1.0000\n",
            "Epoch 29: val_loss did not improve from 2.02286\n",
            "34/34 [==============================] - 2s 55ms/step - loss: 1.8373e-05 - accuracy: 1.0000 - val_loss: 20.5687 - val_accuracy: 0.5500\n",
            "Epoch 30/200\n",
            "33/34 [============================>.] - ETA: 0s - loss: 3.0212e-04 - accuracy: 1.0000\n",
            "Epoch 30: val_loss did not improve from 2.02286\n",
            "34/34 [==============================] - 2s 56ms/step - loss: 2.9579e-04 - accuracy: 1.0000 - val_loss: 18.4483 - val_accuracy: 0.5000\n",
            "Epoch 31/200\n",
            "34/34 [==============================] - ETA: 0s - loss: 2.5595e-04 - accuracy: 1.0000\n",
            "Epoch 31: val_loss did not improve from 2.02286\n",
            "34/34 [==============================] - 2s 58ms/step - loss: 2.5595e-04 - accuracy: 1.0000 - val_loss: 20.4071 - val_accuracy: 0.4167\n",
            "Epoch 32/200\n",
            "33/34 [============================>.] - ETA: 0s - loss: 2.4318e-05 - accuracy: 1.0000\n",
            "Epoch 32: val_loss did not improve from 2.02286\n",
            "34/34 [==============================] - 2s 56ms/step - loss: 2.4365e-05 - accuracy: 1.0000 - val_loss: 18.7855 - val_accuracy: 0.3667\n",
            "Epoch 33/200\n",
            "33/34 [============================>.] - ETA: 0s - loss: 3.7545e-05 - accuracy: 1.0000\n",
            "Epoch 33: val_loss did not improve from 2.02286\n",
            "34/34 [==============================] - 2s 55ms/step - loss: 5.8581e-05 - accuracy: 1.0000 - val_loss: 14.8834 - val_accuracy: 0.3833\n",
            "Epoch 34/200\n",
            "34/34 [==============================] - ETA: 0s - loss: 0.0631 - accuracy: 0.9889    \n",
            "Epoch 34: val_loss improved from 2.02286 to 0.28892, saving model to /content/drive/MyDrive/Machine_Learning/Research/Model/mobile.h5\n",
            "34/34 [==============================] - 3s 99ms/step - loss: 0.0631 - accuracy: 0.9889 - val_loss: 0.2889 - val_accuracy: 0.9833\n",
            "Epoch 35/200\n",
            "33/34 [============================>.] - ETA: 0s - loss: 0.0921 - accuracy: 0.9886\n",
            "Epoch 35: val_loss did not improve from 0.28892\n",
            "34/34 [==============================] - 2s 55ms/step - loss: 0.0900 - accuracy: 0.9889 - val_loss: 54.8449 - val_accuracy: 0.3667\n",
            "Epoch 36/200\n",
            "33/34 [============================>.] - ETA: 0s - loss: 0.0689 - accuracy: 0.9867\n",
            "Epoch 36: val_loss did not improve from 0.28892\n",
            "34/34 [==============================] - 2s 55ms/step - loss: 0.0705 - accuracy: 0.9852 - val_loss: 32.3936 - val_accuracy: 0.3333\n",
            "Epoch 37/200\n",
            "33/34 [============================>.] - ETA: 0s - loss: 0.7180 - accuracy: 0.9318\n",
            "Epoch 37: val_loss did not improve from 0.28892\n",
            "34/34 [==============================] - 2s 55ms/step - loss: 0.7153 - accuracy: 0.9315 - val_loss: 50.8224 - val_accuracy: 0.3333\n",
            "Epoch 38/200\n",
            "33/34 [============================>.] - ETA: 0s - loss: 0.1077 - accuracy: 0.9811\n",
            "Epoch 38: val_loss did not improve from 0.28892\n",
            "34/34 [==============================] - 2s 57ms/step - loss: 0.1065 - accuracy: 0.9815 - val_loss: 41.5364 - val_accuracy: 0.3333\n",
            "Epoch 39/200\n",
            "33/34 [============================>.] - ETA: 0s - loss: 0.0325 - accuracy: 0.9943\n",
            "Epoch 39: val_loss did not improve from 0.28892\n",
            "34/34 [==============================] - 2s 58ms/step - loss: 0.0318 - accuracy: 0.9944 - val_loss: 48.0031 - val_accuracy: 0.3333\n",
            "Epoch 40/200\n",
            "33/34 [============================>.] - ETA: 0s - loss: 0.0108 - accuracy: 0.9981\n",
            "Epoch 40: val_loss did not improve from 0.28892\n",
            "34/34 [==============================] - 2s 55ms/step - loss: 0.0109 - accuracy: 0.9981 - val_loss: 59.6918 - val_accuracy: 0.3333\n",
            "Epoch 41/200\n",
            "33/34 [============================>.] - ETA: 0s - loss: 0.1892 - accuracy: 0.9527\n",
            "Epoch 41: val_loss did not improve from 0.28892\n",
            "34/34 [==============================] - 2s 55ms/step - loss: 0.1860 - accuracy: 0.9537 - val_loss: 64.9991 - val_accuracy: 0.3333\n",
            "Epoch 42/200\n",
            "33/34 [============================>.] - ETA: 0s - loss: 0.1869 - accuracy: 0.9640\n",
            "Epoch 42: val_loss did not improve from 0.28892\n",
            "34/34 [==============================] - 2s 56ms/step - loss: 0.1828 - accuracy: 0.9648 - val_loss: 81.0724 - val_accuracy: 0.3333\n",
            "Epoch 43/200\n",
            "33/34 [============================>.] - ETA: 0s - loss: 0.0127 - accuracy: 0.9962\n",
            "Epoch 43: val_loss did not improve from 0.28892\n",
            "34/34 [==============================] - 2s 58ms/step - loss: 0.0180 - accuracy: 0.9944 - val_loss: 84.9507 - val_accuracy: 0.3333\n",
            "Epoch 44/200\n",
            "34/34 [==============================] - ETA: 0s - loss: 0.0027 - accuracy: 1.0000\n",
            "Epoch 44: val_loss did not improve from 0.28892\n",
            "34/34 [==============================] - 2s 56ms/step - loss: 0.0027 - accuracy: 1.0000 - val_loss: 43.8319 - val_accuracy: 0.3333\n",
            "Epoch 45/200\n",
            "33/34 [============================>.] - ETA: 0s - loss: 0.0033 - accuracy: 0.9981\n",
            "Epoch 45: val_loss did not improve from 0.28892\n",
            "34/34 [==============================] - 2s 55ms/step - loss: 0.0032 - accuracy: 0.9981 - val_loss: 42.5975 - val_accuracy: 0.3333\n",
            "Epoch 46/200\n",
            "34/34 [==============================] - ETA: 0s - loss: 4.9054e-04 - accuracy: 1.0000\n",
            "Epoch 46: val_loss did not improve from 0.28892\n",
            "34/34 [==============================] - 2s 56ms/step - loss: 4.9054e-04 - accuracy: 1.0000 - val_loss: 36.1381 - val_accuracy: 0.3333\n",
            "Epoch 47/200\n",
            "33/34 [============================>.] - ETA: 0s - loss: 3.1695e-05 - accuracy: 1.0000\n",
            "Epoch 47: val_loss did not improve from 0.28892\n",
            "34/34 [==============================] - 2s 55ms/step - loss: 4.8558e-05 - accuracy: 1.0000 - val_loss: 30.3343 - val_accuracy: 0.3333\n",
            "Epoch 48/200\n",
            "34/34 [==============================] - ETA: 0s - loss: 4.0203e-06 - accuracy: 1.0000\n",
            "Epoch 48: val_loss did not improve from 0.28892\n",
            "34/34 [==============================] - 2s 55ms/step - loss: 4.0203e-06 - accuracy: 1.0000 - val_loss: 23.5570 - val_accuracy: 0.3333\n",
            "Epoch 49/200\n",
            "34/34 [==============================] - ETA: 0s - loss: 0.2128 - accuracy: 0.9778\n",
            "Epoch 49: val_loss did not improve from 0.28892\n",
            "34/34 [==============================] - 2s 55ms/step - loss: 0.2128 - accuracy: 0.9778 - val_loss: 58.7384 - val_accuracy: 0.3333\n",
            "Epoch 50/200\n",
            "34/34 [==============================] - ETA: 0s - loss: 0.0220 - accuracy: 0.9963\n",
            "Epoch 50: val_loss did not improve from 0.28892\n",
            "34/34 [==============================] - 2s 56ms/step - loss: 0.0220 - accuracy: 0.9963 - val_loss: 51.2145 - val_accuracy: 0.4167\n",
            "Epoch 51/200\n",
            "33/34 [============================>.] - ETA: 0s - loss: 0.0131 - accuracy: 0.9962\n",
            "Epoch 51: val_loss did not improve from 0.28892\n",
            "34/34 [==============================] - 2s 57ms/step - loss: 0.0134 - accuracy: 0.9963 - val_loss: 65.9404 - val_accuracy: 0.3333\n",
            "Epoch 52/200\n",
            "34/34 [==============================] - ETA: 0s - loss: 0.0140 - accuracy: 0.9944\n",
            "Epoch 52: val_loss did not improve from 0.28892\n",
            "34/34 [==============================] - 2s 57ms/step - loss: 0.0140 - accuracy: 0.9944 - val_loss: 69.4319 - val_accuracy: 0.3333\n",
            "Epoch 53/200\n",
            "34/34 [==============================] - ETA: 0s - loss: 0.0369 - accuracy: 0.9889\n",
            "Epoch 53: val_loss did not improve from 0.28892\n",
            "34/34 [==============================] - 2s 55ms/step - loss: 0.0369 - accuracy: 0.9889 - val_loss: 12.0911 - val_accuracy: 0.4500\n",
            "Epoch 54/200\n",
            "34/34 [==============================] - ETA: 0s - loss: 0.0018 - accuracy: 1.0000\n",
            "Epoch 54: val_loss did not improve from 0.28892\n",
            "34/34 [==============================] - 2s 54ms/step - loss: 0.0018 - accuracy: 1.0000 - val_loss: 23.1718 - val_accuracy: 0.3500\n",
            "Epoch 55/200\n",
            "34/34 [==============================] - ETA: 0s - loss: 3.4211e-04 - accuracy: 1.0000\n",
            "Epoch 55: val_loss did not improve from 0.28892\n",
            "34/34 [==============================] - 2s 55ms/step - loss: 3.4211e-04 - accuracy: 1.0000 - val_loss: 26.2794 - val_accuracy: 0.3500\n",
            "Epoch 56/200\n",
            "33/34 [============================>.] - ETA: 0s - loss: 0.1421 - accuracy: 0.9848\n",
            "Epoch 56: val_loss did not improve from 0.28892\n",
            "34/34 [==============================] - 2s 55ms/step - loss: 0.1390 - accuracy: 0.9852 - val_loss: 56.2298 - val_accuracy: 0.3667\n",
            "Epoch 57/200\n",
            "33/34 [============================>.] - ETA: 0s - loss: 0.0048 - accuracy: 1.0000\n",
            "Epoch 57: val_loss did not improve from 0.28892\n",
            "34/34 [==============================] - 2s 56ms/step - loss: 0.0047 - accuracy: 1.0000 - val_loss: 24.0137 - val_accuracy: 0.6667\n",
            "Epoch 58/200\n",
            "33/34 [============================>.] - ETA: 0s - loss: 0.0017 - accuracy: 1.0000\n",
            "Epoch 58: val_loss did not improve from 0.28892\n",
            "34/34 [==============================] - 2s 55ms/step - loss: 0.0017 - accuracy: 1.0000 - val_loss: 22.2257 - val_accuracy: 0.6500\n",
            "Epoch 59/200\n",
            "33/34 [============================>.] - ETA: 0s - loss: 0.0037 - accuracy: 0.9981\n",
            "Epoch 59: val_loss did not improve from 0.28892\n",
            "34/34 [==============================] - 2s 55ms/step - loss: 0.0036 - accuracy: 0.9981 - val_loss: 21.4884 - val_accuracy: 0.6167\n",
            "Epoch 60/200\n",
            "33/34 [============================>.] - ETA: 0s - loss: 0.0031 - accuracy: 1.0000\n",
            "Epoch 60: val_loss did not improve from 0.28892\n",
            "34/34 [==============================] - 2s 56ms/step - loss: 0.0031 - accuracy: 1.0000 - val_loss: 19.3950 - val_accuracy: 0.6667\n",
            "Epoch 61/200\n",
            "33/34 [============================>.] - ETA: 0s - loss: 9.1614e-04 - accuracy: 1.0000\n",
            "Epoch 61: val_loss did not improve from 0.28892\n",
            "34/34 [==============================] - 2s 57ms/step - loss: 9.0476e-04 - accuracy: 1.0000 - val_loss: 18.0280 - val_accuracy: 0.6667\n",
            "Epoch 62/200\n",
            "33/34 [============================>.] - ETA: 0s - loss: 9.9076e-04 - accuracy: 1.0000\n",
            "Epoch 62: val_loss did not improve from 0.28892\n",
            "34/34 [==============================] - 2s 56ms/step - loss: 9.6879e-04 - accuracy: 1.0000 - val_loss: 16.3280 - val_accuracy: 0.6667\n",
            "Epoch 63/200\n",
            "34/34 [==============================] - ETA: 0s - loss: 4.6407e-04 - accuracy: 1.0000\n",
            "Epoch 63: val_loss did not improve from 0.28892\n",
            "34/34 [==============================] - 2s 56ms/step - loss: 4.6407e-04 - accuracy: 1.0000 - val_loss: 14.9344 - val_accuracy: 0.6667\n",
            "Epoch 64/200\n",
            "33/34 [============================>.] - ETA: 0s - loss: 3.9883e-04 - accuracy: 1.0000\n",
            "Epoch 64: val_loss did not improve from 0.28892\n",
            "34/34 [==============================] - 2s 55ms/step - loss: 3.8997e-04 - accuracy: 1.0000 - val_loss: 13.6564 - val_accuracy: 0.6667\n",
            "Epoch 65/200\n",
            "34/34 [==============================] - ETA: 0s - loss: 0.0111 - accuracy: 0.9963\n",
            "Epoch 65: val_loss did not improve from 0.28892\n",
            "34/34 [==============================] - 2s 54ms/step - loss: 0.0111 - accuracy: 0.9963 - val_loss: 15.7321 - val_accuracy: 0.6667\n",
            "Epoch 66/200\n",
            "34/34 [==============================] - ETA: 0s - loss: 6.7960e-04 - accuracy: 1.0000\n",
            "Epoch 66: val_loss did not improve from 0.28892\n",
            "34/34 [==============================] - 2s 55ms/step - loss: 6.7960e-04 - accuracy: 1.0000 - val_loss: 14.1376 - val_accuracy: 0.6667\n",
            "Epoch 67/200\n",
            "33/34 [============================>.] - ETA: 0s - loss: 4.7217e-04 - accuracy: 1.0000\n",
            "Epoch 67: val_loss did not improve from 0.28892\n",
            "34/34 [==============================] - 2s 57ms/step - loss: 4.6204e-04 - accuracy: 1.0000 - val_loss: 13.0992 - val_accuracy: 0.6667\n",
            "Epoch 68/200\n",
            "34/34 [==============================] - ETA: 0s - loss: 6.3262e-04 - accuracy: 1.0000\n",
            "Epoch 68: val_loss did not improve from 0.28892\n",
            "34/34 [==============================] - 2s 56ms/step - loss: 6.3262e-04 - accuracy: 1.0000 - val_loss: 11.6834 - val_accuracy: 0.6667\n",
            "Epoch 69/200\n",
            "33/34 [============================>.] - ETA: 0s - loss: 2.5150e-04 - accuracy: 1.0000\n",
            "Epoch 69: val_loss did not improve from 0.28892\n",
            "34/34 [==============================] - 2s 55ms/step - loss: 2.4591e-04 - accuracy: 1.0000 - val_loss: 10.3719 - val_accuracy: 0.6833\n",
            "Epoch 70/200\n",
            "34/34 [==============================] - ETA: 0s - loss: 4.1256e-04 - accuracy: 1.0000\n",
            "Epoch 70: val_loss did not improve from 0.28892\n",
            "34/34 [==============================] - 2s 55ms/step - loss: 4.1256e-04 - accuracy: 1.0000 - val_loss: 8.5160 - val_accuracy: 0.7167\n",
            "Epoch 71/200\n",
            "33/34 [============================>.] - ETA: 0s - loss: 1.5708e-04 - accuracy: 1.0000\n",
            "Epoch 71: val_loss did not improve from 0.28892\n",
            "34/34 [==============================] - 2s 54ms/step - loss: 1.5619e-04 - accuracy: 1.0000 - val_loss: 7.0561 - val_accuracy: 0.7167\n",
            "Epoch 72/200\n",
            "33/34 [============================>.] - ETA: 0s - loss: 0.0040 - accuracy: 0.9981\n",
            "Epoch 72: val_loss did not improve from 0.28892\n",
            "34/34 [==============================] - 2s 55ms/step - loss: 0.0040 - accuracy: 0.9981 - val_loss: 11.0437 - val_accuracy: 0.7333\n",
            "Epoch 73/200\n",
            "33/34 [============================>.] - ETA: 0s - loss: 0.0050 - accuracy: 0.9981\n",
            "Epoch 73: val_loss did not improve from 0.28892\n",
            "34/34 [==============================] - 2s 57ms/step - loss: 0.0049 - accuracy: 0.9981 - val_loss: 4.6612 - val_accuracy: 0.8500\n",
            "Epoch 74/200\n",
            "34/34 [==============================] - ETA: 0s - loss: 5.3580e-04 - accuracy: 1.0000\n",
            "Epoch 74: val_loss did not improve from 0.28892\n",
            "34/34 [==============================] - 2s 55ms/step - loss: 5.3580e-04 - accuracy: 1.0000 - val_loss: 2.7840 - val_accuracy: 0.8667\n",
            "Epoch 75/200\n",
            "34/34 [==============================] - ETA: 0s - loss: 3.8981e-04 - accuracy: 1.0000\n",
            "Epoch 75: val_loss did not improve from 0.28892\n",
            "34/34 [==============================] - 2s 56ms/step - loss: 3.8981e-04 - accuracy: 1.0000 - val_loss: 2.1326 - val_accuracy: 0.9000\n",
            "Epoch 76/200\n",
            "34/34 [==============================] - ETA: 0s - loss: 2.1746e-04 - accuracy: 1.0000\n",
            "Epoch 76: val_loss did not improve from 0.28892\n",
            "34/34 [==============================] - 2s 54ms/step - loss: 2.1746e-04 - accuracy: 1.0000 - val_loss: 1.5387 - val_accuracy: 0.9167\n",
            "Epoch 77/200\n",
            "34/34 [==============================] - ETA: 0s - loss: 4.9984e-04 - accuracy: 1.0000\n",
            "Epoch 77: val_loss did not improve from 0.28892\n",
            "34/34 [==============================] - 2s 55ms/step - loss: 4.9984e-04 - accuracy: 1.0000 - val_loss: 1.1293 - val_accuracy: 0.9167\n",
            "Epoch 78/200\n",
            "34/34 [==============================] - ETA: 0s - loss: 2.4516e-04 - accuracy: 1.0000\n",
            "Epoch 78: val_loss did not improve from 0.28892\n",
            "34/34 [==============================] - 2s 55ms/step - loss: 2.4516e-04 - accuracy: 1.0000 - val_loss: 0.6911 - val_accuracy: 0.9333\n",
            "Epoch 79/200\n",
            "33/34 [============================>.] - ETA: 0s - loss: 2.9230e-04 - accuracy: 1.0000\n",
            "Epoch 79: val_loss did not improve from 0.28892\n",
            "34/34 [==============================] - 2s 57ms/step - loss: 2.8583e-04 - accuracy: 1.0000 - val_loss: 0.4276 - val_accuracy: 0.9833\n",
            "Epoch 80/200\n",
            "33/34 [============================>.] - ETA: 0s - loss: 7.7361e-04 - accuracy: 1.0000\n",
            "Epoch 80: val_loss improved from 0.28892 to 0.28693, saving model to /content/drive/MyDrive/Machine_Learning/Research/Model/mobile.h5\n",
            "34/34 [==============================] - 4s 100ms/step - loss: 7.5644e-04 - accuracy: 1.0000 - val_loss: 0.2869 - val_accuracy: 0.9833\n",
            "Epoch 81/200\n",
            "33/34 [============================>.] - ETA: 0s - loss: 1.4859e-04 - accuracy: 1.0000\n",
            "Epoch 81: val_loss improved from 0.28693 to 0.14791, saving model to /content/drive/MyDrive/Machine_Learning/Research/Model/mobile.h5\n",
            "34/34 [==============================] - 3s 75ms/step - loss: 1.4528e-04 - accuracy: 1.0000 - val_loss: 0.1479 - val_accuracy: 0.9833\n",
            "Epoch 82/200\n",
            "34/34 [==============================] - ETA: 0s - loss: 0.0012 - accuracy: 1.0000\n",
            "Epoch 82: val_loss improved from 0.14791 to 0.00000, saving model to /content/drive/MyDrive/Machine_Learning/Research/Model/mobile.h5\n",
            "34/34 [==============================] - 3s 74ms/step - loss: 0.0012 - accuracy: 1.0000 - val_loss: 0.0000e+00 - val_accuracy: 1.0000\n",
            "Epoch 83/200\n",
            "34/34 [==============================] - ETA: 0s - loss: 0.0750 - accuracy: 0.9926\n",
            "Epoch 83: val_loss did not improve from 0.00000\n",
            "34/34 [==============================] - 2s 57ms/step - loss: 0.0750 - accuracy: 0.9926 - val_loss: 13.1206 - val_accuracy: 0.7167\n",
            "Epoch 84/200\n",
            "33/34 [============================>.] - ETA: 0s - loss: 0.0580 - accuracy: 0.9867\n",
            "Epoch 84: val_loss did not improve from 0.00000\n",
            "34/34 [==============================] - 2s 57ms/step - loss: 0.0567 - accuracy: 0.9870 - val_loss: 27.6608 - val_accuracy: 0.3500\n",
            "Epoch 85/200\n",
            "34/34 [==============================] - ETA: 0s - loss: 0.4086 - accuracy: 0.9389\n",
            "Epoch 85: val_loss did not improve from 0.00000\n",
            "34/34 [==============================] - 2s 55ms/step - loss: 0.4086 - accuracy: 0.9389 - val_loss: 25.5684 - val_accuracy: 0.3333\n",
            "Epoch 86/200\n",
            "33/34 [============================>.] - ETA: 0s - loss: 0.0498 - accuracy: 0.9811\n",
            "Epoch 86: val_loss did not improve from 0.00000\n",
            "34/34 [==============================] - 2s 55ms/step - loss: 0.0490 - accuracy: 0.9815 - val_loss: 25.2670 - val_accuracy: 0.3667\n",
            "Epoch 87/200\n",
            "33/34 [============================>.] - ETA: 0s - loss: 0.0154 - accuracy: 0.9981\n",
            "Epoch 87: val_loss did not improve from 0.00000\n",
            "34/34 [==============================] - 2s 54ms/step - loss: 0.0151 - accuracy: 0.9981 - val_loss: 25.3506 - val_accuracy: 0.4000\n",
            "Epoch 88/200\n",
            "34/34 [==============================] - ETA: 0s - loss: 0.0034 - accuracy: 1.0000\n",
            "Epoch 88: val_loss did not improve from 0.00000\n",
            "34/34 [==============================] - 2s 56ms/step - loss: 0.0034 - accuracy: 1.0000 - val_loss: 30.0091 - val_accuracy: 0.3667\n",
            "Epoch 89/200\n",
            "33/34 [============================>.] - ETA: 0s - loss: 0.0058 - accuracy: 0.9981\n",
            "Epoch 89: val_loss did not improve from 0.00000\n",
            "34/34 [==============================] - 2s 57ms/step - loss: 0.0056 - accuracy: 0.9981 - val_loss: 8.7449 - val_accuracy: 0.6333\n",
            "Epoch 90/200\n",
            "34/34 [==============================] - ETA: 0s - loss: 7.2898e-04 - accuracy: 1.0000\n",
            "Epoch 90: val_loss did not improve from 0.00000\n",
            "34/34 [==============================] - 2s 57ms/step - loss: 7.2898e-04 - accuracy: 1.0000 - val_loss: 9.1621 - val_accuracy: 0.6500\n",
            "Epoch 91/200\n",
            "33/34 [============================>.] - ETA: 0s - loss: 5.2265e-04 - accuracy: 1.0000\n",
            "Epoch 91: val_loss did not improve from 0.00000\n",
            "34/34 [==============================] - 2s 56ms/step - loss: 5.2356e-04 - accuracy: 1.0000 - val_loss: 8.8478 - val_accuracy: 0.6667\n",
            "Epoch 92/200\n",
            "34/34 [==============================] - ETA: 0s - loss: 2.2252e-04 - accuracy: 1.0000\n",
            "Epoch 92: val_loss did not improve from 0.00000\n",
            "34/34 [==============================] - 2s 55ms/step - loss: 2.2252e-04 - accuracy: 1.0000 - val_loss: 8.1270 - val_accuracy: 0.6667\n",
            "Epoch 93/200\n",
            "33/34 [============================>.] - ETA: 0s - loss: 6.5235e-04 - accuracy: 1.0000\n",
            "Epoch 93: val_loss did not improve from 0.00000\n",
            "34/34 [==============================] - 2s 55ms/step - loss: 6.3886e-04 - accuracy: 1.0000 - val_loss: 2.2183 - val_accuracy: 0.8833\n",
            "Epoch 94/200\n",
            "34/34 [==============================] - ETA: 0s - loss: 7.3592e-05 - accuracy: 1.0000\n",
            "Epoch 94: val_loss did not improve from 0.00000\n",
            "34/34 [==============================] - 2s 56ms/step - loss: 7.3592e-05 - accuracy: 1.0000 - val_loss: 1.6415 - val_accuracy: 0.9167\n",
            "Epoch 95/200\n",
            "34/34 [==============================] - ETA: 0s - loss: 0.0041 - accuracy: 0.9963\n",
            "Epoch 95: val_loss did not improve from 0.00000\n",
            "34/34 [==============================] - 2s 56ms/step - loss: 0.0041 - accuracy: 0.9963 - val_loss: 4.7489 - val_accuracy: 0.8000\n",
            "Epoch 96/200\n",
            "34/34 [==============================] - ETA: 0s - loss: 4.6241e-04 - accuracy: 1.0000\n",
            "Epoch 96: val_loss did not improve from 0.00000\n",
            "34/34 [==============================] - 2s 56ms/step - loss: 4.6241e-04 - accuracy: 1.0000 - val_loss: 5.0150 - val_accuracy: 0.8167\n",
            "Epoch 97/200\n",
            "33/34 [============================>.] - ETA: 0s - loss: 3.9772e-05 - accuracy: 1.0000\n",
            "Epoch 97: val_loss did not improve from 0.00000\n",
            "34/34 [==============================] - 2s 58ms/step - loss: 3.8918e-05 - accuracy: 1.0000 - val_loss: 4.0906 - val_accuracy: 0.8333\n",
            "Epoch 98/200\n",
            "34/34 [==============================] - ETA: 0s - loss: 1.2722e-04 - accuracy: 1.0000\n",
            "Epoch 98: val_loss did not improve from 0.00000\n",
            "34/34 [==============================] - 2s 55ms/step - loss: 1.2722e-04 - accuracy: 1.0000 - val_loss: 3.5061 - val_accuracy: 0.8500\n",
            "Epoch 99/200\n",
            "34/34 [==============================] - ETA: 0s - loss: 2.9370e-04 - accuracy: 1.0000\n",
            "Epoch 99: val_loss did not improve from 0.00000\n",
            "34/34 [==============================] - 2s 55ms/step - loss: 2.9370e-04 - accuracy: 1.0000 - val_loss: 3.3965 - val_accuracy: 0.8333\n",
            "Epoch 100/200\n",
            "33/34 [============================>.] - ETA: 0s - loss: 0.0126 - accuracy: 0.9981\n",
            "Epoch 100: val_loss did not improve from 0.00000\n",
            "34/34 [==============================] - 2s 55ms/step - loss: 0.0124 - accuracy: 0.9981 - val_loss: 6.3271 - val_accuracy: 0.6833\n",
            "Epoch 101/200\n",
            "33/34 [============================>.] - ETA: 0s - loss: 0.0138 - accuracy: 0.9962\n",
            "Epoch 101: val_loss did not improve from 0.00000\n",
            "34/34 [==============================] - 2s 57ms/step - loss: 0.0136 - accuracy: 0.9963 - val_loss: 1.0341 - val_accuracy: 0.9333\n",
            "Epoch 102/200\n",
            "34/34 [==============================] - ETA: 0s - loss: 9.6031e-04 - accuracy: 1.0000\n",
            "Epoch 102: val_loss did not improve from 0.00000\n",
            "34/34 [==============================] - 2s 57ms/step - loss: 9.6031e-04 - accuracy: 1.0000 - val_loss: 0.2484 - val_accuracy: 0.9833\n",
            "Epoch 103/200\n",
            "34/34 [==============================] - ETA: 0s - loss: 0.0011 - accuracy: 1.0000\n",
            "Epoch 103: val_loss did not improve from 0.00000\n",
            "34/34 [==============================] - 2s 55ms/step - loss: 0.0011 - accuracy: 1.0000 - val_loss: 1.2545e-04 - val_accuracy: 1.0000\n",
            "Epoch 104/200\n",
            "33/34 [============================>.] - ETA: 0s - loss: 2.9467e-05 - accuracy: 1.0000\n",
            "Epoch 104: val_loss did not improve from 0.00000\n",
            "34/34 [==============================] - 2s 55ms/step - loss: 2.8813e-05 - accuracy: 1.0000 - val_loss: 0.0000e+00 - val_accuracy: 1.0000\n",
            "Epoch 105/200\n",
            "33/34 [============================>.] - ETA: 0s - loss: 6.7161e-05 - accuracy: 1.0000\n",
            "Epoch 105: val_loss did not improve from 0.00000\n",
            "34/34 [==============================] - 2s 55ms/step - loss: 6.5693e-05 - accuracy: 1.0000 - val_loss: 0.0000e+00 - val_accuracy: 1.0000\n",
            "Epoch 106/200\n",
            "33/34 [============================>.] - ETA: 0s - loss: 3.5538e-05 - accuracy: 1.0000\n",
            "Epoch 106: val_loss did not improve from 0.00000\n",
            "34/34 [==============================] - 2s 56ms/step - loss: 3.4752e-05 - accuracy: 1.0000 - val_loss: 0.0000e+00 - val_accuracy: 1.0000\n",
            "Epoch 107/200\n",
            "33/34 [============================>.] - ETA: 0s - loss: 1.1142e-04 - accuracy: 1.0000\n",
            "Epoch 107: val_loss did not improve from 0.00000\n",
            "34/34 [==============================] - 2s 57ms/step - loss: 1.0897e-04 - accuracy: 1.0000 - val_loss: 0.0000e+00 - val_accuracy: 1.0000\n",
            "Epoch 108/200\n",
            "34/34 [==============================] - ETA: 0s - loss: 1.2329e-04 - accuracy: 1.0000\n",
            "Epoch 108: val_loss did not improve from 0.00000\n",
            "34/34 [==============================] - 2s 57ms/step - loss: 1.2329e-04 - accuracy: 1.0000 - val_loss: 0.0000e+00 - val_accuracy: 1.0000\n",
            "Epoch 109/200\n",
            "34/34 [==============================] - ETA: 0s - loss: 0.0135 - accuracy: 0.9981\n",
            "Epoch 109: val_loss did not improve from 0.00000\n",
            "34/34 [==============================] - 2s 56ms/step - loss: 0.0135 - accuracy: 0.9981 - val_loss: 4.5572 - val_accuracy: 0.6500\n",
            "Epoch 110/200\n",
            "34/34 [==============================] - ETA: 0s - loss: 0.1739 - accuracy: 0.9778\n",
            "Epoch 110: val_loss did not improve from 0.00000\n",
            "34/34 [==============================] - 2s 55ms/step - loss: 0.1739 - accuracy: 0.9778 - val_loss: 64.8806 - val_accuracy: 0.3333\n",
            "Epoch 111/200\n",
            "33/34 [============================>.] - ETA: 0s - loss: 0.0116 - accuracy: 0.9962\n",
            "Epoch 111: val_loss did not improve from 0.00000\n",
            "34/34 [==============================] - 2s 55ms/step - loss: 0.0114 - accuracy: 0.9963 - val_loss: 66.9081 - val_accuracy: 0.3333\n",
            "Epoch 112/200\n",
            "33/34 [============================>.] - ETA: 0s - loss: 0.0232 - accuracy: 0.9962\n",
            "Epoch 112: val_loss did not improve from 0.00000\n",
            "34/34 [==============================] - 2s 56ms/step - loss: 0.0230 - accuracy: 0.9963 - val_loss: 46.3853 - val_accuracy: 0.3333\n",
            "Epoch 113/200\n",
            "34/34 [==============================] - ETA: 0s - loss: 7.6309e-04 - accuracy: 1.0000\n",
            "Epoch 113: val_loss did not improve from 0.00000\n",
            "34/34 [==============================] - 2s 56ms/step - loss: 7.6309e-04 - accuracy: 1.0000 - val_loss: 49.9391 - val_accuracy: 0.3333\n",
            "Epoch 114/200\n",
            "33/34 [============================>.] - ETA: 0s - loss: 7.4318e-04 - accuracy: 1.0000\n",
            "Epoch 114: val_loss did not improve from 0.00000\n",
            "34/34 [==============================] - 2s 55ms/step - loss: 7.3214e-04 - accuracy: 1.0000 - val_loss: 50.9036 - val_accuracy: 0.3333\n",
            "Epoch 115/200\n",
            "34/34 [==============================] - ETA: 0s - loss: 3.1174e-04 - accuracy: 1.0000\n",
            "Epoch 115: val_loss did not improve from 0.00000\n",
            "34/34 [==============================] - 2s 55ms/step - loss: 3.1174e-04 - accuracy: 1.0000 - val_loss: 50.6552 - val_accuracy: 0.3333\n",
            "Epoch 116/200\n",
            "33/34 [============================>.] - ETA: 0s - loss: 0.0018 - accuracy: 0.9981\n",
            "Epoch 116: val_loss did not improve from 0.00000\n",
            "34/34 [==============================] - 2s 55ms/step - loss: 0.0018 - accuracy: 0.9981 - val_loss: 49.7646 - val_accuracy: 0.3333\n",
            "Epoch 117/200\n",
            "34/34 [==============================] - ETA: 0s - loss: 2.0148e-04 - accuracy: 1.0000\n",
            "Epoch 117: val_loss did not improve from 0.00000\n",
            "34/34 [==============================] - 2s 55ms/step - loss: 2.0148e-04 - accuracy: 1.0000 - val_loss: 48.6997 - val_accuracy: 0.3333\n",
            "Epoch 118/200\n",
            "33/34 [============================>.] - ETA: 0s - loss: 2.8010e-04 - accuracy: 1.0000\n",
            "Epoch 118: val_loss did not improve from 0.00000\n",
            "34/34 [==============================] - 2s 56ms/step - loss: 2.7395e-04 - accuracy: 1.0000 - val_loss: 47.5580 - val_accuracy: 0.3333\n",
            "Epoch 119/200\n",
            "34/34 [==============================] - ETA: 0s - loss: 4.4943e-05 - accuracy: 1.0000\n",
            "Epoch 119: val_loss did not improve from 0.00000\n",
            "34/34 [==============================] - 2s 57ms/step - loss: 4.4943e-05 - accuracy: 1.0000 - val_loss: 45.8712 - val_accuracy: 0.3333\n",
            "Epoch 120/200\n",
            "33/34 [============================>.] - ETA: 0s - loss: 6.9624e-05 - accuracy: 1.0000\n",
            "Epoch 120: val_loss did not improve from 0.00000\n",
            "34/34 [==============================] - 2s 55ms/step - loss: 9.7909e-04 - accuracy: 1.0000 - val_loss: 43.5545 - val_accuracy: 0.3333\n",
            "Epoch 121/200\n",
            "33/34 [============================>.] - ETA: 0s - loss: 3.6989e-05 - accuracy: 1.0000\n",
            "Epoch 121: val_loss did not improve from 0.00000\n",
            "34/34 [==============================] - 2s 56ms/step - loss: 3.6303e-05 - accuracy: 1.0000 - val_loss: 36.8085 - val_accuracy: 0.3333\n",
            "Epoch 122/200\n",
            "33/34 [============================>.] - ETA: 0s - loss: 9.7801e-05 - accuracy: 1.0000\n",
            "Epoch 122: val_loss did not improve from 0.00000\n",
            "34/34 [==============================] - 2s 55ms/step - loss: 9.6119e-05 - accuracy: 1.0000 - val_loss: 33.2682 - val_accuracy: 0.3500\n",
            "Epoch 123/200\n",
            "34/34 [==============================] - ETA: 0s - loss: 5.3632e-05 - accuracy: 1.0000\n",
            "Epoch 123: val_loss did not improve from 0.00000\n",
            "34/34 [==============================] - 2s 56ms/step - loss: 5.3632e-05 - accuracy: 1.0000 - val_loss: 29.6870 - val_accuracy: 0.3500\n",
            "Epoch 124/200\n",
            "34/34 [==============================] - ETA: 0s - loss: 0.0105 - accuracy: 0.9963\n",
            "Epoch 124: val_loss did not improve from 0.00000\n",
            "34/34 [==============================] - 2s 55ms/step - loss: 0.0105 - accuracy: 0.9963 - val_loss: 17.2059 - val_accuracy: 0.4833\n",
            "Epoch 125/200\n",
            "34/34 [==============================] - ETA: 0s - loss: 0.2209 - accuracy: 0.9889\n",
            "Epoch 125: val_loss did not improve from 0.00000\n",
            "34/34 [==============================] - 2s 56ms/step - loss: 0.2209 - accuracy: 0.9889 - val_loss: 15.0067 - val_accuracy: 0.5167\n",
            "Epoch 126/200\n",
            "33/34 [============================>.] - ETA: 0s - loss: 0.0528 - accuracy: 0.9905\n",
            "Epoch 126: val_loss did not improve from 0.00000\n",
            "34/34 [==============================] - 2s 56ms/step - loss: 0.0526 - accuracy: 0.9907 - val_loss: 188.8219 - val_accuracy: 0.3333\n",
            "Epoch 127/200\n",
            "34/34 [==============================] - ETA: 0s - loss: 0.1945 - accuracy: 0.9444\n",
            "Epoch 127: val_loss did not improve from 0.00000\n",
            "34/34 [==============================] - 2s 55ms/step - loss: 0.1945 - accuracy: 0.9444 - val_loss: 10.4595 - val_accuracy: 0.3333\n",
            "Epoch 128/200\n",
            "34/34 [==============================] - ETA: 0s - loss: 0.0076 - accuracy: 0.9981\n",
            "Epoch 128: val_loss did not improve from 0.00000\n",
            "34/34 [==============================] - 2s 55ms/step - loss: 0.0076 - accuracy: 0.9981 - val_loss: 17.3442 - val_accuracy: 0.6500\n",
            "Epoch 129/200\n",
            "34/34 [==============================] - ETA: 0s - loss: 0.0051 - accuracy: 0.9963\n",
            "Epoch 129: val_loss did not improve from 0.00000\n",
            "34/34 [==============================] - 2s 55ms/step - loss: 0.0051 - accuracy: 0.9963 - val_loss: 0.7247 - val_accuracy: 0.6667\n",
            "Epoch 130/200\n",
            "33/34 [============================>.] - ETA: 0s - loss: 0.0296 - accuracy: 0.9867\n",
            "Epoch 130: val_loss did not improve from 0.00000\n",
            "34/34 [==============================] - 2s 56ms/step - loss: 0.0369 - accuracy: 0.9833 - val_loss: 56.6379 - val_accuracy: 0.6500\n",
            "Epoch 131/200\n",
            "33/34 [============================>.] - ETA: 0s - loss: 0.0090 - accuracy: 0.9962\n",
            "Epoch 131: val_loss did not improve from 0.00000\n",
            "34/34 [==============================] - 2s 55ms/step - loss: 0.0088 - accuracy: 0.9963 - val_loss: 60.3632 - val_accuracy: 0.6500\n",
            "Epoch 132/200\n",
            "33/34 [============================>.] - ETA: 0s - loss: 0.0016 - accuracy: 1.0000\n",
            "Epoch 132: val_loss did not improve from 0.00000\n",
            "34/34 [==============================] - 2s 57ms/step - loss: 0.0016 - accuracy: 1.0000 - val_loss: 60.5705 - val_accuracy: 0.6500\n"
          ]
        },
        {
          "output_type": "execute_result",
          "data": {
            "text/plain": [
              "<keras.src.callbacks.History at 0x7d6f4018e9b0>"
            ]
          },
          "metadata": {},
          "execution_count": 9
        }
      ],
      "source": [
        "model_path = \"/content/drive/MyDrive/Machine_Learning/Research/Model/mobile.h5\"\n",
        "csv_path = \"/content/drive/MyDrive/Machine_Learning/Research/Model/mobile.log\"\n",
        "callbacks = [\n",
        "        ModelCheckpoint(model_path, verbose=1, save_best_only=True),\n",
        "        CSVLogger(csv_path),\n",
        "        TensorBoard(),\n",
        "        EarlyStopping(monitor='val_loss', patience=50, restore_best_weights=False),\n",
        "    ]\n",
        "\n",
        "model.fit(\n",
        "    train_ds,\n",
        "    epochs=200,\n",
        "    validation_data=validation_ds,\n",
        "    callbacks=callbacks,\n",
        "    shuffle=False\n",
        ")"
      ]
    },
    {
      "cell_type": "code",
      "source": [
        "model = tf.keras.models.load_model('/content/drive/MyDrive/Machine_Learning/Research/Model/mobile.h5')"
      ],
      "metadata": {
        "id": "qIDwBXooZgSB"
      },
      "execution_count": null,
      "outputs": []
    },
    {
      "cell_type": "code",
      "source": [
        "# Remove the last layer of the model\n",
        "feature_extractor = Model(inputs=model.input, outputs=model.layers[-2].output)\n",
        "\n",
        "# Extract features from the test dataset\n",
        "test_features = feature_extractor.predict(validation_ds)\n",
        "\n",
        "num_clusters = 4  # specify the number of clusters\n",
        "kmeans = KMeans(n_clusters=num_clusters)\n",
        "clusters = kmeans.fit_predict(test_features)\n",
        "\n",
        "# clusters variable now contains the cluster labels for each image in the test dataset\n",
        "\n",
        "kmeans.labels_"
      ],
      "metadata": {
        "id": "k9C5qWUwVdmY",
        "colab": {
          "base_uri": "https://localhost:8080/"
        },
        "outputId": "2f72c63f-4456-45d7-ce3f-6a539505a728"
      },
      "execution_count": null,
      "outputs": [
        {
          "output_type": "stream",
          "name": "stdout",
          "text": [
            "4/4 [==============================] - 1s 11ms/step\n"
          ]
        },
        {
          "output_type": "stream",
          "name": "stderr",
          "text": [
            "/usr/local/lib/python3.10/dist-packages/sklearn/cluster/_kmeans.py:870: FutureWarning: The default value of `n_init` will change from 10 to 'auto' in 1.4. Set the value of `n_init` explicitly to suppress the warning\n",
            "  warnings.warn(\n"
          ]
        },
        {
          "output_type": "execute_result",
          "data": {
            "text/plain": [
              "array([1, 0, 2, 0, 2, 1, 1, 1, 0, 1, 1, 0, 1, 2, 0, 0, 1, 0, 1, 2, 0, 2,\n",
              "       1, 1, 0, 0, 0, 2, 0, 2, 0, 0, 1, 3, 0, 2, 0, 3, 2, 1, 1, 0, 2, 1,\n",
              "       2, 2, 2, 1, 0, 2, 0, 1, 2, 1, 0, 3, 1, 1, 2, 3], dtype=int32)"
            ]
          },
          "metadata": {},
          "execution_count": 20
        }
      ]
    },
    {
      "cell_type": "code",
      "source": [
        "data_dir = '/content/drive/MyDrive/Machine_Learning/Research/ImageCLEFmedical  GANs 2024 - Task2 test/generated_images'\n",
        "data_dir = pathlib.Path(data_dir)"
      ],
      "metadata": {
        "id": "pQNatHV66j07"
      },
      "execution_count": null,
      "outputs": []
    },
    {
      "cell_type": "code",
      "source": [
        "image_count = len(list(data_dir.glob('*.*')))\n",
        "\n",
        "# Create a dataset of image file paths\n",
        "list_ds = tf.data.Dataset.list_files(str(data_dir/'*'), shuffle=False)\n",
        "list_ds = list_ds.shuffle(image_count, reshuffle_each_iteration=False)"
      ],
      "metadata": {
        "id": "EMtzovvq6j08"
      },
      "execution_count": null,
      "outputs": []
    },
    {
      "cell_type": "code",
      "source": [
        "def process_path(file_path):\n",
        "    img = tf.io.read_file(file_path)\n",
        "    img = tf.image.decode_png(img, channels=1)  # Use decode_png if images are png format\n",
        "    img = tf.image.resize(img, [256, 256])\n",
        "    img = tf.expand_dims(img, axis=-1)  # Add a channel dimension\n",
        "    img = (img / 255.0)  # Normalize pixels to 0,1\n",
        "    return img\n"
      ],
      "metadata": {
        "id": "UAqclNRW6j09"
      },
      "execution_count": null,
      "outputs": []
    },
    {
      "cell_type": "code",
      "source": [
        "new_dataset = list_ds.map(process_path, num_parallel_calls=tf.data.AUTOTUNE)\n"
      ],
      "metadata": {
        "id": "JWA-ih5w6j09"
      },
      "execution_count": null,
      "outputs": []
    },
    {
      "cell_type": "code",
      "source": [
        "# Remove the last layer of the model\n",
        "feature_extractor = Model(inputs=model.input, outputs=model.layers[-2].output)\n",
        "\n",
        "# Batch the dataset\n",
        "new_dataset = new_dataset.batch(16)  # Replace 16 with your desired batch size\n",
        "\n",
        "# Extract features from the new dataset\n",
        "new_features = feature_extractor.predict(new_dataset)\n",
        "\n",
        "# Perform clustering on the extracted features\n",
        "num_clusters = 4  # specify the number of clusters\n",
        "kmeans = KMeans(n_clusters=num_clusters)\n",
        "new_clusters = kmeans.fit_predict(new_features)\n",
        "\n",
        "# new_clusters variable now contains the cluster labels for each image in the new dataset\n",
        "print(kmeans.labels_)\n"
      ],
      "metadata": {
        "id": "Fg_V3v2i6j09",
        "colab": {
          "base_uri": "https://localhost:8080/"
        },
        "outputId": "a64c7728-4752-4069-9f0a-629cc33a343f"
      },
      "execution_count": null,
      "outputs": [
        {
          "output_type": "stream",
          "name": "stdout",
          "text": [
            "190/190 [==============================] - 29s 148ms/step\n"
          ]
        },
        {
          "output_type": "stream",
          "name": "stderr",
          "text": [
            "/usr/local/lib/python3.10/dist-packages/sklearn/cluster/_kmeans.py:870: FutureWarning: The default value of `n_init` will change from 10 to 'auto' in 1.4. Set the value of `n_init` explicitly to suppress the warning\n",
            "  warnings.warn(\n"
          ]
        },
        {
          "output_type": "stream",
          "name": "stdout",
          "text": [
            "[1 1 0 ... 3 1 1]\n"
          ]
        }
      ]
    },
    {
      "cell_type": "code",
      "source": [
        "print(kmeans.labels_[:20])"
      ],
      "metadata": {
        "id": "RSaC689P_B0G",
        "colab": {
          "base_uri": "https://localhost:8080/"
        },
        "outputId": "cb06d3c9-fd24-480e-e2bc-5c4c509285b0"
      },
      "execution_count": null,
      "outputs": [
        {
          "output_type": "stream",
          "name": "stdout",
          "text": [
            "[1 1 0 0 0 3 0 1 1 3 2 1 1 2 1 0 2 3 3 1]\n"
          ]
        }
      ]
    },
    {
      "cell_type": "code",
      "source": [
        "# Load the provided run.csv file\n",
        "provided_run_path = '/content/drive/MyDrive/Machine_Learning/Research/ImageCLEFmedical  GANs 2024 - Task2 test/mobilenet.csv'\n",
        "\n",
        "# Read the file without header\n",
        "provided_run_df = pd.read_csv(provided_run_path, header=None, names=['data'])\n",
        "\n",
        "# Map figure IDs to cluster labels\n",
        "figure_ids = provided_run_df['data'].str.split('\\t', expand=True)[0]  # Extract figure IDs\n",
        "cluster_mapping = dict(zip(figure_ids, new_clusters + 1))  # Adding 1 to clusters to match the required labels [1, 2, 3, 4]\n",
        "\n",
        "# Create a DataFrame with image IDs and corresponding cluster mappings\n",
        "result_df = pd.DataFrame({'ImageID': figure_ids, 'Cluster': [cluster_mapping[x] for x in figure_ids]})\n",
        "\n",
        "# Save the DataFrame to the same CSV file (overwrite the existing file)\n",
        "result_df.to_csv(provided_run_path, index=False, header=False)\n"
      ],
      "metadata": {
        "id": "CQrY9GWA9Ior"
      },
      "execution_count": null,
      "outputs": []
    },
    {
      "cell_type": "code",
      "source": [],
      "metadata": {
        "id": "l0SR5LBABrYD"
      },
      "execution_count": null,
      "outputs": []
    }
  ]
}