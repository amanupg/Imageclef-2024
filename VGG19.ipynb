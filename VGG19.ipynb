{
  "nbformat": 4,
  "nbformat_minor": 0,
  "metadata": {
    "colab": {
      "provenance": [],
      "machine_shape": "hm",
      "gpuType": "A100",
      "authorship_tag": "ABX9TyOVfzOKSOnT6tYmbQVRVDRU",
      "include_colab_link": true
    },
    "kernelspec": {
      "name": "python3",
      "display_name": "Python 3"
    },
    "language_info": {
      "name": "python"
    },
    "accelerator": "GPU"
  },
  "cells": [
    {
      "cell_type": "markdown",
      "metadata": {
        "id": "view-in-github",
        "colab_type": "text"
      },
      "source": [
        "<a href=\"https://colab.research.google.com/github/amanupg/Imageclef-2024/blob/main/VGG19.ipynb\" target=\"_parent\"><img src=\"https://colab.research.google.com/assets/colab-badge.svg\" alt=\"Open In Colab\"/></a>"
      ]
    },
    {
      "cell_type": "code",
      "execution_count": null,
      "metadata": {
        "id": "IQOG4I2rqI3L"
      },
      "outputs": [],
      "source": [
        "import tensorflow as tf\n",
        "from tensorflow.keras.applications import InceptionV3, VGG19, ResNet50, Xception, EfficientNetB0, MobileNetV2\n",
        "import matplotlib.pyplot as plt\n",
        "import numpy as np\n",
        "import tensorflow.keras as keras\n",
        "from tensorflow.keras.layers import Dense, GlobalAveragePooling2D\n",
        "from tensorflow.keras.models import Model\n",
        "import pandas as pd\n",
        "import pathlib\n",
        "from sklearn.cluster import KMeans\n",
        "from tensorflow.keras.layers import Conv2D, BatchNormalization, Activation, MaxPooling2D, Conv2DTranspose, Concatenate, Input\n",
        "from tensorflow.keras.optimizers import Adam\n",
        "from tensorflow.keras.callbacks import ModelCheckpoint, CSVLogger, ReduceLROnPlateau, EarlyStopping, TensorBoard"
      ]
    },
    {
      "cell_type": "code",
      "execution_count": null,
      "metadata": {
        "colab": {
          "base_uri": "https://localhost:8080/"
        },
        "id": "BweFKiIQqLJu",
        "outputId": "4f37e30e-90e2-4aff-8193-b773d7a81e1d"
      },
      "outputs": [
        {
          "output_type": "stream",
          "name": "stdout",
          "text": [
            "Mounted at /content/drive\n"
          ]
        }
      ],
      "source": [
        "from google.colab import drive\n",
        "drive.mount('/content/drive')"
      ]
    },
    {
      "cell_type": "code",
      "execution_count": null,
      "metadata": {
        "colab": {
          "base_uri": "https://localhost:8080/"
        },
        "id": "U73RqKasqZtS",
        "outputId": "7e2c7d58-8146-4eeb-9f23-aa82394692fc"
      },
      "outputs": [
        {
          "output_type": "stream",
          "name": "stdout",
          "text": [
            "Downloading data from https://storage.googleapis.com/tensorflow/keras-applications/vgg19/vgg19_weights_tf_dim_ordering_tf_kernels_notop.h5\n",
            "80134624/80134624 [==============================] - 0s 0us/step\n"
          ]
        }
      ],
      "source": [
        "base_model = VGG19(weights='imagenet', include_top=False)"
      ]
    },
    {
      "cell_type": "code",
      "execution_count": null,
      "metadata": {
        "id": "casiuFIEqdW3"
      },
      "outputs": [],
      "source": [
        "input_shape = (256, 256, 1)  # Grayscale images\n",
        "input_layer = tf.keras.layers.Input(shape=input_shape)\n",
        "gray_convert = tf.keras.layers.Lambda(lambda x: tf.image.grayscale_to_rgb(x))(input_layer)\n",
        "\n",
        "# Pass through InceptionV3 base model\n",
        "x = base_model(gray_convert)\n",
        "\n",
        "# Add custom classification head\n",
        "x = GlobalAveragePooling2D()(x)\n",
        "x = Dense(1024, activation='relu')(x)\n",
        "predictions = Dense(3, activation='softmax')(x)"
      ]
    },
    {
      "cell_type": "code",
      "execution_count": null,
      "metadata": {
        "id": "CpmZQrGwqqci"
      },
      "outputs": [],
      "source": [
        "model = Model(inputs=input_layer, outputs=predictions)"
      ]
    },
    {
      "cell_type": "code",
      "execution_count": null,
      "metadata": {
        "id": "O05CUeQ4q3Sy"
      },
      "outputs": [],
      "source": [
        "model.compile(optimizer='adam',\n",
        "              loss='categorical_crossentropy',\n",
        "              metrics=['accuracy'])"
      ]
    },
    {
      "cell_type": "code",
      "execution_count": null,
      "metadata": {
        "colab": {
          "base_uri": "https://localhost:8080/"
        },
        "id": "b6l79qD_q9tB",
        "outputId": "602c6448-ee91-4ef5-92d1-678ecfa1152e"
      },
      "outputs": [
        {
          "output_type": "stream",
          "name": "stdout",
          "text": [
            "Found 540 files belonging to 3 classes.\n",
            "Found 60 files belonging to 3 classes.\n"
          ]
        }
      ],
      "source": [
        "train_ds = keras.utils.image_dataset_from_directory(\n",
        "    directory='/content/drive/MyDrive/Machine_Learning/Research/Train',\n",
        "    labels='inferred',\n",
        "    label_mode='int',\n",
        "    batch_size=16,\n",
        "    image_size=(256, 256),\n",
        "    color_mode='grayscale'\n",
        ")\n",
        "validation_ds = keras.utils.image_dataset_from_directory(\n",
        "    directory='/content/drive/MyDrive/Machine_Learning/Research/Test',\n",
        "    labels='inferred',\n",
        "    label_mode='int',\n",
        "    batch_size=16,\n",
        "    image_size=(256, 256),\n",
        "    color_mode='grayscale'\n",
        ")"
      ]
    },
    {
      "cell_type": "code",
      "execution_count": null,
      "metadata": {
        "id": "76wTzrU_sKIu"
      },
      "outputs": [],
      "source": [
        "def process(image, label):\n",
        "    image = tf.cast(image / 255, tf.float32)\n",
        "    label = tf.one_hot(label, depth=3)  # One-hot encode labels for 3 classes\n",
        "    return image, label\n",
        "\n",
        "\n",
        "train_ds = train_ds.map(process)\n",
        "validation_ds = validation_ds.map(process)"
      ]
    },
    {
      "cell_type": "code",
      "execution_count": null,
      "metadata": {
        "colab": {
          "base_uri": "https://localhost:8080/"
        },
        "id": "75gtIYPeo2aQ",
        "outputId": "5ab01020-f9cf-41ae-cbc9-ebd428938ddc"
      },
      "outputs": [
        {
          "output_type": "stream",
          "name": "stdout",
          "text": [
            "Epoch 1/200\n",
            "34/34 [==============================] - ETA: 0s - loss: 51.0038 - accuracy: 0.3204\n",
            "Epoch 1: val_loss improved from inf to 1.09727, saving model to /content/drive/MyDrive/Machine_Learning/Research/Model/vgg.h5\n"
          ]
        },
        {
          "output_type": "stream",
          "name": "stderr",
          "text": [
            "/usr/local/lib/python3.10/dist-packages/keras/src/engine/training.py:3103: UserWarning: You are saving your model as an HDF5 file via `model.save()`. This file format is considered legacy. We recommend using instead the native Keras format, e.g. `model.save('my_model.keras')`.\n",
            "  saving_api.save_model(\n"
          ]
        },
        {
          "output_type": "stream",
          "name": "stdout",
          "text": [
            "\b\b\b\b\b\b\b\b\b\b\b\b\b\b\b\b\b\b\b\b\b\b\b\b\b\b\b\b\b\b\b\b\b\b\b\b\b\b\b\b\b\b\b\b\b\b\b\b\b\b\b\b\b\b\b\b\b\b\b\b\b\b\b\b\b\b\b\b\b\b\b\b\b\b\b\b\b\b\b\b\b\b\b\r34/34 [==============================] - 34s 478ms/step - loss: 51.0038 - accuracy: 0.3204 - val_loss: 1.0973 - val_accuracy: 0.3333\n",
            "Epoch 2/200\n",
            "33/34 [============================>.] - ETA: 0s - loss: 1.1127 - accuracy: 0.3428\n",
            "Epoch 2: val_loss did not improve from 1.09727\n",
            "34/34 [==============================] - 3s 50ms/step - loss: 1.1123 - accuracy: 0.3426 - val_loss: 1.0996 - val_accuracy: 0.3333\n",
            "Epoch 3/200\n",
            "33/34 [============================>.] - ETA: 0s - loss: 1.0993 - accuracy: 0.2973\n",
            "Epoch 3: val_loss did not improve from 1.09727\n",
            "34/34 [==============================] - 2s 49ms/step - loss: 1.0995 - accuracy: 0.2926 - val_loss: 1.0987 - val_accuracy: 0.3333\n",
            "Epoch 4/200\n",
            "33/34 [============================>.] - ETA: 0s - loss: 1.0998 - accuracy: 0.2955\n",
            "Epoch 4: val_loss did not improve from 1.09727\n",
            "34/34 [==============================] - 2s 49ms/step - loss: 1.0998 - accuracy: 0.2944 - val_loss: 1.0986 - val_accuracy: 0.3333\n",
            "Epoch 5/200\n",
            "33/34 [============================>.] - ETA: 0s - loss: 1.0995 - accuracy: 0.2708\n",
            "Epoch 5: val_loss did not improve from 1.09727\n",
            "34/34 [==============================] - 2s 49ms/step - loss: 1.0995 - accuracy: 0.2667 - val_loss: 1.0986 - val_accuracy: 0.3333\n",
            "Epoch 6/200\n",
            "33/34 [============================>.] - ETA: 0s - loss: 1.0994 - accuracy: 0.3049\n",
            "Epoch 6: val_loss did not improve from 1.09727\n",
            "34/34 [==============================] - 2s 50ms/step - loss: 1.0994 - accuracy: 0.3037 - val_loss: 1.0987 - val_accuracy: 0.3333\n",
            "Epoch 7/200\n",
            "33/34 [============================>.] - ETA: 0s - loss: 1.0988 - accuracy: 0.3220\n",
            "Epoch 7: val_loss did not improve from 1.09727\n",
            "34/34 [==============================] - 2s 49ms/step - loss: 1.0989 - accuracy: 0.3167 - val_loss: 1.0986 - val_accuracy: 0.3333\n",
            "Epoch 8/200\n",
            "33/34 [============================>.] - ETA: 0s - loss: 1.0991 - accuracy: 0.3144\n",
            "Epoch 8: val_loss did not improve from 1.09727\n",
            "34/34 [==============================] - 2s 49ms/step - loss: 1.0991 - accuracy: 0.3130 - val_loss: 1.0986 - val_accuracy: 0.3333\n",
            "Epoch 9/200\n",
            "33/34 [============================>.] - ETA: 0s - loss: 1.0991 - accuracy: 0.2992\n",
            "Epoch 9: val_loss did not improve from 1.09727\n",
            "34/34 [==============================] - 2s 50ms/step - loss: 1.0991 - accuracy: 0.2963 - val_loss: 1.0986 - val_accuracy: 0.3333\n",
            "Epoch 10/200\n",
            "33/34 [============================>.] - ETA: 0s - loss: 1.0992 - accuracy: 0.2973\n",
            "Epoch 10: val_loss did not improve from 1.09727\n",
            "34/34 [==============================] - 2s 49ms/step - loss: 1.0992 - accuracy: 0.3019 - val_loss: 1.0986 - val_accuracy: 0.3333\n",
            "Epoch 11/200\n",
            "33/34 [============================>.] - ETA: 0s - loss: 1.0992 - accuracy: 0.3030\n",
            "Epoch 11: val_loss did not improve from 1.09727\n",
            "34/34 [==============================] - 2s 48ms/step - loss: 1.0992 - accuracy: 0.3037 - val_loss: 1.0986 - val_accuracy: 0.3333\n",
            "Epoch 12/200\n",
            "33/34 [============================>.] - ETA: 0s - loss: 1.0991 - accuracy: 0.2898\n",
            "Epoch 12: val_loss did not improve from 1.09727\n",
            "34/34 [==============================] - 2s 48ms/step - loss: 1.0991 - accuracy: 0.2907 - val_loss: 1.0986 - val_accuracy: 0.3333\n",
            "Epoch 13/200\n",
            "33/34 [============================>.] - ETA: 0s - loss: 1.0991 - accuracy: 0.2822\n",
            "Epoch 13: val_loss did not improve from 1.09727\n",
            "34/34 [==============================] - 2s 49ms/step - loss: 1.0991 - accuracy: 0.2833 - val_loss: 1.0986 - val_accuracy: 0.3333\n",
            "Epoch 14/200\n",
            "33/34 [============================>.] - ETA: 0s - loss: 1.0995 - accuracy: 0.3239\n",
            "Epoch 14: val_loss did not improve from 1.09727\n",
            "34/34 [==============================] - 2s 49ms/step - loss: 1.0995 - accuracy: 0.3204 - val_loss: 1.0986 - val_accuracy: 0.3333\n",
            "Epoch 15/200\n",
            "33/34 [============================>.] - ETA: 0s - loss: 1.0994 - accuracy: 0.3106\n",
            "Epoch 15: val_loss did not improve from 1.09727\n",
            "34/34 [==============================] - 2s 49ms/step - loss: 1.0993 - accuracy: 0.3167 - val_loss: 1.0986 - val_accuracy: 0.3333\n",
            "Epoch 16/200\n",
            "33/34 [============================>.] - ETA: 0s - loss: 1.0990 - accuracy: 0.3144\n",
            "Epoch 16: val_loss did not improve from 1.09727\n",
            "34/34 [==============================] - 2s 49ms/step - loss: 1.0989 - accuracy: 0.3148 - val_loss: 1.0986 - val_accuracy: 0.3333\n",
            "Epoch 17/200\n",
            "33/34 [============================>.] - ETA: 0s - loss: 1.0990 - accuracy: 0.3106\n",
            "Epoch 17: val_loss did not improve from 1.09727\n",
            "34/34 [==============================] - 2s 49ms/step - loss: 1.0990 - accuracy: 0.3093 - val_loss: 1.0986 - val_accuracy: 0.3333\n",
            "Epoch 18/200\n",
            "33/34 [============================>.] - ETA: 0s - loss: 1.0990 - accuracy: 0.3258\n",
            "Epoch 18: val_loss did not improve from 1.09727\n",
            "34/34 [==============================] - 2s 49ms/step - loss: 1.0989 - accuracy: 0.3259 - val_loss: 1.0986 - val_accuracy: 0.3333\n",
            "Epoch 19/200\n",
            "33/34 [============================>.] - ETA: 0s - loss: 1.0990 - accuracy: 0.3163\n",
            "Epoch 19: val_loss did not improve from 1.09727\n",
            "34/34 [==============================] - 2s 48ms/step - loss: 1.0990 - accuracy: 0.3167 - val_loss: 1.0986 - val_accuracy: 0.3333\n",
            "Epoch 20/200\n",
            "33/34 [============================>.] - ETA: 0s - loss: 1.0993 - accuracy: 0.2955\n",
            "Epoch 20: val_loss did not improve from 1.09727\n",
            "34/34 [==============================] - 2s 49ms/step - loss: 1.0993 - accuracy: 0.2963 - val_loss: 1.0986 - val_accuracy: 0.3333\n",
            "Epoch 21/200\n",
            "33/34 [============================>.] - ETA: 0s - loss: 1.0989 - accuracy: 0.3258\n",
            "Epoch 21: val_loss did not improve from 1.09727\n",
            "34/34 [==============================] - 2s 49ms/step - loss: 1.0989 - accuracy: 0.3259 - val_loss: 1.0986 - val_accuracy: 0.3333\n",
            "Epoch 22/200\n",
            "33/34 [============================>.] - ETA: 0s - loss: 1.0994 - accuracy: 0.2803\n",
            "Epoch 22: val_loss did not improve from 1.09727\n",
            "34/34 [==============================] - 2s 49ms/step - loss: 1.0994 - accuracy: 0.2833 - val_loss: 1.0986 - val_accuracy: 0.3333\n",
            "Epoch 23/200\n",
            "33/34 [============================>.] - ETA: 0s - loss: 1.0995 - accuracy: 0.2803\n",
            "Epoch 23: val_loss did not improve from 1.09727\n",
            "34/34 [==============================] - 2s 49ms/step - loss: 1.0994 - accuracy: 0.2833 - val_loss: 1.0986 - val_accuracy: 0.3333\n",
            "Epoch 24/200\n",
            "33/34 [============================>.] - ETA: 0s - loss: 1.0994 - accuracy: 0.2652\n",
            "Epoch 24: val_loss did not improve from 1.09727\n",
            "34/34 [==============================] - 2s 49ms/step - loss: 1.0995 - accuracy: 0.2648 - val_loss: 1.0986 - val_accuracy: 0.3333\n",
            "Epoch 25/200\n",
            "33/34 [============================>.] - ETA: 0s - loss: 1.0989 - accuracy: 0.3182\n",
            "Epoch 25: val_loss did not improve from 1.09727\n",
            "34/34 [==============================] - 2s 49ms/step - loss: 1.0990 - accuracy: 0.3130 - val_loss: 1.0986 - val_accuracy: 0.3333\n",
            "Epoch 26/200\n",
            "33/34 [============================>.] - ETA: 0s - loss: 1.0993 - accuracy: 0.2841\n",
            "Epoch 26: val_loss did not improve from 1.09727\n",
            "34/34 [==============================] - 2s 49ms/step - loss: 1.0992 - accuracy: 0.2870 - val_loss: 1.0986 - val_accuracy: 0.3333\n",
            "Epoch 27/200\n",
            "33/34 [============================>.] - ETA: 0s - loss: 1.0994 - accuracy: 0.2822\n",
            "Epoch 27: val_loss did not improve from 1.09727\n",
            "34/34 [==============================] - 2s 49ms/step - loss: 1.0994 - accuracy: 0.2796 - val_loss: 1.0986 - val_accuracy: 0.3333\n",
            "Epoch 28/200\n",
            "33/34 [============================>.] - ETA: 0s - loss: 1.0992 - accuracy: 0.2917\n",
            "Epoch 28: val_loss did not improve from 1.09727\n",
            "34/34 [==============================] - 2s 49ms/step - loss: 1.0992 - accuracy: 0.2926 - val_loss: 1.0986 - val_accuracy: 0.3333\n",
            "Epoch 29/200\n",
            "33/34 [============================>.] - ETA: 0s - loss: 1.0990 - accuracy: 0.2992\n",
            "Epoch 29: val_loss did not improve from 1.09727\n",
            "34/34 [==============================] - 2s 48ms/step - loss: 1.0990 - accuracy: 0.3000 - val_loss: 1.0986 - val_accuracy: 0.3333\n",
            "Epoch 30/200\n",
            "33/34 [============================>.] - ETA: 0s - loss: 1.0990 - accuracy: 0.2973\n",
            "Epoch 30: val_loss did not improve from 1.09727\n",
            "34/34 [==============================] - 2s 54ms/step - loss: 1.0990 - accuracy: 0.2981 - val_loss: 1.0986 - val_accuracy: 0.3333\n",
            "Epoch 31/200\n",
            "33/34 [============================>.] - ETA: 0s - loss: 1.0989 - accuracy: 0.3125\n",
            "Epoch 31: val_loss did not improve from 1.09727\n",
            "34/34 [==============================] - 2s 49ms/step - loss: 1.0989 - accuracy: 0.3111 - val_loss: 1.0986 - val_accuracy: 0.3333\n",
            "Epoch 32/200\n",
            "34/34 [==============================] - ETA: 0s - loss: 1.0991 - accuracy: 0.3093\n",
            "Epoch 32: val_loss did not improve from 1.09727\n",
            "34/34 [==============================] - 2s 49ms/step - loss: 1.0991 - accuracy: 0.3093 - val_loss: 1.0986 - val_accuracy: 0.3333\n",
            "Epoch 33/200\n",
            "33/34 [============================>.] - ETA: 0s - loss: 1.0992 - accuracy: 0.3011\n",
            "Epoch 33: val_loss did not improve from 1.09727\n",
            "34/34 [==============================] - 2s 49ms/step - loss: 1.0992 - accuracy: 0.3019 - val_loss: 1.0986 - val_accuracy: 0.3333\n",
            "Epoch 34/200\n",
            "33/34 [============================>.] - ETA: 0s - loss: 1.0988 - accuracy: 0.2936\n",
            "Epoch 34: val_loss did not improve from 1.09727\n",
            "34/34 [==============================] - 2s 49ms/step - loss: 1.0988 - accuracy: 0.2889 - val_loss: 1.0986 - val_accuracy: 0.3333\n",
            "Epoch 35/200\n",
            "33/34 [============================>.] - ETA: 0s - loss: 1.0991 - accuracy: 0.3258\n",
            "Epoch 35: val_loss did not improve from 1.09727\n",
            "34/34 [==============================] - 2s 49ms/step - loss: 1.0990 - accuracy: 0.3296 - val_loss: 1.0986 - val_accuracy: 0.3333\n",
            "Epoch 36/200\n",
            "33/34 [============================>.] - ETA: 0s - loss: 1.0996 - accuracy: 0.2898\n",
            "Epoch 36: val_loss did not improve from 1.09727\n",
            "34/34 [==============================] - 2s 48ms/step - loss: 1.0996 - accuracy: 0.2852 - val_loss: 1.0986 - val_accuracy: 0.3333\n",
            "Epoch 37/200\n",
            "33/34 [============================>.] - ETA: 0s - loss: 1.0990 - accuracy: 0.2860\n",
            "Epoch 37: val_loss did not improve from 1.09727\n",
            "34/34 [==============================] - 2s 48ms/step - loss: 1.0990 - accuracy: 0.2870 - val_loss: 1.0986 - val_accuracy: 0.3333\n",
            "Epoch 38/200\n",
            "33/34 [============================>.] - ETA: 0s - loss: 1.0992 - accuracy: 0.3125\n",
            "Epoch 38: val_loss did not improve from 1.09727\n",
            "34/34 [==============================] - 2s 49ms/step - loss: 1.0992 - accuracy: 0.3130 - val_loss: 1.0986 - val_accuracy: 0.3333\n",
            "Epoch 39/200\n",
            "33/34 [============================>.] - ETA: 0s - loss: 1.0994 - accuracy: 0.3030\n",
            "Epoch 39: val_loss did not improve from 1.09727\n",
            "34/34 [==============================] - 2s 49ms/step - loss: 1.0993 - accuracy: 0.3056 - val_loss: 1.0986 - val_accuracy: 0.3333\n",
            "Epoch 40/200\n",
            "34/34 [==============================] - ETA: 0s - loss: 1.0990 - accuracy: 0.2926\n",
            "Epoch 40: val_loss did not improve from 1.09727\n",
            "34/34 [==============================] - 2s 49ms/step - loss: 1.0990 - accuracy: 0.2926 - val_loss: 1.0986 - val_accuracy: 0.3333\n",
            "Epoch 41/200\n",
            "33/34 [============================>.] - ETA: 0s - loss: 1.0991 - accuracy: 0.3087\n",
            "Epoch 41: val_loss did not improve from 1.09727\n",
            "34/34 [==============================] - 2s 49ms/step - loss: 1.0991 - accuracy: 0.3074 - val_loss: 1.0986 - val_accuracy: 0.3333\n",
            "Epoch 42/200\n",
            "33/34 [============================>.] - ETA: 0s - loss: 1.0992 - accuracy: 0.2917\n",
            "Epoch 42: val_loss did not improve from 1.09727\n",
            "34/34 [==============================] - 2s 49ms/step - loss: 1.0992 - accuracy: 0.2926 - val_loss: 1.0986 - val_accuracy: 0.3333\n",
            "Epoch 43/200\n",
            "33/34 [============================>.] - ETA: 0s - loss: 1.0991 - accuracy: 0.2955\n",
            "Epoch 43: val_loss did not improve from 1.09727\n",
            "34/34 [==============================] - 2s 50ms/step - loss: 1.0992 - accuracy: 0.2889 - val_loss: 1.0987 - val_accuracy: 0.3333\n",
            "Epoch 44/200\n",
            "33/34 [============================>.] - ETA: 0s - loss: 1.0991 - accuracy: 0.2955\n",
            "Epoch 44: val_loss did not improve from 1.09727\n",
            "34/34 [==============================] - 2s 50ms/step - loss: 1.0991 - accuracy: 0.2981 - val_loss: 1.0986 - val_accuracy: 0.3333\n",
            "Epoch 45/200\n",
            "33/34 [============================>.] - ETA: 0s - loss: 1.0992 - accuracy: 0.3030\n",
            "Epoch 45: val_loss did not improve from 1.09727\n",
            "34/34 [==============================] - 2s 49ms/step - loss: 1.0993 - accuracy: 0.3000 - val_loss: 1.0986 - val_accuracy: 0.3333\n",
            "Epoch 46/200\n",
            "33/34 [============================>.] - ETA: 0s - loss: 1.0989 - accuracy: 0.3333\n",
            "Epoch 46: val_loss did not improve from 1.09727\n",
            "34/34 [==============================] - 2s 48ms/step - loss: 1.0989 - accuracy: 0.3333 - val_loss: 1.0986 - val_accuracy: 0.3333\n",
            "Epoch 47/200\n",
            "33/34 [============================>.] - ETA: 0s - loss: 1.0989 - accuracy: 0.3220\n",
            "Epoch 47: val_loss did not improve from 1.09727\n",
            "34/34 [==============================] - 2s 49ms/step - loss: 1.0989 - accuracy: 0.3222 - val_loss: 1.0986 - val_accuracy: 0.3333\n",
            "Epoch 48/200\n",
            "33/34 [============================>.] - ETA: 0s - loss: 1.0994 - accuracy: 0.2898\n",
            "Epoch 48: val_loss did not improve from 1.09727\n",
            "34/34 [==============================] - 2s 49ms/step - loss: 1.0994 - accuracy: 0.2907 - val_loss: 1.0986 - val_accuracy: 0.3333\n",
            "Epoch 49/200\n",
            "33/34 [============================>.] - ETA: 0s - loss: 1.0993 - accuracy: 0.3011\n",
            "Epoch 49: val_loss did not improve from 1.09727\n",
            "34/34 [==============================] - 2s 49ms/step - loss: 1.0992 - accuracy: 0.3019 - val_loss: 1.0986 - val_accuracy: 0.3333\n",
            "Epoch 50/200\n",
            "33/34 [============================>.] - ETA: 0s - loss: 1.0989 - accuracy: 0.2860\n",
            "Epoch 50: val_loss did not improve from 1.09727\n",
            "34/34 [==============================] - 2s 48ms/step - loss: 1.0989 - accuracy: 0.2870 - val_loss: 1.0986 - val_accuracy: 0.3333\n",
            "Epoch 51/200\n",
            "33/34 [============================>.] - ETA: 0s - loss: 1.0989 - accuracy: 0.3163\n",
            "Epoch 51: val_loss did not improve from 1.09727\n",
            "34/34 [==============================] - 2s 49ms/step - loss: 1.0989 - accuracy: 0.3167 - val_loss: 1.0986 - val_accuracy: 0.3333\n"
          ]
        },
        {
          "output_type": "execute_result",
          "data": {
            "text/plain": [
              "<keras.src.callbacks.History at 0x7cf4fd4d6aa0>"
            ]
          },
          "metadata": {},
          "execution_count": 9
        }
      ],
      "source": [
        "model_path = \"/content/drive/MyDrive/Machine_Learning/Research/Model/vgg.h5\"\n",
        "csv_path = \"/content/drive/MyDrive/Machine_Learning/Research/Model/vgg.log\"\n",
        "callbacks = [\n",
        "        ModelCheckpoint(model_path, verbose=1, save_best_only=True),\n",
        "        CSVLogger(csv_path),\n",
        "        TensorBoard(),\n",
        "        EarlyStopping(monitor='val_loss', patience=50, restore_best_weights=False),\n",
        "    ]\n",
        "\n",
        "model.fit(\n",
        "    train_ds,\n",
        "    epochs=200,\n",
        "    validation_data=validation_ds,\n",
        "    callbacks=callbacks,\n",
        "    shuffle=False\n",
        ")"
      ]
    },
    {
      "cell_type": "code",
      "source": [
        "model = tf.keras.models.load_model('/content/drive/MyDrive/Machine_Learning/Research/Model/vgg.h5')"
      ],
      "metadata": {
        "id": "qIDwBXooZgSB"
      },
      "execution_count": null,
      "outputs": []
    },
    {
      "cell_type": "code",
      "source": [
        "# Remove the last layer of the model\n",
        "feature_extractor = Model(inputs=model.input, outputs=model.layers[-2].output)\n",
        "\n",
        "# Extract features from the test dataset\n",
        "test_features = feature_extractor.predict(validation_ds)\n",
        "\n",
        "num_clusters = 4  # specify the number of clusters\n",
        "kmeans = KMeans(n_clusters=num_clusters)\n",
        "clusters = kmeans.fit_predict(test_features)\n",
        "\n",
        "# clusters variable now contains the cluster labels for each image in the test dataset\n",
        "\n",
        "kmeans.labels_"
      ],
      "metadata": {
        "id": "k9C5qWUwVdmY",
        "colab": {
          "base_uri": "https://localhost:8080/"
        },
        "outputId": "f1aaff25-079f-4ef9-96a6-3dea6b7e508f"
      },
      "execution_count": null,
      "outputs": [
        {
          "output_type": "stream",
          "name": "stdout",
          "text": [
            "4/4 [==============================] - 0s 16ms/step\n"
          ]
        },
        {
          "output_type": "stream",
          "name": "stderr",
          "text": [
            "/usr/local/lib/python3.10/dist-packages/sklearn/cluster/_kmeans.py:870: FutureWarning: The default value of `n_init` will change from 10 to 'auto' in 1.4. Set the value of `n_init` explicitly to suppress the warning\n",
            "  warnings.warn(\n"
          ]
        },
        {
          "output_type": "execute_result",
          "data": {
            "text/plain": [
              "array([0, 0, 1, 2, 0, 0, 1, 1, 0, 0, 0, 3, 0, 0, 1, 2, 0, 2, 0, 1, 2, 2,\n",
              "       2, 1, 1, 0, 0, 2, 0, 0, 0, 0, 0, 0, 0, 1, 1, 0, 0, 1, 2, 1, 1, 1,\n",
              "       1, 1, 1, 2, 0, 0, 1, 0, 0, 1, 2, 0, 0, 0, 2, 1], dtype=int32)"
            ]
          },
          "metadata": {},
          "execution_count": 11
        }
      ]
    },
    {
      "cell_type": "code",
      "source": [
        "data_dir = '/content/drive/MyDrive/Machine_Learning/Research/ImageCLEFmedical  GANs 2024 - Task2 test/generated_images'\n",
        "data_dir = pathlib.Path(data_dir)"
      ],
      "metadata": {
        "id": "pQNatHV66j07"
      },
      "execution_count": null,
      "outputs": []
    },
    {
      "cell_type": "code",
      "source": [
        "image_count = len(list(data_dir.glob('*.*')))\n",
        "\n",
        "# Create a dataset of image file paths\n",
        "list_ds = tf.data.Dataset.list_files(str(data_dir/'*'), shuffle=False)\n",
        "list_ds = list_ds.shuffle(image_count, reshuffle_each_iteration=False)"
      ],
      "metadata": {
        "id": "EMtzovvq6j08"
      },
      "execution_count": null,
      "outputs": []
    },
    {
      "cell_type": "code",
      "source": [
        "def process_path(file_path):\n",
        "    img = tf.io.read_file(file_path)\n",
        "    img = tf.image.decode_png(img, channels=1)  # Use decode_png if images are png format\n",
        "    img = tf.image.resize(img, [256, 256])\n",
        "    img = tf.expand_dims(img, axis=-1)  # Add a channel dimension\n",
        "    img = (img / 255.0)  # Normalize pixels to 0,1\n",
        "    return img\n"
      ],
      "metadata": {
        "id": "UAqclNRW6j09"
      },
      "execution_count": null,
      "outputs": []
    },
    {
      "cell_type": "code",
      "source": [
        "new_dataset = list_ds.map(process_path, num_parallel_calls=tf.data.AUTOTUNE)\n"
      ],
      "metadata": {
        "id": "JWA-ih5w6j09"
      },
      "execution_count": null,
      "outputs": []
    },
    {
      "cell_type": "code",
      "source": [
        "# Remove the last layer of the model\n",
        "feature_extractor = Model(inputs=model.input, outputs=model.layers[-2].output)\n",
        "\n",
        "# Batch the dataset\n",
        "new_dataset = new_dataset.batch(16)  # Replace 16 with your desired batch size\n",
        "\n",
        "# Extract features from the new dataset\n",
        "new_features = feature_extractor.predict(new_dataset)\n",
        "\n",
        "# Perform clustering on the extracted features\n",
        "num_clusters = 4  # specify the number of clusters\n",
        "kmeans = KMeans(n_clusters=num_clusters)\n",
        "new_clusters = kmeans.fit_predict(new_features)\n",
        "\n",
        "# new_clusters variable now contains the cluster labels for each image in the new dataset\n",
        "print(kmeans.labels_)\n"
      ],
      "metadata": {
        "colab": {
          "base_uri": "https://localhost:8080/"
        },
        "outputId": "00585640-6cc6-4df0-e7b9-d607669253dd",
        "id": "Fg_V3v2i6j09"
      },
      "execution_count": null,
      "outputs": [
        {
          "output_type": "stream",
          "name": "stdout",
          "text": [
            "190/190 [==============================] - 52s 272ms/step\n"
          ]
        },
        {
          "output_type": "stream",
          "name": "stderr",
          "text": [
            "/usr/local/lib/python3.10/dist-packages/sklearn/cluster/_kmeans.py:870: FutureWarning: The default value of `n_init` will change from 10 to 'auto' in 1.4. Set the value of `n_init` explicitly to suppress the warning\n",
            "  warnings.warn(\n"
          ]
        },
        {
          "output_type": "stream",
          "name": "stdout",
          "text": [
            "[0 3 0 ... 0 3 0]\n"
          ]
        }
      ]
    },
    {
      "cell_type": "code",
      "source": [
        "print(kmeans.labels_[:20])"
      ],
      "metadata": {
        "colab": {
          "base_uri": "https://localhost:8080/"
        },
        "id": "RSaC689P_B0G",
        "outputId": "478bf224-e980-47f7-eea5-24edc43732d2"
      },
      "execution_count": null,
      "outputs": [
        {
          "output_type": "stream",
          "name": "stdout",
          "text": [
            "[0 3 0 0 0 2 0 3 1 3 2 1 1 1 2 0 0 2 3 2]\n"
          ]
        }
      ]
    },
    {
      "cell_type": "code",
      "source": [
        "# Load the provided run.csv file\n",
        "provided_run_path = '/content/drive/MyDrive/Machine_Learning/Research/ImageCLEFmedical  GANs 2024 - Task2 test/run.csv'\n",
        "# Read the file without header\n",
        "provided_run_df = pd.read_csv(provided_run_path, header=None, names=['data'])\n",
        "\n",
        "# Convert values to string type\n",
        "provided_run_df['data'] = provided_run_df['data'].astype(str)\n",
        "\n",
        "# Map figure IDs to cluster labels\n",
        "figure_ids = provided_run_df['data'].str.split('\\t', expand=True)[0]  # Extract figure IDs\n",
        "cluster_mapping = dict(zip(figure_ids, new_clusters + 1))  # Adding 1 to clusters to match the required labels [1, 2, 3, 4]\n",
        "\n",
        "# Create a DataFrame with image IDs and corresponding cluster mappings\n",
        "result_df = pd.DataFrame({'ImageID': figure_ids, 'Cluster': [cluster_mapping[x] for x in figure_ids]})\n",
        "\n",
        "# Save the DataFrame to the same CSV file (overwrite the existing file)\n",
        "result_df.to_csv(provided_run_path, index=False, header=False)\n"
      ],
      "metadata": {
        "id": "CQrY9GWA9Ior"
      },
      "execution_count": null,
      "outputs": []
    },
    {
      "cell_type": "code",
      "source": [],
      "metadata": {
        "id": "4QRPt51C3C_N"
      },
      "execution_count": null,
      "outputs": []
    }
  ]
}