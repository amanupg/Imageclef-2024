{
  "nbformat": 4,
  "nbformat_minor": 0,
  "metadata": {
    "colab": {
      "provenance": [],
      "machine_shape": "hm",
      "gpuType": "L4",
      "collapsed_sections": [
        "ytsbZeB84pbu"
      ],
      "authorship_tag": "ABX9TyMYCNLFMEtFom4cRvFi3Vf7",
      "include_colab_link": true
    },
    "kernelspec": {
      "name": "python3",
      "display_name": "Python 3"
    },
    "language_info": {
      "name": "python"
    },
    "accelerator": "GPU"
  },
  "cells": [
    {
      "cell_type": "markdown",
      "metadata": {
        "id": "view-in-github",
        "colab_type": "text"
      },
      "source": [
        "<a href=\"https://colab.research.google.com/github/amanupg/Imageclef-2024/blob/main/Classification_clustering.ipynb\" target=\"_parent\"><img src=\"https://colab.research.google.com/assets/colab-badge.svg\" alt=\"Open In Colab\"/></a>"
      ]
    },
    {
      "cell_type": "code",
      "source": [
        "import pandas as pd\n",
        "import tensorflow as tf\n",
        "from tensorflow import keras\n",
        "import pathlib\n",
        "from sklearn.cluster import KMeans\n",
        "from tensorflow.keras.layers import Conv2D, BatchNormalization, Activation, MaxPooling2D, Conv2DTranspose, Concatenate, Input\n",
        "from tensorflow.keras.models import Model\n",
        "from tensorflow.keras.optimizers import Adam\n",
        "from tensorflow.keras.callbacks import ModelCheckpoint, CSVLogger, ReduceLROnPlateau, EarlyStopping, TensorBoard"
      ],
      "metadata": {
        "id": "bUgnLHeKOH7g"
      },
      "execution_count": null,
      "outputs": []
    },
    {
      "cell_type": "code",
      "source": [
        "from google.colab import drive\n",
        "drive.mount('/content/drive')"
      ],
      "metadata": {
        "colab": {
          "base_uri": "https://localhost:8080/"
        },
        "id": "DBYWj5sDOPJ1",
        "outputId": "a0cab7b1-287c-4487-e6eb-711d66ce97b1"
      },
      "execution_count": null,
      "outputs": [
        {
          "output_type": "stream",
          "name": "stdout",
          "text": [
            "Mounted at /content/drive\n"
          ]
        }
      ]
    },
    {
      "cell_type": "code",
      "source": [
        "train_ds = keras.utils.image_dataset_from_directory(\n",
        "    directory='/content/drive/MyDrive/Machine_Learning/Research/Train',\n",
        "    labels='inferred',\n",
        "    label_mode='int',\n",
        "    batch_size=16,\n",
        "    image_size=(256, 256),\n",
        "    color_mode='grayscale'\n",
        ")\n",
        "validation_ds = keras.utils.image_dataset_from_directory(\n",
        "    directory='/content/drive/MyDrive/Machine_Learning/Research/Test',\n",
        "    labels='inferred',\n",
        "    label_mode='int',\n",
        "    batch_size=16,\n",
        "    image_size=(256, 256),\n",
        "    color_mode='grayscale'\n",
        ")"
      ],
      "metadata": {
        "colab": {
          "base_uri": "https://localhost:8080/"
        },
        "id": "ia_WyoUIONNV",
        "outputId": "c3ff3af9-717d-4e19-98d4-a355c3d23370"
      },
      "execution_count": null,
      "outputs": [
        {
          "output_type": "stream",
          "name": "stdout",
          "text": [
            "Found 540 files belonging to 3 classes.\n",
            "Found 60 files belonging to 3 classes.\n"
          ]
        }
      ]
    },
    {
      "cell_type": "markdown",
      "source": [
        "## Image processing and model building"
      ],
      "metadata": {
        "id": "ytsbZeB84pbu"
      }
    },
    {
      "cell_type": "code",
      "source": [
        "def process(image, label):\n",
        "    image = tf.cast(image / 255, tf.float32)\n",
        "    label = tf.one_hot(label, depth=3)  # One-hot encode labels for 3 classes\n",
        "    return image, label\n",
        "\n",
        "\n",
        "train_ds = train_ds.map(process)\n",
        "validation_ds = validation_ds.map(process)"
      ],
      "metadata": {
        "id": "lrs4YsypOX6G"
      },
      "execution_count": null,
      "outputs": []
    },
    {
      "cell_type": "code",
      "source": [
        "input_shape = (256, 256, 1)  # Adjust input shape for grayscale images\n",
        "\n",
        "\n",
        "def conv_block(input, num_filters):\n",
        "    x = Conv2D(num_filters, 3, padding=\"same\")(input)\n",
        "    x = BatchNormalization()(x)\n",
        "    x = Activation(\"relu\")(x)\n",
        "\n",
        "    x = Conv2D(num_filters, 3, padding=\"same\")(x)\n",
        "    x = BatchNormalization()(x)\n",
        "    x = Activation(\"relu\")(x)\n",
        "\n",
        "    return x\n",
        "\n",
        "\n",
        "def encoder_block(input, num_filters):\n",
        "    x = conv_block(input, num_filters)\n",
        "    p = MaxPooling2D((2, 2))(x)\n",
        "    return x, p\n",
        "\n",
        "\n",
        "def decoder_block(input, skip_features, num_filters):\n",
        "    x = Conv2DTranspose(num_filters, (2, 2), strides=2, padding=\"same\")(input)\n",
        "    x = Concatenate()([x, skip_features])\n",
        "    x = conv_block(x, num_filters)\n",
        "    return x\n",
        "\n",
        "# def build_unet(input_shape, num_classes):\n",
        "#     inputs = Input(input_shape)\n",
        "\n",
        "#     s1, p1 = encoder_block(inputs, 64)\n",
        "#     s2, p2 = encoder_block(p1, 128)\n",
        "#     s3, p3 = encoder_block(p2, 256)\n",
        "#     s4, p4 = encoder_block(p3, 512)\n",
        "\n",
        "#     b1 = conv_block(p4, 1024)\n",
        "\n",
        "#     d1 = decoder_block(b1, s4, 512)\n",
        "#     d2 = decoder_block(d1, s3, 256)\n",
        "#     d3 = decoder_block(d2, s2, 128)\n",
        "#     d4 = decoder_block(d3, s1, 64)\n",
        "\n",
        "#     outputs = Conv2D(3, 1, padding=\"same\", activation=\"softmax\")(d4)\n",
        "\n",
        "#     model = Model(inputs, outputs, name=\"U-Net\")\n",
        "#     return model\n",
        "\n",
        "def build_unet(input_shape, num_classes):\n",
        "    inputs = Input(input_shape)\n",
        "\n",
        "    s1, p1 = encoder_block(inputs, 64)\n",
        "    s2, p2 = encoder_block(p1, 128)\n",
        "    s3, p3 = encoder_block(p2, 256)\n",
        "    s4, p4 = encoder_block(p3, 512)\n",
        "\n",
        "    b1 = conv_block(p4, 1024)\n",
        "\n",
        "    # Flatten the feature maps from your bottleneck layer\n",
        "    flatten = keras.layers.Flatten()(b1)\n",
        "\n",
        "    # Add a few dense layers\n",
        "    dense1 = keras.layers.Dense(256, activation='relu')(flatten)\n",
        "    dense2 = keras.layers.Dense(64, activation='relu')(dense1)\n",
        "\n",
        "    # Output layer\n",
        "    outputs = keras.layers.Dense(num_classes, activation='softmax')(dense2)\n",
        "\n",
        "    model = Model(inputs, outputs, name=\"U-Net\")\n",
        "    return model\n",
        "\n"
      ],
      "metadata": {
        "id": "PSi0zhXRNt_B"
      },
      "execution_count": null,
      "outputs": []
    },
    {
      "cell_type": "code",
      "source": [
        "model = build_unet(input_shape, 3)\n",
        "model.summary()"
      ],
      "metadata": {
        "colab": {
          "base_uri": "https://localhost:8080/"
        },
        "id": "FUNGP0BOOqI2",
        "outputId": "ce268ff3-de05-4909-ad52-d378e5d7c867"
      },
      "execution_count": null,
      "outputs": [
        {
          "output_type": "stream",
          "name": "stdout",
          "text": [
            "Model: \"U-Net\"\n",
            "_________________________________________________________________\n",
            " Layer (type)                Output Shape              Param #   \n",
            "=================================================================\n",
            " input_1 (InputLayer)        [(None, 256, 256, 1)]     0         \n",
            "                                                                 \n",
            " conv2d (Conv2D)             (None, 256, 256, 64)      640       \n",
            "                                                                 \n",
            " batch_normalization (Batch  (None, 256, 256, 64)      256       \n",
            " Normalization)                                                  \n",
            "                                                                 \n",
            " activation (Activation)     (None, 256, 256, 64)      0         \n",
            "                                                                 \n",
            " conv2d_1 (Conv2D)           (None, 256, 256, 64)      36928     \n",
            "                                                                 \n",
            " batch_normalization_1 (Bat  (None, 256, 256, 64)      256       \n",
            " chNormalization)                                                \n",
            "                                                                 \n",
            " activation_1 (Activation)   (None, 256, 256, 64)      0         \n",
            "                                                                 \n",
            " max_pooling2d (MaxPooling2  (None, 128, 128, 64)      0         \n",
            " D)                                                              \n",
            "                                                                 \n",
            " conv2d_2 (Conv2D)           (None, 128, 128, 128)     73856     \n",
            "                                                                 \n",
            " batch_normalization_2 (Bat  (None, 128, 128, 128)     512       \n",
            " chNormalization)                                                \n",
            "                                                                 \n",
            " activation_2 (Activation)   (None, 128, 128, 128)     0         \n",
            "                                                                 \n",
            " conv2d_3 (Conv2D)           (None, 128, 128, 128)     147584    \n",
            "                                                                 \n",
            " batch_normalization_3 (Bat  (None, 128, 128, 128)     512       \n",
            " chNormalization)                                                \n",
            "                                                                 \n",
            " activation_3 (Activation)   (None, 128, 128, 128)     0         \n",
            "                                                                 \n",
            " max_pooling2d_1 (MaxPoolin  (None, 64, 64, 128)       0         \n",
            " g2D)                                                            \n",
            "                                                                 \n",
            " conv2d_4 (Conv2D)           (None, 64, 64, 256)       295168    \n",
            "                                                                 \n",
            " batch_normalization_4 (Bat  (None, 64, 64, 256)       1024      \n",
            " chNormalization)                                                \n",
            "                                                                 \n",
            " activation_4 (Activation)   (None, 64, 64, 256)       0         \n",
            "                                                                 \n",
            " conv2d_5 (Conv2D)           (None, 64, 64, 256)       590080    \n",
            "                                                                 \n",
            " batch_normalization_5 (Bat  (None, 64, 64, 256)       1024      \n",
            " chNormalization)                                                \n",
            "                                                                 \n",
            " activation_5 (Activation)   (None, 64, 64, 256)       0         \n",
            "                                                                 \n",
            " max_pooling2d_2 (MaxPoolin  (None, 32, 32, 256)       0         \n",
            " g2D)                                                            \n",
            "                                                                 \n",
            " conv2d_6 (Conv2D)           (None, 32, 32, 512)       1180160   \n",
            "                                                                 \n",
            " batch_normalization_6 (Bat  (None, 32, 32, 512)       2048      \n",
            " chNormalization)                                                \n",
            "                                                                 \n",
            " activation_6 (Activation)   (None, 32, 32, 512)       0         \n",
            "                                                                 \n",
            " conv2d_7 (Conv2D)           (None, 32, 32, 512)       2359808   \n",
            "                                                                 \n",
            " batch_normalization_7 (Bat  (None, 32, 32, 512)       2048      \n",
            " chNormalization)                                                \n",
            "                                                                 \n",
            " activation_7 (Activation)   (None, 32, 32, 512)       0         \n",
            "                                                                 \n",
            " max_pooling2d_3 (MaxPoolin  (None, 16, 16, 512)       0         \n",
            " g2D)                                                            \n",
            "                                                                 \n",
            " conv2d_8 (Conv2D)           (None, 16, 16, 1024)      4719616   \n",
            "                                                                 \n",
            " batch_normalization_8 (Bat  (None, 16, 16, 1024)      4096      \n",
            " chNormalization)                                                \n",
            "                                                                 \n",
            " activation_8 (Activation)   (None, 16, 16, 1024)      0         \n",
            "                                                                 \n",
            " conv2d_9 (Conv2D)           (None, 16, 16, 1024)      9438208   \n",
            "                                                                 \n",
            " batch_normalization_9 (Bat  (None, 16, 16, 1024)      4096      \n",
            " chNormalization)                                                \n",
            "                                                                 \n",
            " activation_9 (Activation)   (None, 16, 16, 1024)      0         \n",
            "                                                                 \n",
            " flatten (Flatten)           (None, 262144)            0         \n",
            "                                                                 \n",
            " dense (Dense)               (None, 256)               67109120  \n",
            "                                                                 \n",
            " dense_1 (Dense)             (None, 64)                16448     \n",
            "                                                                 \n",
            " dense_2 (Dense)             (None, 3)                 195       \n",
            "                                                                 \n",
            "=================================================================\n",
            "Total params: 85983683 (328.00 MB)\n",
            "Trainable params: 85975747 (327.97 MB)\n",
            "Non-trainable params: 7936 (31.00 KB)\n",
            "_________________________________________________________________\n"
          ]
        }
      ]
    },
    {
      "cell_type": "code",
      "source": [
        "batch_size = 16\n",
        "lr = 1e-4\n",
        "num_epochs = 200\n",
        "\n",
        "model.compile(optimizer=Adam(lr), loss='categorical_crossentropy', metrics=['accuracy'])"
      ],
      "metadata": {
        "id": "YLeDJYSw2TmG"
      },
      "execution_count": null,
      "outputs": []
    },
    {
      "cell_type": "code",
      "source": [
        "model_path = \"/content/drive/MyDrive/Machine_Learning/Research/Model/model.h5\"\n",
        "csv_path = \"/content/drive/MyDrive/Machine_Learning/Research/Model/training.log\"\n",
        "callbacks = [\n",
        "        ModelCheckpoint(model_path, verbose=1, save_best_only=True),\n",
        "        CSVLogger(csv_path),\n",
        "        TensorBoard(),\n",
        "        EarlyStopping(monitor='val_loss', patience=50, restore_best_weights=False),\n",
        "    ]\n",
        "\n",
        "model.fit(\n",
        "    train_ds,\n",
        "    epochs=num_epochs,\n",
        "    validation_data=validation_ds,\n",
        "    callbacks=callbacks,\n",
        "    shuffle=False\n",
        ")"
      ],
      "metadata": {
        "id": "lk75M30hWoBZ",
        "colab": {
          "base_uri": "https://localhost:8080/"
        },
        "outputId": "854388cb-f3ed-460e-f751-790015477e30"
      },
      "execution_count": null,
      "outputs": [
        {
          "output_type": "stream",
          "name": "stdout",
          "text": [
            "Epoch 1/200\n",
            "33/34 [============================>.] - ETA: 0s - loss: 0.0000e+00 - accuracy: 1.0000\n",
            "Epoch 1: val_loss improved from inf to 0.00000, saving model to /content/drive/MyDrive/Machine_Learning/Research/Model/model.h5\n",
            "34/34 [==============================] - 16s 304ms/step - loss: 2.2076e-10 - accuracy: 1.0000 - val_loss: 0.0000e+00 - val_accuracy: 1.0000\n",
            "Epoch 2/200\n",
            "33/34 [============================>.] - ETA: 0s - loss: 0.0000e+00 - accuracy: 1.0000\n",
            "Epoch 2: val_loss did not improve from 0.00000\n",
            "34/34 [==============================] - 5s 57ms/step - loss: 0.0000e+00 - accuracy: 1.0000 - val_loss: 0.0000e+00 - val_accuracy: 1.0000\n",
            "Epoch 3/200\n",
            "33/34 [============================>.] - ETA: 0s - loss: 3.1609e-09 - accuracy: 1.0000\n",
            "Epoch 3: val_loss did not improve from 0.00000\n",
            "34/34 [==============================] - 2s 55ms/step - loss: 5.2982e-09 - accuracy: 1.0000 - val_loss: 0.0000e+00 - val_accuracy: 1.0000\n",
            "Epoch 4/200\n",
            "33/34 [============================>.] - ETA: 0s - loss: 1.1289e-09 - accuracy: 1.0000\n",
            "Epoch 4: val_loss did not improve from 0.00000\n",
            "34/34 [==============================] - 2s 57ms/step - loss: 1.1038e-09 - accuracy: 1.0000 - val_loss: 0.0000e+00 - val_accuracy: 1.0000\n",
            "Epoch 5/200\n",
            "33/34 [============================>.] - ETA: 0s - loss: 6.7733e-10 - accuracy: 1.0000\n",
            "Epoch 5: val_loss did not improve from 0.00000\n",
            "34/34 [==============================] - 2s 57ms/step - loss: 6.6227e-10 - accuracy: 1.0000 - val_loss: 0.0000e+00 - val_accuracy: 1.0000\n",
            "Epoch 6/200\n",
            "33/34 [============================>.] - ETA: 0s - loss: 2.2578e-10 - accuracy: 1.0000\n",
            "Epoch 6: val_loss did not improve from 0.00000\n",
            "34/34 [==============================] - 2s 57ms/step - loss: 2.2076e-10 - accuracy: 1.0000 - val_loss: 0.0000e+00 - val_accuracy: 1.0000\n",
            "Epoch 7/200\n",
            "33/34 [============================>.] - ETA: 0s - loss: 0.2249 - accuracy: 0.9697\n",
            "Epoch 7: val_loss did not improve from 0.00000\n",
            "34/34 [==============================] - 2s 58ms/step - loss: 0.2199 - accuracy: 0.9704 - val_loss: 265.6647 - val_accuracy: 0.6500\n",
            "Epoch 8/200\n",
            "33/34 [============================>.] - ETA: 0s - loss: 0.3529 - accuracy: 0.9754\n",
            "Epoch 8: val_loss did not improve from 0.00000\n",
            "34/34 [==============================] - 2s 57ms/step - loss: 0.3450 - accuracy: 0.9759 - val_loss: 272.8980 - val_accuracy: 0.6667\n",
            "Epoch 9/200\n",
            "33/34 [============================>.] - ETA: 0s - loss: 0.0285 - accuracy: 0.9962\n",
            "Epoch 9: val_loss did not improve from 0.00000\n",
            "34/34 [==============================] - 2s 56ms/step - loss: 0.0279 - accuracy: 0.9963 - val_loss: 152.7528 - val_accuracy: 0.6333\n",
            "Epoch 10/200\n",
            "33/34 [============================>.] - ETA: 0s - loss: 0.0177 - accuracy: 0.9962\n",
            "Epoch 10: val_loss did not improve from 0.00000\n",
            "34/34 [==============================] - 2s 56ms/step - loss: 0.0174 - accuracy: 0.9963 - val_loss: 32.9782 - val_accuracy: 0.6333\n",
            "Epoch 11/200\n",
            "33/34 [============================>.] - ETA: 0s - loss: 4.5592e-06 - accuracy: 1.0000\n",
            "Epoch 11: val_loss did not improve from 0.00000\n",
            "34/34 [==============================] - 2s 56ms/step - loss: 4.4579e-06 - accuracy: 1.0000 - val_loss: 8.1209 - val_accuracy: 0.8000\n",
            "Epoch 12/200\n",
            "33/34 [============================>.] - ETA: 0s - loss: 0.0896 - accuracy: 0.9943\n",
            "Epoch 12: val_loss did not improve from 0.00000\n",
            "34/34 [==============================] - 2s 57ms/step - loss: 0.0876 - accuracy: 0.9944 - val_loss: 9.2100 - val_accuracy: 0.8000\n",
            "Epoch 13/200\n",
            "33/34 [============================>.] - ETA: 0s - loss: 0.1625 - accuracy: 0.9848\n",
            "Epoch 13: val_loss did not improve from 0.00000\n",
            "34/34 [==============================] - 2s 56ms/step - loss: 0.1589 - accuracy: 0.9852 - val_loss: 0.0000e+00 - val_accuracy: 1.0000\n",
            "Epoch 14/200\n",
            "33/34 [============================>.] - ETA: 0s - loss: 0.0984 - accuracy: 0.9924\n",
            "Epoch 14: val_loss did not improve from 0.00000\n",
            "34/34 [==============================] - 2s 56ms/step - loss: 0.0962 - accuracy: 0.9926 - val_loss: 0.0000e+00 - val_accuracy: 1.0000\n",
            "Epoch 15/200\n",
            "33/34 [============================>.] - ETA: 0s - loss: 0.0439 - accuracy: 0.9962\n",
            "Epoch 15: val_loss did not improve from 0.00000\n",
            "34/34 [==============================] - 2s 56ms/step - loss: 0.0430 - accuracy: 0.9963 - val_loss: 0.6370 - val_accuracy: 0.9667\n",
            "Epoch 16/200\n",
            "33/34 [============================>.] - ETA: 0s - loss: 0.0064 - accuracy: 0.9981\n",
            "Epoch 16: val_loss did not improve from 0.00000\n",
            "34/34 [==============================] - 2s 56ms/step - loss: 0.0062 - accuracy: 0.9981 - val_loss: 0.0000e+00 - val_accuracy: 1.0000\n",
            "Epoch 17/200\n",
            "33/34 [============================>.] - ETA: 0s - loss: 2.2170e-06 - accuracy: 1.0000\n",
            "Epoch 17: val_loss did not improve from 0.00000\n",
            "34/34 [==============================] - 2s 56ms/step - loss: 2.1677e-06 - accuracy: 1.0000 - val_loss: 0.0000e+00 - val_accuracy: 1.0000\n",
            "Epoch 18/200\n",
            "33/34 [============================>.] - ETA: 0s - loss: 0.0034 - accuracy: 0.9981\n",
            "Epoch 18: val_loss did not improve from 0.00000\n",
            "34/34 [==============================] - 2s 56ms/step - loss: 0.0034 - accuracy: 0.9981 - val_loss: 12.8531 - val_accuracy: 0.7667\n",
            "Epoch 19/200\n",
            "33/34 [============================>.] - ETA: 0s - loss: 2.2578e-10 - accuracy: 1.0000\n",
            "Epoch 19: val_loss did not improve from 0.00000\n",
            "34/34 [==============================] - 2s 56ms/step - loss: 2.2076e-10 - accuracy: 1.0000 - val_loss: 4.4769 - val_accuracy: 0.9167\n",
            "Epoch 20/200\n",
            "33/34 [============================>.] - ETA: 0s - loss: 0.0000e+00 - accuracy: 1.0000\n",
            "Epoch 20: val_loss did not improve from 0.00000\n",
            "34/34 [==============================] - 2s 56ms/step - loss: 0.0000e+00 - accuracy: 1.0000 - val_loss: 1.2121 - val_accuracy: 0.9500\n",
            "Epoch 21/200\n",
            "33/34 [============================>.] - ETA: 0s - loss: 0.0000e+00 - accuracy: 1.0000\n",
            "Epoch 21: val_loss did not improve from 0.00000\n",
            "34/34 [==============================] - 2s 56ms/step - loss: 0.0000e+00 - accuracy: 1.0000 - val_loss: 0.1598 - val_accuracy: 0.9833\n",
            "Epoch 22/200\n",
            "33/34 [============================>.] - ETA: 0s - loss: 2.1223e-08 - accuracy: 1.0000\n",
            "Epoch 22: val_loss did not improve from 0.00000\n",
            "34/34 [==============================] - 2s 56ms/step - loss: 2.0751e-08 - accuracy: 1.0000 - val_loss: 1.3908e-07 - val_accuracy: 1.0000\n",
            "Epoch 23/200\n",
            "33/34 [============================>.] - ETA: 0s - loss: 0.0334 - accuracy: 0.9981\n",
            "Epoch 23: val_loss did not improve from 0.00000\n",
            "34/34 [==============================] - 2s 56ms/step - loss: 0.0327 - accuracy: 0.9981 - val_loss: 0.1022 - val_accuracy: 0.9833\n",
            "Epoch 24/200\n",
            "33/34 [============================>.] - ETA: 0s - loss: 0.1989 - accuracy: 0.9811\n",
            "Epoch 24: val_loss did not improve from 0.00000\n",
            "34/34 [==============================] - 2s 56ms/step - loss: 0.1945 - accuracy: 0.9815 - val_loss: 157.9400 - val_accuracy: 0.6833\n",
            "Epoch 25/200\n",
            "33/34 [============================>.] - ETA: 0s - loss: 0.1780 - accuracy: 0.9848\n",
            "Epoch 25: val_loss did not improve from 0.00000\n",
            "34/34 [==============================] - 2s 57ms/step - loss: 0.1741 - accuracy: 0.9852 - val_loss: 14.4970 - val_accuracy: 0.7333\n",
            "Epoch 26/200\n",
            "33/34 [============================>.] - ETA: 0s - loss: 0.0157 - accuracy: 0.9943\n",
            "Epoch 26: val_loss did not improve from 0.00000\n",
            "34/34 [==============================] - 2s 56ms/step - loss: 0.0153 - accuracy: 0.9944 - val_loss: 0.0147 - val_accuracy: 0.9833\n",
            "Epoch 27/200\n",
            "33/34 [============================>.] - ETA: 0s - loss: 0.0056 - accuracy: 0.9981\n",
            "Epoch 27: val_loss did not improve from 0.00000\n",
            "34/34 [==============================] - 2s 56ms/step - loss: 0.0054 - accuracy: 0.9981 - val_loss: 0.9425 - val_accuracy: 0.9167\n",
            "Epoch 28/200\n",
            "33/34 [============================>.] - ETA: 0s - loss: 7.3638e-06 - accuracy: 1.0000\n",
            "Epoch 28: val_loss did not improve from 0.00000\n",
            "34/34 [==============================] - 2s 56ms/step - loss: 7.2001e-06 - accuracy: 1.0000 - val_loss: 1.3566e-04 - val_accuracy: 1.0000\n",
            "Epoch 29/200\n",
            "33/34 [============================>.] - ETA: 0s - loss: 0.0000e+00 - accuracy: 1.0000\n",
            "Epoch 29: val_loss did not improve from 0.00000\n",
            "34/34 [==============================] - 2s 57ms/step - loss: 0.0000e+00 - accuracy: 1.0000 - val_loss: 0.0000e+00 - val_accuracy: 1.0000\n",
            "Epoch 30/200\n",
            "33/34 [============================>.] - ETA: 0s - loss: 9.0310e-10 - accuracy: 1.0000\n",
            "Epoch 30: val_loss did not improve from 0.00000\n",
            "34/34 [==============================] - 2s 56ms/step - loss: 8.8303e-10 - accuracy: 1.0000 - val_loss: 0.0000e+00 - val_accuracy: 1.0000\n",
            "Epoch 31/200\n",
            "33/34 [============================>.] - ETA: 0s - loss: 5.2643e-07 - accuracy: 1.0000\n",
            "Epoch 31: val_loss did not improve from 0.00000\n",
            "34/34 [==============================] - 2s 56ms/step - loss: 5.1474e-07 - accuracy: 1.0000 - val_loss: 0.0000e+00 - val_accuracy: 1.0000\n",
            "Epoch 32/200\n",
            "33/34 [============================>.] - ETA: 0s - loss: 3.1608e-08 - accuracy: 1.0000\n",
            "Epoch 32: val_loss did not improve from 0.00000\n",
            "34/34 [==============================] - 2s 56ms/step - loss: 3.0906e-08 - accuracy: 1.0000 - val_loss: 0.0000e+00 - val_accuracy: 1.0000\n",
            "Epoch 33/200\n",
            "33/34 [============================>.] - ETA: 0s - loss: 4.5155e-10 - accuracy: 1.0000\n",
            "Epoch 33: val_loss did not improve from 0.00000\n",
            "34/34 [==============================] - 2s 56ms/step - loss: 4.4152e-10 - accuracy: 1.0000 - val_loss: 0.0000e+00 - val_accuracy: 1.0000\n",
            "Epoch 34/200\n",
            "33/34 [============================>.] - ETA: 0s - loss: 0.0000e+00 - accuracy: 1.0000\n",
            "Epoch 34: val_loss did not improve from 0.00000\n",
            "34/34 [==============================] - 2s 56ms/step - loss: 0.0000e+00 - accuracy: 1.0000 - val_loss: 0.0000e+00 - val_accuracy: 1.0000\n",
            "Epoch 35/200\n",
            "33/34 [============================>.] - ETA: 0s - loss: 1.1153e-07 - accuracy: 1.0000\n",
            "Epoch 35: val_loss did not improve from 0.00000\n",
            "34/34 [==============================] - 2s 56ms/step - loss: 1.0905e-07 - accuracy: 1.0000 - val_loss: 0.0000e+00 - val_accuracy: 1.0000\n",
            "Epoch 36/200\n",
            "33/34 [============================>.] - ETA: 0s - loss: 4.1442e-05 - accuracy: 1.0000\n",
            "Epoch 36: val_loss did not improve from 0.00000\n",
            "34/34 [==============================] - 2s 56ms/step - loss: 4.0521e-05 - accuracy: 1.0000 - val_loss: 0.0000e+00 - val_accuracy: 1.0000\n",
            "Epoch 37/200\n",
            "33/34 [============================>.] - ETA: 0s - loss: 0.0000e+00 - accuracy: 1.0000\n",
            "Epoch 37: val_loss did not improve from 0.00000\n",
            "34/34 [==============================] - 2s 56ms/step - loss: 0.1650 - accuracy: 0.9981 - val_loss: 0.0000e+00 - val_accuracy: 1.0000\n",
            "Epoch 38/200\n",
            "33/34 [============================>.] - ETA: 0s - loss: 0.2545 - accuracy: 0.9867\n",
            "Epoch 38: val_loss did not improve from 0.00000\n",
            "34/34 [==============================] - 2s 56ms/step - loss: 0.2489 - accuracy: 0.9870 - val_loss: 2.3051 - val_accuracy: 0.9333\n",
            "Epoch 39/200\n",
            "33/34 [============================>.] - ETA: 0s - loss: 0.0880 - accuracy: 0.9943\n",
            "Epoch 39: val_loss did not improve from 0.00000\n",
            "34/34 [==============================] - 2s 57ms/step - loss: 0.0861 - accuracy: 0.9944 - val_loss: 2.9345 - val_accuracy: 0.9167\n",
            "Epoch 40/200\n",
            "33/34 [============================>.] - ETA: 0s - loss: 0.0000e+00 - accuracy: 1.0000\n",
            "Epoch 40: val_loss did not improve from 0.00000\n",
            "34/34 [==============================] - 2s 57ms/step - loss: 0.0000e+00 - accuracy: 1.0000 - val_loss: 0.3441 - val_accuracy: 0.9667\n",
            "Epoch 41/200\n",
            "33/34 [============================>.] - ETA: 0s - loss: 0.0600 - accuracy: 0.9981\n",
            "Epoch 41: val_loss did not improve from 0.00000\n",
            "34/34 [==============================] - 2s 56ms/step - loss: 0.1047 - accuracy: 0.9944 - val_loss: 0.0303 - val_accuracy: 0.9833\n",
            "Epoch 42/200\n",
            "33/34 [============================>.] - ETA: 0s - loss: 0.0000e+00 - accuracy: 1.0000\n",
            "Epoch 42: val_loss did not improve from 0.00000\n",
            "34/34 [==============================] - 2s 56ms/step - loss: 0.0000e+00 - accuracy: 1.0000 - val_loss: 0.0000e+00 - val_accuracy: 1.0000\n",
            "Epoch 43/200\n",
            "33/34 [============================>.] - ETA: 0s - loss: 0.0000e+00 - accuracy: 1.0000\n",
            "Epoch 43: val_loss did not improve from 0.00000\n",
            "34/34 [==============================] - 2s 56ms/step - loss: 0.0000e+00 - accuracy: 1.0000 - val_loss: 0.0000e+00 - val_accuracy: 1.0000\n",
            "Epoch 44/200\n",
            "33/34 [============================>.] - ETA: 0s - loss: 0.0000e+00 - accuracy: 1.0000\n",
            "Epoch 44: val_loss did not improve from 0.00000\n",
            "34/34 [==============================] - 2s 56ms/step - loss: 0.0000e+00 - accuracy: 1.0000 - val_loss: 0.0000e+00 - val_accuracy: 1.0000\n",
            "Epoch 45/200\n",
            "33/34 [============================>.] - ETA: 0s - loss: 6.0959e-09 - accuracy: 1.0000\n",
            "Epoch 45: val_loss did not improve from 0.00000\n",
            "34/34 [==============================] - 2s 56ms/step - loss: 5.9605e-09 - accuracy: 1.0000 - val_loss: 0.0000e+00 - val_accuracy: 1.0000\n",
            "Epoch 46/200\n",
            "33/34 [============================>.] - ETA: 0s - loss: 1.2133e-05 - accuracy: 1.0000\n",
            "Epoch 46: val_loss did not improve from 0.00000\n",
            "34/34 [==============================] - 2s 55ms/step - loss: 1.1864e-05 - accuracy: 1.0000 - val_loss: 0.0000e+00 - val_accuracy: 1.0000\n",
            "Epoch 47/200\n",
            "33/34 [============================>.] - ETA: 0s - loss: 3.2853e-06 - accuracy: 1.0000\n",
            "Epoch 47: val_loss did not improve from 0.00000\n",
            "34/34 [==============================] - 2s 56ms/step - loss: 3.2123e-06 - accuracy: 1.0000 - val_loss: 0.0000e+00 - val_accuracy: 1.0000\n",
            "Epoch 48/200\n",
            "33/34 [============================>.] - ETA: 0s - loss: 0.0000e+00 - accuracy: 1.0000\n",
            "Epoch 48: val_loss did not improve from 0.00000\n",
            "34/34 [==============================] - 2s 57ms/step - loss: 0.0000e+00 - accuracy: 1.0000 - val_loss: 0.0000e+00 - val_accuracy: 1.0000\n",
            "Epoch 49/200\n",
            "33/34 [============================>.] - ETA: 0s - loss: 0.0608 - accuracy: 0.9962\n",
            "Epoch 49: val_loss did not improve from 0.00000\n",
            "34/34 [==============================] - 2s 56ms/step - loss: 0.0595 - accuracy: 0.9963 - val_loss: 0.0000e+00 - val_accuracy: 1.0000\n",
            "Epoch 50/200\n",
            "33/34 [============================>.] - ETA: 0s - loss: 3.4473e-07 - accuracy: 1.0000\n",
            "Epoch 50: val_loss did not improve from 0.00000\n",
            "34/34 [==============================] - 2s 55ms/step - loss: 3.3707e-07 - accuracy: 1.0000 - val_loss: 0.0000e+00 - val_accuracy: 1.0000\n",
            "Epoch 51/200\n",
            "33/34 [============================>.] - ETA: 0s - loss: 0.0000e+00 - accuracy: 1.0000\n",
            "Epoch 51: val_loss did not improve from 0.00000\n",
            "34/34 [==============================] - 2s 56ms/step - loss: 0.0000e+00 - accuracy: 1.0000 - val_loss: 0.0000e+00 - val_accuracy: 1.0000\n"
          ]
        },
        {
          "output_type": "execute_result",
          "data": {
            "text/plain": [
              "<keras.src.callbacks.History at 0x7cd8e04a6920>"
            ]
          },
          "metadata": {},
          "execution_count": 13
        }
      ]
    },
    {
      "cell_type": "markdown",
      "source": [
        "## Generating clusters on Validation set"
      ],
      "metadata": {
        "id": "rs1mARSl4azX"
      }
    },
    {
      "cell_type": "code",
      "source": [
        "model = tf.keras.models.load_model('/content/drive/MyDrive/Machine_Learning/Research/Model/model.h5')"
      ],
      "metadata": {
        "id": "qIDwBXooZgSB"
      },
      "execution_count": null,
      "outputs": []
    },
    {
      "cell_type": "code",
      "source": [
        "# Remove the last layer of the model\n",
        "feature_extractor = Model(inputs=model.input, outputs=model.layers[-2].output)\n",
        "\n",
        "# Extract features from the test dataset\n",
        "test_features = feature_extractor.predict(validation_ds)\n",
        "\n",
        "num_clusters = 4  # specify the number of clusters\n",
        "kmeans = KMeans(n_clusters=num_clusters)\n",
        "clusters = kmeans.fit_predict(test_features)\n",
        "\n",
        "# clusters variable now contains the cluster labels for each image in the test dataset\n",
        "\n",
        "kmeans.labels_"
      ],
      "metadata": {
        "id": "k9C5qWUwVdmY"
      },
      "execution_count": null,
      "outputs": []
    },
    {
      "cell_type": "markdown",
      "source": [
        "## Generating clusters on small subset of test dataset"
      ],
      "metadata": {
        "id": "43jU4bfv32ED"
      }
    },
    {
      "cell_type": "code",
      "source": [
        "data_dir = '/content/drive/MyDrive/Machine_Learning/Research/small'\n",
        "data_dir = pathlib.Path(data_dir)"
      ],
      "metadata": {
        "id": "c34NxJySZUFm"
      },
      "execution_count": null,
      "outputs": []
    },
    {
      "cell_type": "code",
      "source": [
        "image_count = len(list(data_dir.glob('*.*')))\n",
        "\n",
        "# Create a dataset of image file paths\n",
        "list_ds = tf.data.Dataset.list_files(str(data_dir/'*'), shuffle=False)\n",
        "list_ds = list_ds.shuffle(image_count, reshuffle_each_iteration=False)"
      ],
      "metadata": {
        "id": "tb8lY8USZWTq"
      },
      "execution_count": null,
      "outputs": []
    },
    {
      "cell_type": "code",
      "source": [
        "def process_path(file_path):\n",
        "    img = tf.io.read_file(file_path)\n",
        "    img = tf.image.decode_png(img, channels=1)  # Use decode_png if images are png format\n",
        "    img = tf.image.resize(img, [256, 256])\n",
        "    img = tf.expand_dims(img, axis=-1)  # Add a channel dimension\n",
        "    img = (img / 255.0)  # Normalize pixels to 0,1\n",
        "    return img\n"
      ],
      "metadata": {
        "id": "7m04tEtAZZy5"
      },
      "execution_count": null,
      "outputs": []
    },
    {
      "cell_type": "code",
      "source": [
        "new_dataset = list_ds.map(process_path, num_parallel_calls=tf.data.AUTOTUNE)\n"
      ],
      "metadata": {
        "id": "KicAN1pQZdxr"
      },
      "execution_count": null,
      "outputs": []
    },
    {
      "cell_type": "code",
      "source": [
        "# Remove the last layer of the model\n",
        "feature_extractor = Model(inputs=model.input, outputs=model.layers[-2].output)\n",
        "\n",
        "# Batch the dataset\n",
        "new_dataset = new_dataset.batch(16)  # Replace 16 with your desired batch size\n",
        "\n",
        "# Extract features from the new dataset\n",
        "new_features = feature_extractor.predict(new_dataset)\n",
        "\n",
        "# Perform clustering on the extracted features\n",
        "num_clusters = 4  # specify the number of clusters\n",
        "kmeans = KMeans(n_clusters=num_clusters)\n",
        "new_clusters = kmeans.fit_predict(new_features)\n",
        "\n",
        "# new_clusters variable now contains the cluster labels for each image in the new dataset\n",
        "print(kmeans.labels_)\n"
      ],
      "metadata": {
        "colab": {
          "base_uri": "https://localhost:8080/"
        },
        "id": "-2Ilu_dCZjYG",
        "outputId": "acddfcac-92fe-405a-a02b-2193a0fe83b4"
      },
      "execution_count": null,
      "outputs": [
        {
          "output_type": "stream",
          "name": "stdout",
          "text": [
            "19/19 [==============================] - 15s 311ms/step\n"
          ]
        },
        {
          "output_type": "stream",
          "name": "stderr",
          "text": [
            "/usr/local/lib/python3.10/dist-packages/sklearn/cluster/_kmeans.py:870: FutureWarning: The default value of `n_init` will change from 10 to 'auto' in 1.4. Set the value of `n_init` explicitly to suppress the warning\n",
            "  warnings.warn(\n"
          ]
        },
        {
          "output_type": "stream",
          "name": "stdout",
          "text": [
            "[3 3 3 1 1 2 2 1 1 3 3 0 0 0 1 3 0 1 0 3 2 3 3 0 3 0 1 1 1 3 1 3 1 1 1 1 2\n",
            " 3 0 1 1 3 1 2 1 3 2 1 1 2 1 3 2 1 2 1 2 2 0 0 3 3 3 0 1 1 1 0 0 0 2 1 0 0\n",
            " 0 3 1 1 1 1 1 1 2 3 0 0 2 1 1 3 2 1 3 3 2 3 1 1 3 1 0 1 1 3 1 3 2 3 3 2 3\n",
            " 3 3 3 2 1 2 3 0 0 0 0 3 1 3 3 1 2 0 1 1 1 0 3 1 1 1 1 0 3 1 0 1 2 3 3 2 0\n",
            " 1 3 2 3 1 1 1 0 2 0 0 1 2 3 3 3 1 3 2 3 0 3 1 3 2 3 0 1 0 2 3 0 3 3 0 1 1\n",
            " 1 3 3 2 0 0 3 2 0 1 2 0 0 2 0 1 3 0 3 0 2 1 3 2 2 0 3 1 1 0 0 0 1 2 0 1 0\n",
            " 1 0 3 0 2 1 1 2 1 2 1 2 0 2 2 1 1 3 1 1 3 3 0 1 1 1 0 0 0 3 3 1 0 2 1 1 3\n",
            " 0 1 2 1 3 0 3 2 1 1 0 0 3 0 0 0 0 3 3 2 0 1 1 1 3 1 1 1 3 1 0 1 1 2 3 3 1\n",
            " 0 3 3 1]\n"
          ]
        }
      ]
    },
    {
      "cell_type": "markdown",
      "source": [
        "## Generating clusters on actual Test Dataset and logging results into a csv file with associated labels"
      ],
      "metadata": {
        "id": "sUrsjwq36QvF"
      }
    },
    {
      "cell_type": "code",
      "source": [
        "data_dir = '/content/drive/MyDrive/Machine_Learning/Research/ImageCLEFmedical  GANs 2024 - Task2 test/generated_images'\n",
        "data_dir = pathlib.Path(data_dir)"
      ],
      "metadata": {
        "id": "pQNatHV66j07"
      },
      "execution_count": null,
      "outputs": []
    },
    {
      "cell_type": "code",
      "source": [
        "image_count = len(list(data_dir.glob('*.*')))\n",
        "\n",
        "# Create a dataset of image file paths\n",
        "list_ds = tf.data.Dataset.list_files(str(data_dir/'*'), shuffle=False)\n",
        "list_ds = list_ds.shuffle(image_count, reshuffle_each_iteration=False)"
      ],
      "metadata": {
        "id": "EMtzovvq6j08"
      },
      "execution_count": null,
      "outputs": []
    },
    {
      "cell_type": "code",
      "source": [
        "def process_path(file_path):\n",
        "    img = tf.io.read_file(file_path)\n",
        "    img = tf.image.decode_png(img, channels=1)  # Use decode_png if images are png format\n",
        "    img = tf.image.resize(img, [256, 256])\n",
        "    img = tf.expand_dims(img, axis=-1)  # Add a channel dimension\n",
        "    img = (img / 255.0)  # Normalize pixels to 0,1\n",
        "    return img\n"
      ],
      "metadata": {
        "id": "UAqclNRW6j09"
      },
      "execution_count": null,
      "outputs": []
    },
    {
      "cell_type": "code",
      "source": [
        "new_dataset = list_ds.map(process_path, num_parallel_calls=tf.data.AUTOTUNE)\n"
      ],
      "metadata": {
        "id": "JWA-ih5w6j09"
      },
      "execution_count": null,
      "outputs": []
    },
    {
      "cell_type": "code",
      "source": [
        "# Remove the last layer of the model\n",
        "feature_extractor = Model(inputs=model.input, outputs=model.layers[-2].output)\n",
        "\n",
        "# Batch the dataset\n",
        "new_dataset = new_dataset.batch(16)  # Replace 16 with your desired batch size\n",
        "\n",
        "# Extract features from the new dataset\n",
        "new_features = feature_extractor.predict(new_dataset)\n",
        "\n",
        "# Perform clustering on the extracted features\n",
        "num_clusters = 4  # specify the number of clusters\n",
        "kmeans = KMeans(n_clusters=num_clusters)\n",
        "new_clusters = kmeans.fit_predict(new_features)\n",
        "\n",
        "# new_clusters variable now contains the cluster labels for each image in the new dataset\n",
        "print(kmeans.labels_)\n"
      ],
      "metadata": {
        "colab": {
          "base_uri": "https://localhost:8080/"
        },
        "outputId": "c1979c14-01b3-4f01-b2f1-7a3d65002c6e",
        "id": "Fg_V3v2i6j09"
      },
      "execution_count": null,
      "outputs": [
        {
          "output_type": "stream",
          "name": "stdout",
          "text": [
            "190/190 [==============================] - 65s 337ms/step\n"
          ]
        },
        {
          "output_type": "stream",
          "name": "stderr",
          "text": [
            "/usr/local/lib/python3.10/dist-packages/sklearn/cluster/_kmeans.py:870: FutureWarning: The default value of `n_init` will change from 10 to 'auto' in 1.4. Set the value of `n_init` explicitly to suppress the warning\n",
            "  warnings.warn(\n"
          ]
        },
        {
          "output_type": "stream",
          "name": "stdout",
          "text": [
            "[1 3 3 ... 1 1 1]\n"
          ]
        }
      ]
    },
    {
      "cell_type": "code",
      "source": [
        "print(kmeans.labels_[:20])"
      ],
      "metadata": {
        "colab": {
          "base_uri": "https://localhost:8080/"
        },
        "id": "RSaC689P_B0G",
        "outputId": "2f23be7b-611c-4677-bc87-f15fcf53fcc7"
      },
      "execution_count": null,
      "outputs": [
        {
          "output_type": "stream",
          "name": "stdout",
          "text": [
            "[1 3 3 1 1 3 2 1 0 3 0 1 2 0 1 0 0 0 0 1]\n"
          ]
        }
      ]
    },
    {
      "cell_type": "code",
      "source": [
        "import pandas as pd\n",
        "\n",
        "# Load the provided run.csv file\n",
        "provided_run_path = '/content/drive/MyDrive/Machine_Learning/Research/ImageCLEFmedical  GANs 2024 - Task2 test/run.csv'  # Update with the actual path\n",
        "\n",
        "# Read the file without header\n",
        "provided_run_df = pd.read_csv(provided_run_path, header=None, names=['data'])\n",
        "\n",
        "# Map figure IDs to cluster labels\n",
        "figure_ids = provided_run_df['data'].str.split('\\t', expand=True)[0]  # Extract figure IDs\n",
        "cluster_mapping = dict(zip(figure_ids, new_clusters + 1))  # Adding 1 to clusters to match the required labels [1, 2, 3, 4]\n",
        "\n",
        "# Update the data column with figure IDs and corresponding cluster labels separated by comma\n",
        "provided_run_df['data'] = provided_run_df['data'].str.split('\\t').apply(lambda x: f\"{x[0]},{cluster_mapping[x[0]]}\")\n",
        "\n",
        "# Save the updated DataFrame to the same CSV file (overwrite the existing file)\n",
        "provided_run_df.to_csv(provided_run_path, index=False, header=False)\n"
      ],
      "metadata": {
        "id": "CQrY9GWA9Ior"
      },
      "execution_count": null,
      "outputs": []
    }
  ]
}