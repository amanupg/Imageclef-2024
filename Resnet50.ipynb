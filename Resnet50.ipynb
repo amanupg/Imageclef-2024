{
  "nbformat": 4,
  "nbformat_minor": 0,
  "metadata": {
    "colab": {
      "provenance": [],
      "machine_shape": "hm",
      "gpuType": "A100",
      "authorship_tag": "ABX9TyNvscNNe7jU5Jbg5UN2oP/W",
      "include_colab_link": true
    },
    "kernelspec": {
      "name": "python3",
      "display_name": "Python 3"
    },
    "language_info": {
      "name": "python"
    },
    "accelerator": "GPU"
  },
  "cells": [
    {
      "cell_type": "markdown",
      "metadata": {
        "id": "view-in-github",
        "colab_type": "text"
      },
      "source": [
        "<a href=\"https://colab.research.google.com/github/amanupg/Imageclef-2024/blob/main/Resnet50.ipynb\" target=\"_parent\"><img src=\"https://colab.research.google.com/assets/colab-badge.svg\" alt=\"Open In Colab\"/></a>"
      ]
    },
    {
      "cell_type": "code",
      "execution_count": null,
      "metadata": {
        "id": "IQOG4I2rqI3L"
      },
      "outputs": [],
      "source": [
        "import tensorflow as tf\n",
        "from tensorflow.keras.applications import InceptionV3, VGG19, ResNet50, Xception, EfficientNetB0, MobileNetV2\n",
        "import matplotlib.pyplot as plt\n",
        "import numpy as np\n",
        "import tensorflow.keras as keras\n",
        "from tensorflow.keras.layers import Dense, GlobalAveragePooling2D\n",
        "from tensorflow.keras.models import Model\n",
        "import pandas as pd\n",
        "import pathlib\n",
        "from sklearn.cluster import KMeans\n",
        "from tensorflow.keras.layers import Conv2D, BatchNormalization, Activation, MaxPooling2D, Conv2DTranspose, Concatenate, Input\n",
        "from tensorflow.keras.optimizers import Adam\n",
        "from tensorflow.keras.callbacks import ModelCheckpoint, CSVLogger, ReduceLROnPlateau, EarlyStopping, TensorBoard"
      ]
    },
    {
      "cell_type": "code",
      "execution_count": null,
      "metadata": {
        "colab": {
          "base_uri": "https://localhost:8080/"
        },
        "id": "BweFKiIQqLJu",
        "outputId": "958c394f-20ee-4930-be3b-d8e49da247c6"
      },
      "outputs": [
        {
          "output_type": "stream",
          "name": "stdout",
          "text": [
            "Mounted at /content/drive\n"
          ]
        }
      ],
      "source": [
        "from google.colab import drive\n",
        "drive.mount('/content/drive')"
      ]
    },
    {
      "cell_type": "code",
      "execution_count": null,
      "metadata": {
        "colab": {
          "base_uri": "https://localhost:8080/"
        },
        "id": "U73RqKasqZtS",
        "outputId": "e9ee7101-aa0d-4bb8-8ad7-2387518d9e71"
      },
      "outputs": [
        {
          "output_type": "stream",
          "name": "stdout",
          "text": [
            "Downloading data from https://storage.googleapis.com/tensorflow/keras-applications/resnet/resnet50_weights_tf_dim_ordering_tf_kernels_notop.h5\n",
            "94765736/94765736 [==============================] - 0s 0us/step\n"
          ]
        }
      ],
      "source": [
        "base_model = ResNet50(weights='imagenet', include_top=False)"
      ]
    },
    {
      "cell_type": "code",
      "execution_count": null,
      "metadata": {
        "id": "casiuFIEqdW3"
      },
      "outputs": [],
      "source": [
        "input_shape = (256, 256, 1)  # Grayscale images\n",
        "input_layer = tf.keras.layers.Input(shape=input_shape)\n",
        "gray_convert = tf.keras.layers.Lambda(lambda x: tf.image.grayscale_to_rgb(x))(input_layer)\n",
        "\n",
        "# Pass through InceptionV3 base model\n",
        "x = base_model(gray_convert)\n",
        "\n",
        "# Add custom classification head\n",
        "x = GlobalAveragePooling2D()(x)\n",
        "x = Dense(1024, activation='relu')(x)\n",
        "predictions = Dense(3, activation='softmax')(x)"
      ]
    },
    {
      "cell_type": "code",
      "execution_count": null,
      "metadata": {
        "id": "CpmZQrGwqqci"
      },
      "outputs": [],
      "source": [
        "model = Model(inputs=input_layer, outputs=predictions)"
      ]
    },
    {
      "cell_type": "code",
      "execution_count": null,
      "metadata": {
        "id": "O05CUeQ4q3Sy"
      },
      "outputs": [],
      "source": [
        "model.compile(optimizer='adam',\n",
        "              loss='categorical_crossentropy',\n",
        "              metrics=['accuracy'])"
      ]
    },
    {
      "cell_type": "code",
      "execution_count": null,
      "metadata": {
        "colab": {
          "base_uri": "https://localhost:8080/"
        },
        "id": "b6l79qD_q9tB",
        "outputId": "1d985962-04cb-4778-fdb2-137d2dbb8d6e"
      },
      "outputs": [
        {
          "output_type": "stream",
          "name": "stdout",
          "text": [
            "Found 540 files belonging to 3 classes.\n",
            "Found 60 files belonging to 3 classes.\n"
          ]
        }
      ],
      "source": [
        "train_ds = keras.utils.image_dataset_from_directory(\n",
        "    directory='/content/drive/MyDrive/Machine_Learning/Research/Train',\n",
        "    labels='inferred',\n",
        "    label_mode='int',\n",
        "    batch_size=16,\n",
        "    image_size=(256, 256),\n",
        "    color_mode='grayscale'\n",
        ")\n",
        "validation_ds = keras.utils.image_dataset_from_directory(\n",
        "    directory='/content/drive/MyDrive/Machine_Learning/Research/Test',\n",
        "    labels='inferred',\n",
        "    label_mode='int',\n",
        "    batch_size=16,\n",
        "    image_size=(256, 256),\n",
        "    color_mode='grayscale'\n",
        ")"
      ]
    },
    {
      "cell_type": "code",
      "execution_count": null,
      "metadata": {
        "id": "76wTzrU_sKIu"
      },
      "outputs": [],
      "source": [
        "def process(image, label):\n",
        "    image = tf.cast(image / 255, tf.float32)\n",
        "    label = tf.one_hot(label, depth=3)  # One-hot encode labels for 3 classes\n",
        "    return image, label\n",
        "\n",
        "\n",
        "train_ds = train_ds.map(process)\n",
        "validation_ds = validation_ds.map(process)"
      ]
    },
    {
      "cell_type": "code",
      "execution_count": null,
      "metadata": {
        "colab": {
          "base_uri": "https://localhost:8080/"
        },
        "id": "75gtIYPeo2aQ",
        "outputId": "d3e9d4ac-5952-4950-98dd-f65ff490fc59"
      },
      "outputs": [
        {
          "output_type": "stream",
          "name": "stdout",
          "text": [
            "Epoch 1/200\n",
            "34/34 [==============================] - ETA: 0s - loss: 0.1954 - accuracy: 0.9407\n",
            "Epoch 1: val_loss improved from inf to 989106.12500, saving model to /content/drive/MyDrive/Machine_Learning/Research/Model/resnet.h5\n"
          ]
        },
        {
          "output_type": "stream",
          "name": "stderr",
          "text": [
            "/usr/local/lib/python3.10/dist-packages/keras/src/engine/training.py:3103: UserWarning: You are saving your model as an HDF5 file via `model.save()`. This file format is considered legacy. We recommend using instead the native Keras format, e.g. `model.save('my_model.keras')`.\n",
            "  saving_api.save_model(\n"
          ]
        },
        {
          "output_type": "stream",
          "name": "stdout",
          "text": [
            "\b\b\b\b\b\b\b\b\b\b\b\b\b\b\b\b\b\b\b\b\b\b\b\b\b\b\b\b\b\b\b\b\b\b\b\b\b\b\b\b\b\b\b\b\b\b\b\b\b\b\b\b\b\b\b\b\b\b\b\b\b\b\b\b\b\b\b\b\b\b\b\b\b\b\b\b\b\b\b\b\b\b\r34/34 [==============================] - 52s 371ms/step - loss: 0.1954 - accuracy: 0.9407 - val_loss: 989106.1250 - val_accuracy: 0.3333\n",
            "Epoch 2/200\n",
            "33/34 [============================>.] - ETA: 0s - loss: 0.1430 - accuracy: 0.9754\n",
            "Epoch 2: val_loss did not improve from 989106.12500\n",
            "34/34 [==============================] - 2s 56ms/step - loss: 0.1398 - accuracy: 0.9759 - val_loss: 297077632.0000 - val_accuracy: 0.3333\n",
            "Epoch 3/200\n",
            "33/34 [============================>.] - ETA: 0s - loss: 0.0119 - accuracy: 0.9981\n",
            "Epoch 3: val_loss improved from 989106.12500 to 85157.45312, saving model to /content/drive/MyDrive/Machine_Learning/Research/Model/resnet.h5\n",
            "34/34 [==============================] - 4s 101ms/step - loss: 0.0116 - accuracy: 0.9981 - val_loss: 85157.4531 - val_accuracy: 0.3333\n",
            "Epoch 4/200\n",
            "33/34 [============================>.] - ETA: 0s - loss: 0.0841 - accuracy: 0.9811\n",
            "Epoch 4: val_loss did not improve from 85157.45312\n",
            "34/34 [==============================] - 3s 58ms/step - loss: 0.0871 - accuracy: 0.9778 - val_loss: 259581.2500 - val_accuracy: 0.3333\n",
            "Epoch 5/200\n",
            "34/34 [==============================] - ETA: 0s - loss: 0.1868 - accuracy: 0.9648\n",
            "Epoch 5: val_loss did not improve from 85157.45312\n",
            "34/34 [==============================] - 2s 55ms/step - loss: 0.1868 - accuracy: 0.9648 - val_loss: 2425517.0000 - val_accuracy: 0.3333\n",
            "Epoch 6/200\n",
            "34/34 [==============================] - ETA: 0s - loss: 0.0513 - accuracy: 0.9870\n",
            "Epoch 6: val_loss improved from 85157.45312 to 30545.43164, saving model to /content/drive/MyDrive/Machine_Learning/Research/Model/resnet.h5\n",
            "34/34 [==============================] - 3s 96ms/step - loss: 0.0513 - accuracy: 0.9870 - val_loss: 30545.4316 - val_accuracy: 0.3333\n",
            "Epoch 7/200\n",
            "34/34 [==============================] - ETA: 0s - loss: 0.2804 - accuracy: 0.9593\n",
            "Epoch 7: val_loss improved from 30545.43164 to 1.14460, saving model to /content/drive/MyDrive/Machine_Learning/Research/Model/resnet.h5\n",
            "34/34 [==============================] - 4s 97ms/step - loss: 0.2804 - accuracy: 0.9593 - val_loss: 1.1446 - val_accuracy: 0.3333\n",
            "Epoch 8/200\n",
            "33/34 [============================>.] - ETA: 0s - loss: 0.0502 - accuracy: 0.9905\n",
            "Epoch 8: val_loss did not improve from 1.14460\n",
            "34/34 [==============================] - 3s 57ms/step - loss: 0.0503 - accuracy: 0.9907 - val_loss: 1.2112 - val_accuracy: 0.3333\n",
            "Epoch 9/200\n",
            "33/34 [============================>.] - ETA: 0s - loss: 0.0458 - accuracy: 0.9830\n",
            "Epoch 9: val_loss did not improve from 1.14460\n",
            "34/34 [==============================] - 2s 55ms/step - loss: 0.0451 - accuracy: 0.9833 - val_loss: 1.6268 - val_accuracy: 0.3333\n",
            "Epoch 10/200\n",
            "34/34 [==============================] - ETA: 0s - loss: 0.0610 - accuracy: 0.9926\n",
            "Epoch 10: val_loss did not improve from 1.14460\n",
            "34/34 [==============================] - 2s 58ms/step - loss: 0.0610 - accuracy: 0.9926 - val_loss: 2.0029 - val_accuracy: 0.3333\n",
            "Epoch 11/200\n",
            "33/34 [============================>.] - ETA: 0s - loss: 0.0127 - accuracy: 0.9981\n",
            "Epoch 11: val_loss did not improve from 1.14460\n",
            "34/34 [==============================] - 2s 57ms/step - loss: 0.0126 - accuracy: 0.9981 - val_loss: 1.9999 - val_accuracy: 0.3333\n",
            "Epoch 12/200\n",
            "33/34 [============================>.] - ETA: 0s - loss: 0.0033 - accuracy: 0.9981\n",
            "Epoch 12: val_loss did not improve from 1.14460\n",
            "34/34 [==============================] - 2s 56ms/step - loss: 0.0032 - accuracy: 0.9981 - val_loss: 2.2032 - val_accuracy: 0.3333\n",
            "Epoch 13/200\n",
            "33/34 [============================>.] - ETA: 0s - loss: 0.0022 - accuracy: 1.0000\n",
            "Epoch 13: val_loss did not improve from 1.14460\n",
            "34/34 [==============================] - 2s 57ms/step - loss: 0.0022 - accuracy: 1.0000 - val_loss: 2.4151 - val_accuracy: 0.3333\n",
            "Epoch 14/200\n",
            "33/34 [============================>.] - ETA: 0s - loss: 3.3930e-04 - accuracy: 1.0000\n",
            "Epoch 14: val_loss did not improve from 1.14460\n",
            "34/34 [==============================] - 2s 56ms/step - loss: 3.3671e-04 - accuracy: 1.0000 - val_loss: 2.4613 - val_accuracy: 0.3333\n",
            "Epoch 15/200\n",
            "34/34 [==============================] - ETA: 0s - loss: 9.0341e-04 - accuracy: 1.0000\n",
            "Epoch 15: val_loss did not improve from 1.14460\n",
            "34/34 [==============================] - 2s 55ms/step - loss: 9.0341e-04 - accuracy: 1.0000 - val_loss: 2.4607 - val_accuracy: 0.3333\n",
            "Epoch 16/200\n",
            "34/34 [==============================] - ETA: 0s - loss: 0.0155 - accuracy: 0.9981\n",
            "Epoch 16: val_loss did not improve from 1.14460\n",
            "34/34 [==============================] - 2s 55ms/step - loss: 0.0155 - accuracy: 0.9981 - val_loss: 2.3472 - val_accuracy: 0.3333\n",
            "Epoch 17/200\n",
            "34/34 [==============================] - ETA: 0s - loss: 0.0044 - accuracy: 0.9981\n",
            "Epoch 17: val_loss did not improve from 1.14460\n",
            "34/34 [==============================] - 2s 56ms/step - loss: 0.0044 - accuracy: 0.9981 - val_loss: 2.3877 - val_accuracy: 0.3333\n",
            "Epoch 18/200\n",
            "33/34 [============================>.] - ETA: 0s - loss: 9.0604e-04 - accuracy: 1.0000\n",
            "Epoch 18: val_loss did not improve from 1.14460\n",
            "34/34 [==============================] - 2s 57ms/step - loss: 8.8596e-04 - accuracy: 1.0000 - val_loss: 2.4356 - val_accuracy: 0.3333\n",
            "Epoch 19/200\n",
            "33/34 [============================>.] - ETA: 0s - loss: 0.0075 - accuracy: 0.9981\n",
            "Epoch 19: val_loss did not improve from 1.14460\n",
            "34/34 [==============================] - 2s 58ms/step - loss: 0.0074 - accuracy: 0.9981 - val_loss: 1.6136 - val_accuracy: 0.6167\n",
            "Epoch 20/200\n",
            "33/34 [============================>.] - ETA: 0s - loss: 8.8626e-04 - accuracy: 1.0000\n",
            "Epoch 20: val_loss did not improve from 1.14460\n",
            "34/34 [==============================] - 2s 56ms/step - loss: 8.6689e-04 - accuracy: 1.0000 - val_loss: 1.9821 - val_accuracy: 0.4667\n",
            "Epoch 21/200\n",
            "33/34 [============================>.] - ETA: 0s - loss: 0.1490 - accuracy: 0.9905\n",
            "Epoch 21: val_loss did not improve from 1.14460\n",
            "34/34 [==============================] - 2s 55ms/step - loss: 0.2010 - accuracy: 0.9870 - val_loss: 1.5617 - val_accuracy: 0.3167\n",
            "Epoch 22/200\n",
            "34/34 [==============================] - ETA: 0s - loss: 0.0364 - accuracy: 0.9889\n",
            "Epoch 22: val_loss did not improve from 1.14460\n",
            "34/34 [==============================] - 2s 56ms/step - loss: 0.0364 - accuracy: 0.9889 - val_loss: 1.6425 - val_accuracy: 0.3333\n",
            "Epoch 23/200\n",
            "33/34 [============================>.] - ETA: 0s - loss: 0.0110 - accuracy: 0.9981\n",
            "Epoch 23: val_loss did not improve from 1.14460\n",
            "34/34 [==============================] - 2s 55ms/step - loss: 0.0108 - accuracy: 0.9981 - val_loss: 1.4571 - val_accuracy: 0.3500\n",
            "Epoch 24/200\n",
            "34/34 [==============================] - ETA: 0s - loss: 0.0263 - accuracy: 0.9944\n",
            "Epoch 24: val_loss did not improve from 1.14460\n",
            "34/34 [==============================] - 2s 57ms/step - loss: 0.0263 - accuracy: 0.9944 - val_loss: 1.3812 - val_accuracy: 0.3333\n",
            "Epoch 25/200\n",
            "34/34 [==============================] - ETA: 0s - loss: 0.0177 - accuracy: 0.9963\n",
            "Epoch 25: val_loss did not improve from 1.14460\n",
            "34/34 [==============================] - 2s 57ms/step - loss: 0.0177 - accuracy: 0.9963 - val_loss: 228.8190 - val_accuracy: 0.3333\n",
            "Epoch 26/200\n",
            "33/34 [============================>.] - ETA: 0s - loss: 0.0052 - accuracy: 0.9981\n",
            "Epoch 26: val_loss did not improve from 1.14460\n",
            "34/34 [==============================] - 2s 56ms/step - loss: 0.0052 - accuracy: 0.9981 - val_loss: 55.8061 - val_accuracy: 0.3333\n",
            "Epoch 27/200\n",
            "33/34 [============================>.] - ETA: 0s - loss: 0.0235 - accuracy: 0.9962\n",
            "Epoch 27: val_loss did not improve from 1.14460\n",
            "34/34 [==============================] - 2s 55ms/step - loss: 0.0238 - accuracy: 0.9963 - val_loss: 1.2496 - val_accuracy: 0.3333\n",
            "Epoch 28/200\n",
            "33/34 [============================>.] - ETA: 0s - loss: 0.2362 - accuracy: 0.9394\n",
            "Epoch 28: val_loss did not improve from 1.14460\n",
            "34/34 [==============================] - 2s 57ms/step - loss: 0.2336 - accuracy: 0.9407 - val_loss: 1333.4358 - val_accuracy: 0.3333\n",
            "Epoch 29/200\n",
            "34/34 [==============================] - ETA: 0s - loss: 0.1353 - accuracy: 0.9519\n",
            "Epoch 29: val_loss did not improve from 1.14460\n",
            "34/34 [==============================] - 2s 56ms/step - loss: 0.1353 - accuracy: 0.9519 - val_loss: 8.0409 - val_accuracy: 0.3333\n",
            "Epoch 30/200\n",
            "33/34 [============================>.] - ETA: 0s - loss: 0.0490 - accuracy: 0.9830\n",
            "Epoch 30: val_loss did not improve from 1.14460\n",
            "34/34 [==============================] - 2s 55ms/step - loss: 0.0533 - accuracy: 0.9815 - val_loss: 1.2198 - val_accuracy: 0.5833\n",
            "Epoch 31/200\n",
            "33/34 [============================>.] - ETA: 0s - loss: 0.0609 - accuracy: 0.9754\n",
            "Epoch 31: val_loss did not improve from 1.14460\n",
            "34/34 [==============================] - 2s 56ms/step - loss: 0.0647 - accuracy: 0.9741 - val_loss: 40.8211 - val_accuracy: 0.3333\n",
            "Epoch 32/200\n",
            "33/34 [============================>.] - ETA: 0s - loss: 0.0745 - accuracy: 0.9811\n",
            "Epoch 32: val_loss did not improve from 1.14460\n",
            "34/34 [==============================] - 2s 56ms/step - loss: 0.0735 - accuracy: 0.9815 - val_loss: 934.6439 - val_accuracy: 0.3333\n",
            "Epoch 33/200\n",
            "33/34 [============================>.] - ETA: 0s - loss: 0.3143 - accuracy: 0.9489\n",
            "Epoch 33: val_loss did not improve from 1.14460\n",
            "34/34 [==============================] - 2s 56ms/step - loss: 0.3077 - accuracy: 0.9500 - val_loss: 17893.6699 - val_accuracy: 0.3333\n",
            "Epoch 34/200\n",
            "34/34 [==============================] - ETA: 0s - loss: 0.0762 - accuracy: 0.9722\n",
            "Epoch 34: val_loss did not improve from 1.14460\n",
            "34/34 [==============================] - 2s 55ms/step - loss: 0.0762 - accuracy: 0.9722 - val_loss: 6.6686 - val_accuracy: 0.6167\n",
            "Epoch 35/200\n",
            "34/34 [==============================] - ETA: 0s - loss: 0.0616 - accuracy: 0.9759\n",
            "Epoch 35: val_loss did not improve from 1.14460\n",
            "34/34 [==============================] - 2s 55ms/step - loss: 0.0616 - accuracy: 0.9759 - val_loss: 2.2130 - val_accuracy: 0.8000\n",
            "Epoch 36/200\n",
            "34/34 [==============================] - ETA: 0s - loss: 0.0082 - accuracy: 0.9963\n",
            "Epoch 36: val_loss improved from 1.14460 to 0.11164, saving model to /content/drive/MyDrive/Machine_Learning/Research/Model/resnet.h5\n",
            "34/34 [==============================] - 6s 172ms/step - loss: 0.0082 - accuracy: 0.9963 - val_loss: 0.1116 - val_accuracy: 0.9500\n",
            "Epoch 37/200\n",
            "34/34 [==============================] - ETA: 0s - loss: 0.0027 - accuracy: 1.0000\n",
            "Epoch 37: val_loss did not improve from 0.11164\n",
            "34/34 [==============================] - 3s 55ms/step - loss: 0.0027 - accuracy: 1.0000 - val_loss: 0.2862 - val_accuracy: 0.8833\n",
            "Epoch 38/200\n",
            "34/34 [==============================] - ETA: 0s - loss: 0.0019 - accuracy: 1.0000\n",
            "Epoch 38: val_loss did not improve from 0.11164\n",
            "34/34 [==============================] - 2s 55ms/step - loss: 0.0019 - accuracy: 1.0000 - val_loss: 0.1335 - val_accuracy: 0.9500\n",
            "Epoch 39/200\n",
            "33/34 [============================>.] - ETA: 0s - loss: 6.1912e-04 - accuracy: 1.0000\n",
            "Epoch 39: val_loss improved from 0.11164 to 0.01570, saving model to /content/drive/MyDrive/Machine_Learning/Research/Model/resnet.h5\n",
            "34/34 [==============================] - 4s 99ms/step - loss: 9.5637e-04 - accuracy: 1.0000 - val_loss: 0.0157 - val_accuracy: 1.0000\n",
            "Epoch 40/200\n",
            "34/34 [==============================] - ETA: 0s - loss: 0.0122 - accuracy: 0.9981\n",
            "Epoch 40: val_loss did not improve from 0.01570\n",
            "34/34 [==============================] - 3s 58ms/step - loss: 0.0122 - accuracy: 0.9981 - val_loss: 0.0330 - val_accuracy: 0.9833\n",
            "Epoch 41/200\n",
            "34/34 [==============================] - ETA: 0s - loss: 0.0120 - accuracy: 0.9944\n",
            "Epoch 41: val_loss did not improve from 0.01570\n",
            "34/34 [==============================] - 2s 55ms/step - loss: 0.0120 - accuracy: 0.9944 - val_loss: 30.6055 - val_accuracy: 0.4167\n",
            "Epoch 42/200\n",
            "33/34 [============================>.] - ETA: 0s - loss: 0.0329 - accuracy: 0.9886\n",
            "Epoch 42: val_loss did not improve from 0.01570\n",
            "34/34 [==============================] - 2s 58ms/step - loss: 0.0324 - accuracy: 0.9889 - val_loss: 0.7653 - val_accuracy: 0.9333\n",
            "Epoch 43/200\n",
            "33/34 [============================>.] - ETA: 0s - loss: 0.0258 - accuracy: 0.9886\n",
            "Epoch 43: val_loss did not improve from 0.01570\n",
            "34/34 [==============================] - 2s 59ms/step - loss: 0.0253 - accuracy: 0.9889 - val_loss: 0.0269 - val_accuracy: 0.9833\n",
            "Epoch 44/200\n",
            "34/34 [==============================] - ETA: 0s - loss: 0.0057 - accuracy: 1.0000\n",
            "Epoch 44: val_loss did not improve from 0.01570\n",
            "34/34 [==============================] - 2s 56ms/step - loss: 0.0057 - accuracy: 1.0000 - val_loss: 0.1668 - val_accuracy: 0.9500\n",
            "Epoch 45/200\n",
            "33/34 [============================>.] - ETA: 0s - loss: 0.0196 - accuracy: 0.9962\n",
            "Epoch 45: val_loss did not improve from 0.01570\n",
            "34/34 [==============================] - 2s 55ms/step - loss: 0.0192 - accuracy: 0.9963 - val_loss: 0.6641 - val_accuracy: 0.7667\n",
            "Epoch 46/200\n",
            "34/34 [==============================] - ETA: 0s - loss: 0.0074 - accuracy: 0.9963\n",
            "Epoch 46: val_loss did not improve from 0.01570\n",
            "34/34 [==============================] - 2s 58ms/step - loss: 0.0074 - accuracy: 0.9963 - val_loss: 0.5162 - val_accuracy: 0.8333\n",
            "Epoch 47/200\n",
            "34/34 [==============================] - ETA: 0s - loss: 5.7473e-04 - accuracy: 1.0000\n",
            "Epoch 47: val_loss did not improve from 0.01570\n",
            "34/34 [==============================] - 2s 56ms/step - loss: 5.7473e-04 - accuracy: 1.0000 - val_loss: 0.6465 - val_accuracy: 0.7667\n",
            "Epoch 48/200\n",
            "33/34 [============================>.] - ETA: 0s - loss: 0.0043 - accuracy: 1.0000\n",
            "Epoch 48: val_loss did not improve from 0.01570\n",
            "34/34 [==============================] - 2s 55ms/step - loss: 0.0043 - accuracy: 1.0000 - val_loss: 0.1159 - val_accuracy: 0.9667\n",
            "Epoch 49/200\n",
            "34/34 [==============================] - ETA: 0s - loss: 0.0025 - accuracy: 0.9981\n",
            "Epoch 49: val_loss improved from 0.01570 to 0.00000, saving model to /content/drive/MyDrive/Machine_Learning/Research/Model/resnet.h5\n",
            "34/34 [==============================] - 6s 165ms/step - loss: 0.0025 - accuracy: 0.9981 - val_loss: 9.7154e-07 - val_accuracy: 1.0000\n",
            "Epoch 50/200\n",
            "34/34 [==============================] - ETA: 0s - loss: 0.0018 - accuracy: 1.0000\n",
            "Epoch 50: val_loss did not improve from 0.00000\n",
            "34/34 [==============================] - 3s 57ms/step - loss: 0.0018 - accuracy: 1.0000 - val_loss: 4.0410 - val_accuracy: 0.6833\n",
            "Epoch 51/200\n",
            "33/34 [============================>.] - ETA: 0s - loss: 0.0063 - accuracy: 0.9962\n",
            "Epoch 51: val_loss did not improve from 0.00000\n",
            "34/34 [==============================] - 2s 56ms/step - loss: 0.0061 - accuracy: 0.9963 - val_loss: 0.6649 - val_accuracy: 0.8500\n",
            "Epoch 52/200\n",
            "33/34 [============================>.] - ETA: 0s - loss: 0.0030 - accuracy: 0.9981\n",
            "Epoch 52: val_loss did not improve from 0.00000\n",
            "34/34 [==============================] - 2s 59ms/step - loss: 0.0029 - accuracy: 0.9981 - val_loss: 0.0654 - val_accuracy: 0.9833\n",
            "Epoch 53/200\n",
            "33/34 [============================>.] - ETA: 0s - loss: 0.0036 - accuracy: 0.9981\n",
            "Epoch 53: val_loss did not improve from 0.00000\n",
            "34/34 [==============================] - 2s 58ms/step - loss: 0.0035 - accuracy: 0.9981 - val_loss: 0.0028 - val_accuracy: 1.0000\n",
            "Epoch 54/200\n",
            "33/34 [============================>.] - ETA: 0s - loss: 1.9514e-04 - accuracy: 1.0000\n",
            "Epoch 54: val_loss did not improve from 0.00000\n",
            "34/34 [==============================] - 2s 57ms/step - loss: 1.9146e-04 - accuracy: 1.0000 - val_loss: 9.3050e-06 - val_accuracy: 1.0000\n",
            "Epoch 55/200\n",
            "33/34 [============================>.] - ETA: 0s - loss: 4.7422e-04 - accuracy: 1.0000\n",
            "Epoch 55: val_loss did not improve from 0.00000\n",
            "34/34 [==============================] - 2s 57ms/step - loss: 4.6370e-04 - accuracy: 1.0000 - val_loss: 4.2339e-05 - val_accuracy: 1.0000\n",
            "Epoch 56/200\n",
            "34/34 [==============================] - ETA: 0s - loss: 1.1604e-04 - accuracy: 1.0000\n",
            "Epoch 56: val_loss did not improve from 0.00000\n",
            "34/34 [==============================] - 2s 55ms/step - loss: 1.1604e-04 - accuracy: 1.0000 - val_loss: 4.0641e-05 - val_accuracy: 1.0000\n",
            "Epoch 57/200\n",
            "34/34 [==============================] - ETA: 0s - loss: 1.6640e-04 - accuracy: 1.0000\n",
            "Epoch 57: val_loss did not improve from 0.00000\n",
            "34/34 [==============================] - 2s 56ms/step - loss: 1.6640e-04 - accuracy: 1.0000 - val_loss: 1.6521e-05 - val_accuracy: 1.0000\n",
            "Epoch 58/200\n",
            "34/34 [==============================] - ETA: 0s - loss: 4.2809e-04 - accuracy: 1.0000\n",
            "Epoch 58: val_loss did not improve from 0.00000\n",
            "34/34 [==============================] - 2s 56ms/step - loss: 4.2809e-04 - accuracy: 1.0000 - val_loss: 3.9584e-05 - val_accuracy: 1.0000\n",
            "Epoch 59/200\n",
            "33/34 [============================>.] - ETA: 0s - loss: 0.4113 - accuracy: 0.9659\n",
            "Epoch 59: val_loss did not improve from 0.00000\n",
            "34/34 [==============================] - 2s 56ms/step - loss: 0.4022 - accuracy: 0.9667 - val_loss: 7.6052 - val_accuracy: 0.5833\n",
            "Epoch 60/200\n",
            "33/34 [============================>.] - ETA: 0s - loss: 0.0378 - accuracy: 0.9905\n",
            "Epoch 60: val_loss did not improve from 0.00000\n",
            "34/34 [==============================] - 2s 55ms/step - loss: 0.0371 - accuracy: 0.9907 - val_loss: 2.1136 - val_accuracy: 0.6167\n",
            "Epoch 61/200\n",
            "34/34 [==============================] - ETA: 0s - loss: 0.2113 - accuracy: 0.9796\n",
            "Epoch 61: val_loss did not improve from 0.00000\n",
            "34/34 [==============================] - 2s 58ms/step - loss: 0.2113 - accuracy: 0.9796 - val_loss: 4.0337 - val_accuracy: 0.3500\n",
            "Epoch 62/200\n",
            "33/34 [============================>.] - ETA: 0s - loss: 0.0349 - accuracy: 0.9886\n",
            "Epoch 62: val_loss did not improve from 0.00000\n",
            "34/34 [==============================] - 2s 55ms/step - loss: 0.0342 - accuracy: 0.9889 - val_loss: 53.8290 - val_accuracy: 0.3500\n",
            "Epoch 63/200\n",
            "33/34 [============================>.] - ETA: 0s - loss: 0.0466 - accuracy: 0.9886\n",
            "Epoch 63: val_loss did not improve from 0.00000\n",
            "34/34 [==============================] - 2s 55ms/step - loss: 0.0525 - accuracy: 0.9870 - val_loss: 0.1280 - val_accuracy: 0.9500\n",
            "Epoch 64/200\n",
            "34/34 [==============================] - ETA: 0s - loss: 0.0363 - accuracy: 0.9944\n",
            "Epoch 64: val_loss did not improve from 0.00000\n",
            "34/34 [==============================] - 2s 57ms/step - loss: 0.0363 - accuracy: 0.9944 - val_loss: 217.9581 - val_accuracy: 0.3333\n",
            "Epoch 65/200\n",
            "33/34 [============================>.] - ETA: 0s - loss: 0.0348 - accuracy: 0.9886\n",
            "Epoch 65: val_loss did not improve from 0.00000\n",
            "34/34 [==============================] - 2s 56ms/step - loss: 0.0340 - accuracy: 0.9889 - val_loss: 10.6199 - val_accuracy: 0.3833\n",
            "Epoch 66/200\n",
            "33/34 [============================>.] - ETA: 0s - loss: 0.0024 - accuracy: 0.9981\n",
            "Epoch 66: val_loss did not improve from 0.00000\n",
            "34/34 [==============================] - 2s 56ms/step - loss: 0.0024 - accuracy: 0.9981 - val_loss: 0.6028 - val_accuracy: 0.8500\n",
            "Epoch 67/200\n",
            "34/34 [==============================] - ETA: 0s - loss: 0.0027 - accuracy: 1.0000\n",
            "Epoch 67: val_loss did not improve from 0.00000\n",
            "34/34 [==============================] - 2s 56ms/step - loss: 0.0027 - accuracy: 1.0000 - val_loss: 8.2996 - val_accuracy: 0.5667\n",
            "Epoch 68/200\n",
            "33/34 [============================>.] - ETA: 0s - loss: 3.9803e-04 - accuracy: 1.0000\n",
            "Epoch 68: val_loss did not improve from 0.00000\n",
            "34/34 [==============================] - 2s 56ms/step - loss: 3.8946e-04 - accuracy: 1.0000 - val_loss: 2.1862 - val_accuracy: 0.7667\n",
            "Epoch 69/200\n",
            "33/34 [============================>.] - ETA: 0s - loss: 5.8844e-04 - accuracy: 1.0000\n",
            "Epoch 69: val_loss did not improve from 0.00000\n",
            "34/34 [==============================] - 2s 56ms/step - loss: 5.7541e-04 - accuracy: 1.0000 - val_loss: 0.0362 - val_accuracy: 0.9833\n",
            "Epoch 70/200\n",
            "34/34 [==============================] - ETA: 0s - loss: 1.3759e-04 - accuracy: 1.0000\n",
            "Epoch 70: val_loss did not improve from 0.00000\n",
            "34/34 [==============================] - 2s 56ms/step - loss: 1.3759e-04 - accuracy: 1.0000 - val_loss: 3.2632e-05 - val_accuracy: 1.0000\n",
            "Epoch 71/200\n",
            "34/34 [==============================] - ETA: 0s - loss: 5.8565e-04 - accuracy: 1.0000\n",
            "Epoch 71: val_loss did not improve from 0.00000\n",
            "34/34 [==============================] - 2s 55ms/step - loss: 5.8565e-04 - accuracy: 1.0000 - val_loss: 2.6679e-05 - val_accuracy: 1.0000\n",
            "Epoch 72/200\n",
            "33/34 [============================>.] - ETA: 0s - loss: 2.1635e-04 - accuracy: 1.0000\n",
            "Epoch 72: val_loss did not improve from 0.00000\n",
            "34/34 [==============================] - 2s 55ms/step - loss: 2.1161e-04 - accuracy: 1.0000 - val_loss: 4.7979e-05 - val_accuracy: 1.0000\n",
            "Epoch 73/200\n",
            "33/34 [============================>.] - ETA: 0s - loss: 8.7918e-05 - accuracy: 1.0000\n",
            "Epoch 73: val_loss did not improve from 0.00000\n",
            "34/34 [==============================] - 2s 57ms/step - loss: 1.1369e-04 - accuracy: 1.0000 - val_loss: 1.1357e-04 - val_accuracy: 1.0000\n",
            "Epoch 74/200\n",
            "33/34 [============================>.] - ETA: 0s - loss: 7.5228e-05 - accuracy: 1.0000\n",
            "Epoch 74: val_loss did not improve from 0.00000\n",
            "34/34 [==============================] - 2s 56ms/step - loss: 1.8749e-04 - accuracy: 1.0000 - val_loss: 1.9236e-04 - val_accuracy: 1.0000\n",
            "Epoch 75/200\n",
            "33/34 [============================>.] - ETA: 0s - loss: 6.5076e-05 - accuracy: 1.0000\n",
            "Epoch 75: val_loss did not improve from 0.00000\n",
            "34/34 [==============================] - 2s 55ms/step - loss: 6.3766e-05 - accuracy: 1.0000 - val_loss: 3.5853e-04 - val_accuracy: 1.0000\n",
            "Epoch 76/200\n",
            "34/34 [==============================] - ETA: 0s - loss: 0.0017 - accuracy: 0.9981\n",
            "Epoch 76: val_loss did not improve from 0.00000\n",
            "34/34 [==============================] - 2s 55ms/step - loss: 0.0017 - accuracy: 0.9981 - val_loss: 0.0104 - val_accuracy: 1.0000\n",
            "Epoch 77/200\n",
            "34/34 [==============================] - ETA: 0s - loss: 0.1021 - accuracy: 0.9907\n",
            "Epoch 77: val_loss did not improve from 0.00000\n",
            "34/34 [==============================] - 2s 55ms/step - loss: 0.1021 - accuracy: 0.9907 - val_loss: 315.2813 - val_accuracy: 0.3333\n",
            "Epoch 78/200\n",
            "33/34 [============================>.] - ETA: 0s - loss: 0.0018 - accuracy: 1.0000\n",
            "Epoch 78: val_loss did not improve from 0.00000\n",
            "34/34 [==============================] - 2s 56ms/step - loss: 0.0278 - accuracy: 0.9944 - val_loss: 143.9370 - val_accuracy: 0.3333\n",
            "Epoch 79/200\n",
            "33/34 [============================>.] - ETA: 0s - loss: 0.0342 - accuracy: 0.9924\n",
            "Epoch 79: val_loss did not improve from 0.00000\n",
            "34/34 [==============================] - 2s 58ms/step - loss: 0.0334 - accuracy: 0.9926 - val_loss: 4.8749 - val_accuracy: 0.4500\n",
            "Epoch 80/200\n",
            "33/34 [============================>.] - ETA: 0s - loss: 6.8039e-04 - accuracy: 1.0000\n",
            "Epoch 80: val_loss did not improve from 0.00000\n",
            "34/34 [==============================] - 2s 57ms/step - loss: 6.6666e-04 - accuracy: 1.0000 - val_loss: 0.1834 - val_accuracy: 0.9500\n",
            "Epoch 81/200\n",
            "33/34 [============================>.] - ETA: 0s - loss: 0.1369 - accuracy: 0.9830\n",
            "Epoch 81: val_loss did not improve from 0.00000\n",
            "34/34 [==============================] - 2s 57ms/step - loss: 0.1339 - accuracy: 0.9833 - val_loss: 28.8162 - val_accuracy: 0.4167\n",
            "Epoch 82/200\n",
            "33/34 [============================>.] - ETA: 0s - loss: 0.0013 - accuracy: 1.0000\n",
            "Epoch 82: val_loss did not improve from 0.00000\n",
            "34/34 [==============================] - 2s 55ms/step - loss: 0.0013 - accuracy: 1.0000 - val_loss: 4.4951 - val_accuracy: 0.6667\n",
            "Epoch 83/200\n",
            "34/34 [==============================] - ETA: 0s - loss: 4.3256e-04 - accuracy: 1.0000\n",
            "Epoch 83: val_loss did not improve from 0.00000\n",
            "34/34 [==============================] - 2s 55ms/step - loss: 4.3256e-04 - accuracy: 1.0000 - val_loss: 0.2055 - val_accuracy: 0.9333\n",
            "Epoch 84/200\n",
            "34/34 [==============================] - ETA: 0s - loss: 0.0015 - accuracy: 1.0000\n",
            "Epoch 84: val_loss did not improve from 0.00000\n",
            "34/34 [==============================] - 2s 55ms/step - loss: 0.0015 - accuracy: 1.0000 - val_loss: 3.7247e-05 - val_accuracy: 1.0000\n",
            "Epoch 85/200\n",
            "33/34 [============================>.] - ETA: 0s - loss: 0.0025 - accuracy: 0.9981\n",
            "Epoch 85: val_loss did not improve from 0.00000\n",
            "34/34 [==============================] - 2s 58ms/step - loss: 0.0025 - accuracy: 0.9981 - val_loss: 0.0074 - val_accuracy: 1.0000\n",
            "Epoch 86/200\n",
            "34/34 [==============================] - ETA: 0s - loss: 6.1427e-04 - accuracy: 1.0000\n",
            "Epoch 86: val_loss did not improve from 0.00000\n",
            "34/34 [==============================] - 2s 56ms/step - loss: 6.1427e-04 - accuracy: 1.0000 - val_loss: 6.7503e-04 - val_accuracy: 1.0000\n",
            "Epoch 87/200\n",
            "34/34 [==============================] - ETA: 0s - loss: 0.0012 - accuracy: 1.0000    \n",
            "Epoch 87: val_loss did not improve from 0.00000\n",
            "34/34 [==============================] - 2s 56ms/step - loss: 0.0012 - accuracy: 1.0000 - val_loss: 0.0010 - val_accuracy: 1.0000\n",
            "Epoch 88/200\n",
            "33/34 [============================>.] - ETA: 0s - loss: 9.4419e-04 - accuracy: 1.0000\n",
            "Epoch 88: val_loss did not improve from 0.00000\n",
            "34/34 [==============================] - 2s 55ms/step - loss: 9.3117e-04 - accuracy: 1.0000 - val_loss: 0.9000 - val_accuracy: 0.6667\n",
            "Epoch 89/200\n",
            "34/34 [==============================] - ETA: 0s - loss: 0.0083 - accuracy: 0.9963\n",
            "Epoch 89: val_loss did not improve from 0.00000\n",
            "34/34 [==============================] - 2s 56ms/step - loss: 0.0083 - accuracy: 0.9963 - val_loss: 3.1850 - val_accuracy: 0.6333\n",
            "Epoch 90/200\n",
            "34/34 [==============================] - ETA: 0s - loss: 0.0014 - accuracy: 1.0000\n",
            "Epoch 90: val_loss did not improve from 0.00000\n",
            "34/34 [==============================] - 2s 56ms/step - loss: 0.0014 - accuracy: 1.0000 - val_loss: 3.9660 - val_accuracy: 0.6000\n",
            "Epoch 91/200\n",
            "34/34 [==============================] - ETA: 0s - loss: 0.0404 - accuracy: 0.9907\n",
            "Epoch 91: val_loss did not improve from 0.00000\n",
            "34/34 [==============================] - 2s 59ms/step - loss: 0.0404 - accuracy: 0.9907 - val_loss: 0.7392 - val_accuracy: 0.7833\n",
            "Epoch 92/200\n",
            "34/34 [==============================] - ETA: 0s - loss: 0.0284 - accuracy: 0.9926\n",
            "Epoch 92: val_loss did not improve from 0.00000\n",
            "34/34 [==============================] - 2s 55ms/step - loss: 0.0284 - accuracy: 0.9926 - val_loss: 1.0463 - val_accuracy: 0.6667\n",
            "Epoch 93/200\n",
            "33/34 [============================>.] - ETA: 0s - loss: 0.0072 - accuracy: 0.9981\n",
            "Epoch 93: val_loss did not improve from 0.00000\n",
            "34/34 [==============================] - 2s 57ms/step - loss: 0.0071 - accuracy: 0.9981 - val_loss: 0.9908 - val_accuracy: 0.6667\n",
            "Epoch 94/200\n",
            "34/34 [==============================] - ETA: 0s - loss: 0.0041 - accuracy: 1.0000\n",
            "Epoch 94: val_loss did not improve from 0.00000\n",
            "34/34 [==============================] - 2s 56ms/step - loss: 0.0041 - accuracy: 1.0000 - val_loss: 0.9819 - val_accuracy: 0.6667\n",
            "Epoch 95/200\n",
            "33/34 [============================>.] - ETA: 0s - loss: 0.0022 - accuracy: 1.0000\n",
            "Epoch 95: val_loss did not improve from 0.00000\n",
            "34/34 [==============================] - 2s 56ms/step - loss: 0.0021 - accuracy: 1.0000 - val_loss: 3.0904 - val_accuracy: 0.6667\n",
            "Epoch 96/200\n",
            "34/34 [==============================] - ETA: 0s - loss: 0.1059 - accuracy: 0.9870\n",
            "Epoch 96: val_loss did not improve from 0.00000\n",
            "34/34 [==============================] - 2s 56ms/step - loss: 0.1059 - accuracy: 0.9870 - val_loss: 553.9932 - val_accuracy: 0.3333\n",
            "Epoch 97/200\n",
            "34/34 [==============================] - ETA: 0s - loss: 0.0200 - accuracy: 0.9963\n",
            "Epoch 97: val_loss did not improve from 0.00000\n",
            "34/34 [==============================] - 2s 59ms/step - loss: 0.0200 - accuracy: 0.9963 - val_loss: 29.4239 - val_accuracy: 0.3333\n",
            "Epoch 98/200\n",
            "34/34 [==============================] - ETA: 0s - loss: 0.0191 - accuracy: 0.9981\n",
            "Epoch 98: val_loss did not improve from 0.00000\n",
            "34/34 [==============================] - 2s 56ms/step - loss: 0.0191 - accuracy: 0.9981 - val_loss: 2.4461 - val_accuracy: 0.6667\n",
            "Epoch 99/200\n",
            "34/34 [==============================] - ETA: 0s - loss: 8.2242e-04 - accuracy: 1.0000\n",
            "Epoch 99: val_loss did not improve from 0.00000\n",
            "34/34 [==============================] - 2s 54ms/step - loss: 8.2242e-04 - accuracy: 1.0000 - val_loss: 0.7978 - val_accuracy: 0.7167\n"
          ]
        },
        {
          "output_type": "execute_result",
          "data": {
            "text/plain": [
              "<keras.src.callbacks.History at 0x79cb08150820>"
            ]
          },
          "metadata": {},
          "execution_count": 9
        }
      ],
      "source": [
        "model_path = \"/content/drive/MyDrive/Machine_Learning/Research/Model/resnet.h5\"\n",
        "csv_path = \"/content/drive/MyDrive/Machine_Learning/Research/Model/resnet.log\"\n",
        "callbacks = [\n",
        "        ModelCheckpoint(model_path, verbose=1, save_best_only=True),\n",
        "        CSVLogger(csv_path),\n",
        "        TensorBoard(),\n",
        "        EarlyStopping(monitor='val_loss', patience=50, restore_best_weights=False),\n",
        "    ]\n",
        "\n",
        "model.fit(\n",
        "    train_ds,\n",
        "    epochs=200,\n",
        "    validation_data=validation_ds,\n",
        "    callbacks=callbacks,\n",
        "    shuffle=False\n",
        ")"
      ]
    },
    {
      "cell_type": "code",
      "source": [
        "model = tf.keras.models.load_model('/content/drive/MyDrive/Machine_Learning/Research/Model/resnet.h5')"
      ],
      "metadata": {
        "id": "qIDwBXooZgSB"
      },
      "execution_count": null,
      "outputs": []
    },
    {
      "cell_type": "code",
      "source": [
        "# Remove the last layer of the model\n",
        "feature_extractor = Model(inputs=model.input, outputs=model.layers[-2].output)\n",
        "\n",
        "# Extract features from the test dataset\n",
        "test_features = feature_extractor.predict(validation_ds)\n",
        "\n",
        "num_clusters = 4  # specify the number of clusters\n",
        "kmeans = KMeans(n_clusters=num_clusters)\n",
        "clusters = kmeans.fit_predict(test_features)\n",
        "\n",
        "# clusters variable now contains the cluster labels for each image in the test dataset\n",
        "\n",
        "kmeans.labels_"
      ],
      "metadata": {
        "id": "k9C5qWUwVdmY",
        "colab": {
          "base_uri": "https://localhost:8080/"
        },
        "outputId": "c5dbd250-56fc-46e1-cccc-e69a72f6cef4"
      },
      "execution_count": null,
      "outputs": [
        {
          "output_type": "stream",
          "name": "stdout",
          "text": [
            "4/4 [==============================] - 1s 13ms/step\n"
          ]
        },
        {
          "output_type": "stream",
          "name": "stderr",
          "text": [
            "/usr/local/lib/python3.10/dist-packages/sklearn/cluster/_kmeans.py:870: FutureWarning: The default value of `n_init` will change from 10 to 'auto' in 1.4. Set the value of `n_init` explicitly to suppress the warning\n",
            "  warnings.warn(\n"
          ]
        },
        {
          "output_type": "execute_result",
          "data": {
            "text/plain": [
              "array([1, 3, 2, 1, 2, 2, 1, 2, 3, 1, 2, 2, 3, 1, 3, 2, 2, 3, 1, 1, 3, 0,\n",
              "       1, 2, 2, 2, 2, 1, 3, 1, 2, 1, 2, 3, 1, 1, 3, 3, 3, 3, 1, 2, 3, 2,\n",
              "       3, 2, 2, 1, 2, 1, 2, 3, 2, 2, 2, 2, 3, 3, 3, 3], dtype=int32)"
            ]
          },
          "metadata": {},
          "execution_count": 20
        }
      ]
    },
    {
      "cell_type": "code",
      "source": [
        "data_dir = '/content/drive/MyDrive/Machine_Learning/Research/ImageCLEFmedical  GANs 2024 - Task2 test/generated_images'\n",
        "data_dir = pathlib.Path(data_dir)"
      ],
      "metadata": {
        "id": "pQNatHV66j07"
      },
      "execution_count": null,
      "outputs": []
    },
    {
      "cell_type": "code",
      "source": [
        "image_count = len(list(data_dir.glob('*.*')))\n",
        "\n",
        "# Create a dataset of image file paths\n",
        "list_ds = tf.data.Dataset.list_files(str(data_dir/'*'), shuffle=False)\n",
        "list_ds = list_ds.shuffle(image_count, reshuffle_each_iteration=False)"
      ],
      "metadata": {
        "id": "EMtzovvq6j08"
      },
      "execution_count": null,
      "outputs": []
    },
    {
      "cell_type": "code",
      "source": [
        "def process_path(file_path):\n",
        "    img = tf.io.read_file(file_path)\n",
        "    img = tf.image.decode_png(img, channels=1)  # Use decode_png if images are png format\n",
        "    img = tf.image.resize(img, [256, 256])\n",
        "    img = tf.expand_dims(img, axis=-1)  # Add a channel dimension\n",
        "    img = (img / 255.0)  # Normalize pixels to 0,1\n",
        "    return img\n"
      ],
      "metadata": {
        "id": "UAqclNRW6j09"
      },
      "execution_count": null,
      "outputs": []
    },
    {
      "cell_type": "code",
      "source": [
        "new_dataset = list_ds.map(process_path, num_parallel_calls=tf.data.AUTOTUNE)\n"
      ],
      "metadata": {
        "id": "JWA-ih5w6j09"
      },
      "execution_count": null,
      "outputs": []
    },
    {
      "cell_type": "code",
      "source": [
        "# Remove the last layer of the model\n",
        "feature_extractor = Model(inputs=model.input, outputs=model.layers[-2].output)\n",
        "\n",
        "# Batch the dataset\n",
        "new_dataset = new_dataset.batch(16)  # Replace 16 with your desired batch size\n",
        "\n",
        "# Extract features from the new dataset\n",
        "new_features = feature_extractor.predict(new_dataset)\n",
        "\n",
        "# Perform clustering on the extracted features\n",
        "num_clusters = 4  # specify the number of clusters\n",
        "kmeans = KMeans(n_clusters=num_clusters)\n",
        "new_clusters = kmeans.fit_predict(new_features)\n",
        "\n",
        "# new_clusters variable now contains the cluster labels for each image in the new dataset\n",
        "print(kmeans.labels_)\n"
      ],
      "metadata": {
        "id": "Fg_V3v2i6j09",
        "colab": {
          "base_uri": "https://localhost:8080/"
        },
        "outputId": "2cce46c7-41ff-437a-dcc8-435685655e73"
      },
      "execution_count": null,
      "outputs": [
        {
          "output_type": "stream",
          "name": "stdout",
          "text": [
            "190/190 [==============================] - 29s 146ms/step\n"
          ]
        },
        {
          "output_type": "stream",
          "name": "stderr",
          "text": [
            "/usr/local/lib/python3.10/dist-packages/sklearn/cluster/_kmeans.py:870: FutureWarning: The default value of `n_init` will change from 10 to 'auto' in 1.4. Set the value of `n_init` explicitly to suppress the warning\n",
            "  warnings.warn(\n"
          ]
        },
        {
          "output_type": "stream",
          "name": "stdout",
          "text": [
            "[3 2 3 ... 3 0 0]\n"
          ]
        }
      ]
    },
    {
      "cell_type": "code",
      "source": [
        "print(kmeans.labels_[:20])"
      ],
      "metadata": {
        "id": "RSaC689P_B0G",
        "colab": {
          "base_uri": "https://localhost:8080/"
        },
        "outputId": "d904e4d0-f724-4edb-b20f-2e5da3f31d17"
      },
      "execution_count": null,
      "outputs": [
        {
          "output_type": "stream",
          "name": "stdout",
          "text": [
            "[3 2 3 0 3 3 0 3 2 2 2 3 3 2 3 0 3 0 3 0]\n"
          ]
        }
      ]
    },
    {
      "cell_type": "code",
      "source": [
        "# Load the provided run.csv file\n",
        "provided_run_path = '/content/drive/MyDrive/Machine_Learning/Research/ImageCLEFmedical  GANs 2024 - Task2 test/resnet.csv'\n",
        "\n",
        "# Read the file without header\n",
        "provided_run_df = pd.read_csv(provided_run_path, header=None, names=['data'])\n",
        "\n",
        "# Map figure IDs to cluster labels\n",
        "figure_ids = provided_run_df['data'].str.split('\\t', expand=True)[0]  # Extract figure IDs\n",
        "cluster_mapping = dict(zip(figure_ids, new_clusters + 1))  # Adding 1 to clusters to match the required labels [1, 2, 3, 4]\n",
        "\n",
        "# Create a DataFrame with image IDs and corresponding cluster mappings\n",
        "result_df = pd.DataFrame({'ImageID': figure_ids, 'Cluster': [cluster_mapping[x] for x in figure_ids]})\n",
        "\n",
        "# Save the DataFrame to the same CSV file (overwrite the existing file)\n",
        "result_df.to_csv(provided_run_path, index=False, header=False)\n"
      ],
      "metadata": {
        "id": "CQrY9GWA9Ior"
      },
      "execution_count": null,
      "outputs": []
    }
  ]
}