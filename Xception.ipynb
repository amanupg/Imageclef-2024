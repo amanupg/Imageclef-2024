{
  "nbformat": 4,
  "nbformat_minor": 0,
  "metadata": {
    "colab": {
      "provenance": [],
      "machine_shape": "hm",
      "gpuType": "A100",
      "authorship_tag": "ABX9TyO88p8LZRLZwGKpqb9xxXc/",
      "include_colab_link": true
    },
    "kernelspec": {
      "name": "python3",
      "display_name": "Python 3"
    },
    "language_info": {
      "name": "python"
    },
    "accelerator": "GPU"
  },
  "cells": [
    {
      "cell_type": "markdown",
      "metadata": {
        "id": "view-in-github",
        "colab_type": "text"
      },
      "source": [
        "<a href=\"https://colab.research.google.com/github/amanupg/Imageclef-2024/blob/main/Xception.ipynb\" target=\"_parent\"><img src=\"https://colab.research.google.com/assets/colab-badge.svg\" alt=\"Open In Colab\"/></a>"
      ]
    },
    {
      "cell_type": "code",
      "execution_count": null,
      "metadata": {
        "id": "IQOG4I2rqI3L"
      },
      "outputs": [],
      "source": [
        "import tensorflow as tf\n",
        "from tensorflow.keras.applications import InceptionV3, VGG19, ResNet50, Xception, EfficientNetB0, MobileNetV2\n",
        "import matplotlib.pyplot as plt\n",
        "import numpy as np\n",
        "import tensorflow.keras as keras\n",
        "from tensorflow.keras.layers import Dense, GlobalAveragePooling2D\n",
        "from tensorflow.keras.models import Model\n",
        "import pandas as pd\n",
        "import pathlib\n",
        "from sklearn.cluster import KMeans\n",
        "from tensorflow.keras.layers import Conv2D, BatchNormalization, Activation, MaxPooling2D, Conv2DTranspose, Concatenate, Input\n",
        "from tensorflow.keras.optimizers import Adam\n",
        "from tensorflow.keras.callbacks import ModelCheckpoint, CSVLogger, ReduceLROnPlateau, EarlyStopping, TensorBoard"
      ]
    },
    {
      "cell_type": "code",
      "execution_count": null,
      "metadata": {
        "colab": {
          "base_uri": "https://localhost:8080/"
        },
        "id": "BweFKiIQqLJu",
        "outputId": "c73fbeb2-4baa-408b-c1ca-456d13a09de5"
      },
      "outputs": [
        {
          "output_type": "stream",
          "name": "stdout",
          "text": [
            "Mounted at /content/drive\n"
          ]
        }
      ],
      "source": [
        "from google.colab import drive\n",
        "drive.mount('/content/drive')"
      ]
    },
    {
      "cell_type": "code",
      "execution_count": null,
      "metadata": {
        "colab": {
          "base_uri": "https://localhost:8080/"
        },
        "id": "U73RqKasqZtS",
        "outputId": "a60f0042-bcc8-4f0a-dba8-4e89122c4385"
      },
      "outputs": [
        {
          "output_type": "stream",
          "name": "stdout",
          "text": [
            "Downloading data from https://storage.googleapis.com/tensorflow/keras-applications/xception/xception_weights_tf_dim_ordering_tf_kernels_notop.h5\n",
            "83683744/83683744 [==============================] - 0s 0us/step\n"
          ]
        }
      ],
      "source": [
        "base_model = Xception(weights='imagenet', include_top=False)"
      ]
    },
    {
      "cell_type": "code",
      "execution_count": null,
      "metadata": {
        "id": "casiuFIEqdW3"
      },
      "outputs": [],
      "source": [
        "input_shape = (256, 256, 1)  # Grayscale images\n",
        "input_layer = tf.keras.layers.Input(shape=input_shape)\n",
        "gray_convert = tf.keras.layers.Lambda(lambda x: tf.image.grayscale_to_rgb(x))(input_layer)\n",
        "\n",
        "# Pass through InceptionV3 base model\n",
        "x = base_model(gray_convert)\n",
        "\n",
        "# Add custom classification head\n",
        "x = GlobalAveragePooling2D()(x)\n",
        "x = Dense(1024, activation='relu')(x)\n",
        "predictions = Dense(3, activation='softmax')(x)"
      ]
    },
    {
      "cell_type": "code",
      "execution_count": null,
      "metadata": {
        "id": "CpmZQrGwqqci"
      },
      "outputs": [],
      "source": [
        "model = Model(inputs=input_layer, outputs=predictions)"
      ]
    },
    {
      "cell_type": "code",
      "execution_count": null,
      "metadata": {
        "id": "O05CUeQ4q3Sy"
      },
      "outputs": [],
      "source": [
        "model.compile(optimizer='adam',\n",
        "              loss='categorical_crossentropy',\n",
        "              metrics=['accuracy'])"
      ]
    },
    {
      "cell_type": "code",
      "execution_count": null,
      "metadata": {
        "colab": {
          "base_uri": "https://localhost:8080/"
        },
        "id": "b6l79qD_q9tB",
        "outputId": "f56550d9-74a6-4b9d-bb8b-964d85530f23"
      },
      "outputs": [
        {
          "output_type": "stream",
          "name": "stdout",
          "text": [
            "Found 540 files belonging to 3 classes.\n",
            "Found 60 files belonging to 3 classes.\n"
          ]
        }
      ],
      "source": [
        "train_ds = keras.utils.image_dataset_from_directory(\n",
        "    directory='/content/drive/MyDrive/Machine_Learning/Research/Train',\n",
        "    labels='inferred',\n",
        "    label_mode='int',\n",
        "    batch_size=16,\n",
        "    image_size=(256, 256),\n",
        "    color_mode='grayscale'\n",
        ")\n",
        "validation_ds = keras.utils.image_dataset_from_directory(\n",
        "    directory='/content/drive/MyDrive/Machine_Learning/Research/Test',\n",
        "    labels='inferred',\n",
        "    label_mode='int',\n",
        "    batch_size=16,\n",
        "    image_size=(256, 256),\n",
        "    color_mode='grayscale'\n",
        ")"
      ]
    },
    {
      "cell_type": "code",
      "execution_count": null,
      "metadata": {
        "id": "76wTzrU_sKIu"
      },
      "outputs": [],
      "source": [
        "def process(image, label):\n",
        "    image = tf.cast(image / 255, tf.float32)\n",
        "    label = tf.one_hot(label, depth=3)  # One-hot encode labels for 3 classes\n",
        "    return image, label\n",
        "\n",
        "\n",
        "train_ds = train_ds.map(process)\n",
        "validation_ds = validation_ds.map(process)"
      ]
    },
    {
      "cell_type": "code",
      "execution_count": null,
      "metadata": {
        "colab": {
          "base_uri": "https://localhost:8080/"
        },
        "id": "75gtIYPeo2aQ",
        "outputId": "69ffb0ff-7ef8-4729-8fc3-078f0ce7d35c"
      },
      "outputs": [
        {
          "output_type": "stream",
          "name": "stdout",
          "text": [
            "Epoch 1/200\n",
            "34/34 [==============================] - ETA: 0s - loss: 0.5848 - accuracy: 0.7389\n",
            "Epoch 1: val_loss improved from inf to 27.94791, saving model to /content/drive/MyDrive/Machine_Learning/Research/Model/xception.h5\n"
          ]
        },
        {
          "output_type": "stream",
          "name": "stderr",
          "text": [
            "/usr/local/lib/python3.10/dist-packages/keras/src/engine/training.py:3103: UserWarning: You are saving your model as an HDF5 file via `model.save()`. This file format is considered legacy. We recommend using instead the native Keras format, e.g. `model.save('my_model.keras')`.\n",
            "  saving_api.save_model(\n"
          ]
        },
        {
          "output_type": "stream",
          "name": "stdout",
          "text": [
            "\b\b\b\b\b\b\b\b\b\b\b\b\b\b\b\b\b\b\b\b\b\b\b\b\b\b\b\b\b\b\b\b\b\b\b\b\b\b\b\b\b\b\b\b\b\b\b\b\b\b\b\b\b\b\b\b\b\b\b\b\b\b\b\b\b\b\b\b\b\b\b\b\b\b\b\b\b\b\b\b\b\b\r34/34 [==============================] - 41s 303ms/step - loss: 0.5848 - accuracy: 0.7389 - val_loss: 27.9479 - val_accuracy: 0.6667\n",
            "Epoch 2/200\n",
            "33/34 [============================>.] - ETA: 0s - loss: 0.1205 - accuracy: 0.9792\n",
            "Epoch 2: val_loss did not improve from 27.94791\n",
            "34/34 [==============================] - 2s 56ms/step - loss: 0.1179 - accuracy: 0.9796 - val_loss: 45.2442 - val_accuracy: 0.3333\n",
            "Epoch 3/200\n",
            "34/34 [==============================] - ETA: 0s - loss: 0.0189 - accuracy: 0.9944\n",
            "Epoch 3: val_loss improved from 27.94791 to 17.14929, saving model to /content/drive/MyDrive/Machine_Learning/Research/Model/xception.h5\n",
            "34/34 [==============================] - 3s 89ms/step - loss: 0.0189 - accuracy: 0.9944 - val_loss: 17.1493 - val_accuracy: 0.3833\n",
            "Epoch 4/200\n",
            "34/34 [==============================] - ETA: 0s - loss: 0.0041 - accuracy: 0.9981\n",
            "Epoch 4: val_loss improved from 17.14929 to 0.15811, saving model to /content/drive/MyDrive/Machine_Learning/Research/Model/xception.h5\n",
            "34/34 [==============================] - 4s 89ms/step - loss: 0.0041 - accuracy: 0.9981 - val_loss: 0.1581 - val_accuracy: 0.9667\n",
            "Epoch 5/200\n",
            "34/34 [==============================] - ETA: 0s - loss: 0.0249 - accuracy: 0.9981\n",
            "Epoch 5: val_loss did not improve from 0.15811\n",
            "34/34 [==============================] - 3s 55ms/step - loss: 0.0249 - accuracy: 0.9981 - val_loss: 2.9330 - val_accuracy: 0.6667\n",
            "Epoch 6/200\n",
            "33/34 [============================>.] - ETA: 0s - loss: 0.0070 - accuracy: 1.0000\n",
            "Epoch 6: val_loss did not improve from 0.15811\n",
            "34/34 [==============================] - 2s 56ms/step - loss: 0.0083 - accuracy: 1.0000 - val_loss: 6.5302 - val_accuracy: 0.4667\n",
            "Epoch 7/200\n",
            "33/34 [============================>.] - ETA: 0s - loss: 0.0060 - accuracy: 0.9981\n",
            "Epoch 7: val_loss did not improve from 0.15811\n",
            "34/34 [==============================] - 2s 55ms/step - loss: 0.0071 - accuracy: 0.9981 - val_loss: 3.9565 - val_accuracy: 0.8167\n",
            "Epoch 8/200\n",
            "34/34 [==============================] - ETA: 0s - loss: 0.0506 - accuracy: 0.9870\n",
            "Epoch 8: val_loss did not improve from 0.15811\n",
            "34/34 [==============================] - 2s 55ms/step - loss: 0.0506 - accuracy: 0.9870 - val_loss: 14.7731 - val_accuracy: 0.7167\n",
            "Epoch 9/200\n",
            "34/34 [==============================] - ETA: 0s - loss: 0.0147 - accuracy: 0.9963\n",
            "Epoch 9: val_loss did not improve from 0.15811\n",
            "34/34 [==============================] - 2s 57ms/step - loss: 0.0147 - accuracy: 0.9963 - val_loss: 220.7902 - val_accuracy: 0.6000\n",
            "Epoch 10/200\n",
            "34/34 [==============================] - ETA: 0s - loss: 0.3003 - accuracy: 0.9296\n",
            "Epoch 10: val_loss did not improve from 0.15811\n",
            "34/34 [==============================] - 2s 56ms/step - loss: 0.3003 - accuracy: 0.9296 - val_loss: 89722.4766 - val_accuracy: 0.3333\n",
            "Epoch 11/200\n",
            "33/34 [============================>.] - ETA: 0s - loss: 0.0745 - accuracy: 0.9848\n",
            "Epoch 11: val_loss did not improve from 0.15811\n",
            "34/34 [==============================] - 2s 57ms/step - loss: 0.0728 - accuracy: 0.9852 - val_loss: 1392.1816 - val_accuracy: 0.3333\n",
            "Epoch 12/200\n",
            "34/34 [==============================] - ETA: 0s - loss: 0.0040 - accuracy: 1.0000\n",
            "Epoch 12: val_loss did not improve from 0.15811\n",
            "34/34 [==============================] - 2s 58ms/step - loss: 0.0040 - accuracy: 1.0000 - val_loss: 141.1165 - val_accuracy: 0.3333\n",
            "Epoch 13/200\n",
            "33/34 [============================>.] - ETA: 0s - loss: 4.0555e-04 - accuracy: 1.0000\n",
            "Epoch 13: val_loss did not improve from 0.15811\n",
            "34/34 [==============================] - 2s 57ms/step - loss: 3.9654e-04 - accuracy: 1.0000 - val_loss: 24.6131 - val_accuracy: 0.3667\n",
            "Epoch 14/200\n",
            "33/34 [============================>.] - ETA: 0s - loss: 0.2101 - accuracy: 0.9792\n",
            "Epoch 14: val_loss did not improve from 0.15811\n",
            "34/34 [==============================] - 2s 57ms/step - loss: 0.2069 - accuracy: 0.9796 - val_loss: 223.9840 - val_accuracy: 0.3833\n",
            "Epoch 15/200\n",
            "34/34 [==============================] - ETA: 0s - loss: 0.6163 - accuracy: 0.9759\n",
            "Epoch 15: val_loss did not improve from 0.15811\n",
            "34/34 [==============================] - 2s 56ms/step - loss: 0.6163 - accuracy: 0.9759 - val_loss: 41.4571 - val_accuracy: 0.6667\n",
            "Epoch 16/200\n",
            "34/34 [==============================] - ETA: 0s - loss: 0.0403 - accuracy: 0.9907\n",
            "Epoch 16: val_loss did not improve from 0.15811\n",
            "34/34 [==============================] - 2s 56ms/step - loss: 0.0403 - accuracy: 0.9907 - val_loss: 7.4762 - val_accuracy: 0.6667\n",
            "Epoch 17/200\n",
            "34/34 [==============================] - ETA: 0s - loss: 0.0182 - accuracy: 0.9926\n",
            "Epoch 17: val_loss improved from 0.15811 to 0.00002, saving model to /content/drive/MyDrive/Machine_Learning/Research/Model/xception.h5\n",
            "34/34 [==============================] - 5s 151ms/step - loss: 0.0182 - accuracy: 0.9926 - val_loss: 1.6927e-05 - val_accuracy: 1.0000\n",
            "Epoch 18/200\n",
            "33/34 [============================>.] - ETA: 0s - loss: 0.0023 - accuracy: 1.0000\n",
            "Epoch 18: val_loss improved from 0.00002 to 0.00002, saving model to /content/drive/MyDrive/Machine_Learning/Research/Model/xception.h5\n",
            "34/34 [==============================] - 3s 92ms/step - loss: 0.0022 - accuracy: 1.0000 - val_loss: 1.6377e-05 - val_accuracy: 1.0000\n",
            "Epoch 19/200\n",
            "34/34 [==============================] - ETA: 0s - loss: 0.0045 - accuracy: 0.9981\n",
            "Epoch 19: val_loss did not improve from 0.00002\n",
            "34/34 [==============================] - 3s 58ms/step - loss: 0.0045 - accuracy: 0.9981 - val_loss: 3.0889e-05 - val_accuracy: 1.0000\n",
            "Epoch 20/200\n",
            "33/34 [============================>.] - ETA: 0s - loss: 5.0084e-04 - accuracy: 1.0000\n",
            "Epoch 20: val_loss did not improve from 0.00002\n",
            "34/34 [==============================] - 2s 57ms/step - loss: 0.0012 - accuracy: 1.0000 - val_loss: 3.5863e-05 - val_accuracy: 1.0000\n",
            "Epoch 21/200\n",
            "33/34 [============================>.] - ETA: 0s - loss: 7.2281e-04 - accuracy: 1.0000\n",
            "Epoch 21: val_loss did not improve from 0.00002\n",
            "34/34 [==============================] - 2s 58ms/step - loss: 7.1039e-04 - accuracy: 1.0000 - val_loss: 4.6153e-05 - val_accuracy: 1.0000\n",
            "Epoch 22/200\n",
            "34/34 [==============================] - ETA: 0s - loss: 1.8268e-04 - accuracy: 1.0000\n",
            "Epoch 22: val_loss did not improve from 0.00002\n",
            "34/34 [==============================] - 2s 57ms/step - loss: 1.8268e-04 - accuracy: 1.0000 - val_loss: 4.1198e-05 - val_accuracy: 1.0000\n",
            "Epoch 23/200\n",
            "33/34 [============================>.] - ETA: 0s - loss: 1.6389e-04 - accuracy: 1.0000\n",
            "Epoch 23: val_loss did not improve from 0.00002\n",
            "34/34 [==============================] - 2s 57ms/step - loss: 1.8228e-04 - accuracy: 1.0000 - val_loss: 3.3068e-05 - val_accuracy: 1.0000\n",
            "Epoch 24/200\n",
            "33/34 [============================>.] - ETA: 0s - loss: 1.7573e-04 - accuracy: 1.0000\n",
            "Epoch 24: val_loss did not improve from 0.00002\n",
            "34/34 [==============================] - 2s 56ms/step - loss: 1.7225e-04 - accuracy: 1.0000 - val_loss: 2.8224e-05 - val_accuracy: 1.0000\n",
            "Epoch 25/200\n",
            "33/34 [============================>.] - ETA: 0s - loss: 1.6064e-04 - accuracy: 1.0000\n",
            "Epoch 25: val_loss did not improve from 0.00002\n",
            "34/34 [==============================] - 2s 57ms/step - loss: 1.6133e-04 - accuracy: 1.0000 - val_loss: 2.4763e-05 - val_accuracy: 1.0000\n",
            "Epoch 26/200\n",
            "33/34 [============================>.] - ETA: 0s - loss: 1.7983e-04 - accuracy: 1.0000\n",
            "Epoch 26: val_loss did not improve from 0.00002\n",
            "34/34 [==============================] - 2s 56ms/step - loss: 1.7587e-04 - accuracy: 1.0000 - val_loss: 2.0288e-05 - val_accuracy: 1.0000\n",
            "Epoch 27/200\n",
            "33/34 [============================>.] - ETA: 0s - loss: 1.1761e-04 - accuracy: 1.0000\n",
            "Epoch 27: val_loss did not improve from 0.00002\n",
            "34/34 [==============================] - 2s 56ms/step - loss: 1.1582e-04 - accuracy: 1.0000 - val_loss: 1.7538e-05 - val_accuracy: 1.0000\n",
            "Epoch 28/200\n",
            "33/34 [============================>.] - ETA: 0s - loss: 8.4209e-05 - accuracy: 1.0000\n",
            "Epoch 28: val_loss improved from 0.00002 to 0.00002, saving model to /content/drive/MyDrive/Machine_Learning/Research/Model/xception.h5\n",
            "34/34 [==============================] - 5s 151ms/step - loss: 8.2505e-05 - accuracy: 1.0000 - val_loss: 1.6144e-05 - val_accuracy: 1.0000\n",
            "Epoch 29/200\n",
            "34/34 [==============================] - ETA: 0s - loss: 3.5302e-04 - accuracy: 1.0000\n",
            "Epoch 29: val_loss did not improve from 0.00002\n",
            "34/34 [==============================] - 3s 58ms/step - loss: 3.5302e-04 - accuracy: 1.0000 - val_loss: 3.5711e-05 - val_accuracy: 1.0000\n",
            "Epoch 30/200\n",
            "34/34 [==============================] - ETA: 0s - loss: 0.0011 - accuracy: 1.0000\n",
            "Epoch 30: val_loss did not improve from 0.00002\n",
            "34/34 [==============================] - 2s 56ms/step - loss: 0.0011 - accuracy: 1.0000 - val_loss: 2.0164e-04 - val_accuracy: 1.0000\n",
            "Epoch 31/200\n",
            "33/34 [============================>.] - ETA: 0s - loss: 4.2667e-04 - accuracy: 1.0000\n",
            "Epoch 31: val_loss did not improve from 0.00002\n",
            "34/34 [==============================] - 2s 57ms/step - loss: 4.1747e-04 - accuracy: 1.0000 - val_loss: 5.8736e-05 - val_accuracy: 1.0000\n",
            "Epoch 32/200\n",
            "34/34 [==============================] - ETA: 0s - loss: 6.1525e-05 - accuracy: 1.0000\n",
            "Epoch 32: val_loss did not improve from 0.00002\n",
            "34/34 [==============================] - 2s 58ms/step - loss: 6.1525e-05 - accuracy: 1.0000 - val_loss: 4.1627e-05 - val_accuracy: 1.0000\n",
            "Epoch 33/200\n",
            "33/34 [============================>.] - ETA: 0s - loss: 2.3706e-04 - accuracy: 1.0000\n",
            "Epoch 33: val_loss did not improve from 0.00002\n",
            "34/34 [==============================] - 2s 57ms/step - loss: 2.3188e-04 - accuracy: 1.0000 - val_loss: 2.4447e-05 - val_accuracy: 1.0000\n",
            "Epoch 34/200\n",
            "34/34 [==============================] - ETA: 0s - loss: 1.1982e-04 - accuracy: 1.0000\n",
            "Epoch 34: val_loss did not improve from 0.00002\n",
            "34/34 [==============================] - 2s 57ms/step - loss: 1.1982e-04 - accuracy: 1.0000 - val_loss: 1.6666e-05 - val_accuracy: 1.0000\n",
            "Epoch 35/200\n",
            "34/34 [==============================] - ETA: 0s - loss: 7.6114e-04 - accuracy: 1.0000\n",
            "Epoch 35: val_loss did not improve from 0.00002\n",
            "34/34 [==============================] - 2s 56ms/step - loss: 7.6114e-04 - accuracy: 1.0000 - val_loss: 3.3288e-04 - val_accuracy: 1.0000\n",
            "Epoch 36/200\n",
            "33/34 [============================>.] - ETA: 0s - loss: 4.7094e-04 - accuracy: 1.0000\n",
            "Epoch 36: val_loss did not improve from 0.00002\n",
            "34/34 [==============================] - 2s 56ms/step - loss: 4.6162e-04 - accuracy: 1.0000 - val_loss: 1.5825e-04 - val_accuracy: 1.0000\n",
            "Epoch 37/200\n",
            "34/34 [==============================] - ETA: 0s - loss: 5.2231e-05 - accuracy: 1.0000\n",
            "Epoch 37: val_loss did not improve from 0.00002\n",
            "34/34 [==============================] - 2s 56ms/step - loss: 5.2231e-05 - accuracy: 1.0000 - val_loss: 2.9582e-05 - val_accuracy: 1.0000\n",
            "Epoch 38/200\n",
            "33/34 [============================>.] - ETA: 0s - loss: 0.1868 - accuracy: 0.9773\n",
            "Epoch 38: val_loss did not improve from 0.00002\n",
            "34/34 [==============================] - 2s 56ms/step - loss: 0.1826 - accuracy: 0.9778 - val_loss: 4.0297e-04 - val_accuracy: 1.0000\n",
            "Epoch 39/200\n",
            "33/34 [============================>.] - ETA: 0s - loss: 0.0021 - accuracy: 1.0000\n",
            "Epoch 39: val_loss did not improve from 0.00002\n",
            "34/34 [==============================] - 2s 56ms/step - loss: 0.0020 - accuracy: 1.0000 - val_loss: 0.0033 - val_accuracy: 1.0000\n",
            "Epoch 40/200\n",
            "33/34 [============================>.] - ETA: 0s - loss: 0.0072 - accuracy: 1.0000\n",
            "Epoch 40: val_loss did not improve from 0.00002\n",
            "34/34 [==============================] - 2s 58ms/step - loss: 0.0071 - accuracy: 1.0000 - val_loss: 3.7958 - val_accuracy: 0.5833\n",
            "Epoch 41/200\n",
            "33/34 [============================>.] - ETA: 0s - loss: 0.0061 - accuracy: 1.0000\n",
            "Epoch 41: val_loss did not improve from 0.00002\n",
            "34/34 [==============================] - 2s 56ms/step - loss: 0.0060 - accuracy: 1.0000 - val_loss: 0.4516 - val_accuracy: 0.8333\n",
            "Epoch 42/200\n",
            "33/34 [============================>.] - ETA: 0s - loss: 2.8884e-04 - accuracy: 1.0000\n",
            "Epoch 42: val_loss did not improve from 0.00002\n",
            "34/34 [==============================] - 2s 56ms/step - loss: 2.8267e-04 - accuracy: 1.0000 - val_loss: 0.0020 - val_accuracy: 1.0000\n",
            "Epoch 43/200\n",
            "33/34 [============================>.] - ETA: 0s - loss: 9.9425e-05 - accuracy: 1.0000\n",
            "Epoch 43: val_loss did not improve from 0.00002\n",
            "34/34 [==============================] - 2s 56ms/step - loss: 9.7225e-05 - accuracy: 1.0000 - val_loss: 1.7456e-04 - val_accuracy: 1.0000\n",
            "Epoch 44/200\n",
            "34/34 [==============================] - ETA: 0s - loss: 5.5175e-05 - accuracy: 1.0000\n",
            "Epoch 44: val_loss did not improve from 0.00002\n",
            "34/34 [==============================] - 2s 56ms/step - loss: 5.5175e-05 - accuracy: 1.0000 - val_loss: 4.6464e-05 - val_accuracy: 1.0000\n",
            "Epoch 45/200\n",
            "33/34 [============================>.] - ETA: 0s - loss: 0.0027 - accuracy: 1.0000\n",
            "Epoch 45: val_loss did not improve from 0.00002\n",
            "34/34 [==============================] - 2s 55ms/step - loss: 0.0026 - accuracy: 1.0000 - val_loss: 0.0016 - val_accuracy: 1.0000\n",
            "Epoch 46/200\n",
            "33/34 [============================>.] - ETA: 0s - loss: 8.0655e-04 - accuracy: 1.0000\n",
            "Epoch 46: val_loss did not improve from 0.00002\n",
            "34/34 [==============================] - 2s 57ms/step - loss: 0.1463 - accuracy: 0.9870 - val_loss: 0.0330 - val_accuracy: 0.9833\n",
            "Epoch 47/200\n",
            "34/34 [==============================] - ETA: 0s - loss: 0.0452 - accuracy: 0.9907\n",
            "Epoch 47: val_loss did not improve from 0.00002\n",
            "34/34 [==============================] - 2s 59ms/step - loss: 0.0452 - accuracy: 0.9907 - val_loss: 14.3627 - val_accuracy: 0.4500\n",
            "Epoch 48/200\n",
            "34/34 [==============================] - ETA: 0s - loss: 0.0321 - accuracy: 0.9944\n",
            "Epoch 48: val_loss did not improve from 0.00002\n",
            "34/34 [==============================] - 2s 57ms/step - loss: 0.0321 - accuracy: 0.9944 - val_loss: 980.7068 - val_accuracy: 0.3333\n",
            "Epoch 49/200\n",
            "33/34 [============================>.] - ETA: 0s - loss: 0.0148 - accuracy: 0.9962\n",
            "Epoch 49: val_loss did not improve from 0.00002\n",
            "34/34 [==============================] - 2s 55ms/step - loss: 0.0145 - accuracy: 0.9963 - val_loss: 35.5514 - val_accuracy: 0.5000\n",
            "Epoch 50/200\n",
            "34/34 [==============================] - ETA: 0s - loss: 2.2244e-04 - accuracy: 1.0000\n",
            "Epoch 50: val_loss did not improve from 0.00002\n",
            "34/34 [==============================] - 2s 55ms/step - loss: 2.2244e-04 - accuracy: 1.0000 - val_loss: 6.6813 - val_accuracy: 0.6500\n",
            "Epoch 51/200\n",
            "33/34 [============================>.] - ETA: 0s - loss: 9.0253e-05 - accuracy: 1.0000\n",
            "Epoch 51: val_loss did not improve from 0.00002\n",
            "34/34 [==============================] - 2s 56ms/step - loss: 8.8417e-05 - accuracy: 1.0000 - val_loss: 1.1371 - val_accuracy: 0.8000\n",
            "Epoch 52/200\n",
            "34/34 [==============================] - ETA: 0s - loss: 5.1084e-04 - accuracy: 1.0000\n",
            "Epoch 52: val_loss did not improve from 0.00002\n",
            "34/34 [==============================] - 2s 57ms/step - loss: 5.1084e-04 - accuracy: 1.0000 - val_loss: 0.0199 - val_accuracy: 0.9833\n",
            "Epoch 53/200\n",
            "34/34 [==============================] - ETA: 0s - loss: 3.6217e-05 - accuracy: 1.0000\n",
            "Epoch 53: val_loss improved from 0.00002 to 0.00001, saving model to /content/drive/MyDrive/Machine_Learning/Research/Model/xception.h5\n",
            "34/34 [==============================] - 5s 146ms/step - loss: 3.6217e-05 - accuracy: 1.0000 - val_loss: 1.3688e-05 - val_accuracy: 1.0000\n",
            "Epoch 54/200\n",
            "33/34 [============================>.] - ETA: 0s - loss: 0.0446 - accuracy: 0.9943\n",
            "Epoch 54: val_loss did not improve from 0.00001\n",
            "34/34 [==============================] - 3s 56ms/step - loss: 0.0437 - accuracy: 0.9944 - val_loss: 10.6285 - val_accuracy: 0.5167\n",
            "Epoch 55/200\n",
            "34/34 [==============================] - ETA: 0s - loss: 0.3432 - accuracy: 0.9815\n",
            "Epoch 55: val_loss did not improve from 0.00001\n",
            "34/34 [==============================] - 2s 57ms/step - loss: 0.3432 - accuracy: 0.9815 - val_loss: 52.4865 - val_accuracy: 0.3333\n",
            "Epoch 56/200\n",
            "34/34 [==============================] - ETA: 0s - loss: 0.0201 - accuracy: 0.9907\n",
            "Epoch 56: val_loss did not improve from 0.00001\n",
            "34/34 [==============================] - 2s 56ms/step - loss: 0.0201 - accuracy: 0.9907 - val_loss: 0.2743 - val_accuracy: 0.9000\n",
            "Epoch 57/200\n",
            "33/34 [============================>.] - ETA: 0s - loss: 0.0011 - accuracy: 1.0000\n",
            "Epoch 57: val_loss did not improve from 0.00001\n",
            "34/34 [==============================] - 2s 56ms/step - loss: 0.0014 - accuracy: 1.0000 - val_loss: 0.0183 - val_accuracy: 1.0000\n",
            "Epoch 58/200\n",
            "33/34 [============================>.] - ETA: 0s - loss: 0.0024 - accuracy: 0.9981\n",
            "Epoch 58: val_loss did not improve from 0.00001\n",
            "34/34 [==============================] - 2s 58ms/step - loss: 0.0023 - accuracy: 0.9981 - val_loss: 0.0010 - val_accuracy: 1.0000\n",
            "Epoch 59/200\n",
            "33/34 [============================>.] - ETA: 0s - loss: 0.0032 - accuracy: 1.0000\n",
            "Epoch 59: val_loss did not improve from 0.00001\n",
            "34/34 [==============================] - 2s 58ms/step - loss: 0.0031 - accuracy: 1.0000 - val_loss: 3.7974e-04 - val_accuracy: 1.0000\n",
            "Epoch 60/200\n",
            "34/34 [==============================] - ETA: 0s - loss: 7.7772e-04 - accuracy: 1.0000\n",
            "Epoch 60: val_loss did not improve from 0.00001\n",
            "34/34 [==============================] - 2s 56ms/step - loss: 7.7772e-04 - accuracy: 1.0000 - val_loss: 1.8635e-04 - val_accuracy: 1.0000\n",
            "Epoch 61/200\n",
            "34/34 [==============================] - ETA: 0s - loss: 4.6606e-04 - accuracy: 1.0000\n",
            "Epoch 61: val_loss did not improve from 0.00001\n",
            "34/34 [==============================] - 2s 55ms/step - loss: 4.6606e-04 - accuracy: 1.0000 - val_loss: 7.9528e-05 - val_accuracy: 1.0000\n",
            "Epoch 62/200\n",
            "33/34 [============================>.] - ETA: 0s - loss: 1.8109e-04 - accuracy: 1.0000\n",
            "Epoch 62: val_loss did not improve from 0.00001\n",
            "34/34 [==============================] - 2s 56ms/step - loss: 1.7720e-04 - accuracy: 1.0000 - val_loss: 4.6499e-05 - val_accuracy: 1.0000\n",
            "Epoch 63/200\n",
            "33/34 [============================>.] - ETA: 0s - loss: 0.0065 - accuracy: 0.9962\n",
            "Epoch 63: val_loss did not improve from 0.00001\n",
            "34/34 [==============================] - 2s 56ms/step - loss: 0.0063 - accuracy: 0.9963 - val_loss: 6.7160e-05 - val_accuracy: 1.0000\n",
            "Epoch 64/200\n",
            "34/34 [==============================] - ETA: 0s - loss: 0.0080 - accuracy: 0.9981\n",
            "Epoch 64: val_loss did not improve from 0.00001\n",
            "34/34 [==============================] - 2s 56ms/step - loss: 0.0080 - accuracy: 0.9981 - val_loss: 0.0784 - val_accuracy: 0.9500\n",
            "Epoch 65/200\n",
            "34/34 [==============================] - ETA: 0s - loss: 7.5615e-04 - accuracy: 1.0000\n",
            "Epoch 65: val_loss did not improve from 0.00001\n",
            "34/34 [==============================] - 2s 56ms/step - loss: 7.5615e-04 - accuracy: 1.0000 - val_loss: 0.0539 - val_accuracy: 0.9667\n",
            "Epoch 66/200\n",
            "33/34 [============================>.] - ETA: 0s - loss: 7.6848e-04 - accuracy: 1.0000\n",
            "Epoch 66: val_loss did not improve from 0.00001\n",
            "34/34 [==============================] - 2s 56ms/step - loss: 7.5256e-04 - accuracy: 1.0000 - val_loss: 0.0013 - val_accuracy: 1.0000\n",
            "Epoch 67/200\n",
            "34/34 [==============================] - ETA: 0s - loss: 6.5182e-04 - accuracy: 1.0000\n",
            "Epoch 67: val_loss did not improve from 0.00001\n",
            "34/34 [==============================] - 2s 56ms/step - loss: 6.5182e-04 - accuracy: 1.0000 - val_loss: 2.1235e-04 - val_accuracy: 1.0000\n",
            "Epoch 68/200\n",
            "33/34 [============================>.] - ETA: 0s - loss: 1.6351e-04 - accuracy: 1.0000\n",
            "Epoch 68: val_loss did not improve from 0.00001\n",
            "34/34 [==============================] - 2s 58ms/step - loss: 1.5998e-04 - accuracy: 1.0000 - val_loss: 6.7409e-05 - val_accuracy: 1.0000\n",
            "Epoch 69/200\n",
            "33/34 [============================>.] - ETA: 0s - loss: 1.1364e-04 - accuracy: 1.0000\n",
            "Epoch 69: val_loss did not improve from 0.00001\n",
            "34/34 [==============================] - 2s 56ms/step - loss: 1.1255e-04 - accuracy: 1.0000 - val_loss: 2.7665e-05 - val_accuracy: 1.0000\n",
            "Epoch 70/200\n",
            "34/34 [==============================] - ETA: 0s - loss: 6.5265e-05 - accuracy: 1.0000\n",
            "Epoch 70: val_loss did not improve from 0.00001\n",
            "34/34 [==============================] - 2s 56ms/step - loss: 6.5265e-05 - accuracy: 1.0000 - val_loss: 1.4396e-05 - val_accuracy: 1.0000\n",
            "Epoch 71/200\n",
            "34/34 [==============================] - ETA: 0s - loss: 1.0868e-04 - accuracy: 1.0000\n",
            "Epoch 71: val_loss improved from 0.00001 to 0.00001, saving model to /content/drive/MyDrive/Machine_Learning/Research/Model/xception.h5\n",
            "34/34 [==============================] - 5s 150ms/step - loss: 1.0868e-04 - accuracy: 1.0000 - val_loss: 9.2971e-06 - val_accuracy: 1.0000\n",
            "Epoch 72/200\n",
            "33/34 [============================>.] - ETA: 0s - loss: 7.1875e-05 - accuracy: 1.0000\n",
            "Epoch 72: val_loss improved from 0.00001 to 0.00001, saving model to /content/drive/MyDrive/Machine_Learning/Research/Model/xception.h5\n",
            "34/34 [==============================] - 4s 93ms/step - loss: 7.0307e-05 - accuracy: 1.0000 - val_loss: 7.3943e-06 - val_accuracy: 1.0000\n",
            "Epoch 73/200\n",
            "33/34 [============================>.] - ETA: 0s - loss: 3.6384e-05 - accuracy: 1.0000\n",
            "Epoch 73: val_loss improved from 0.00001 to 0.00001, saving model to /content/drive/MyDrive/Machine_Learning/Research/Model/xception.h5\n",
            "34/34 [==============================] - 4s 90ms/step - loss: 3.7297e-05 - accuracy: 1.0000 - val_loss: 5.4813e-06 - val_accuracy: 1.0000\n",
            "Epoch 74/200\n",
            "34/34 [==============================] - ETA: 0s - loss: 2.4224e-04 - accuracy: 1.0000\n",
            "Epoch 74: val_loss did not improve from 0.00001\n",
            "34/34 [==============================] - 3s 56ms/step - loss: 2.4224e-04 - accuracy: 1.0000 - val_loss: 6.6077e-06 - val_accuracy: 1.0000\n",
            "Epoch 75/200\n",
            "33/34 [============================>.] - ETA: 0s - loss: 3.3652e-05 - accuracy: 1.0000\n",
            "Epoch 75: val_loss improved from 0.00001 to 0.00001, saving model to /content/drive/MyDrive/Machine_Learning/Research/Model/xception.h5\n",
            "34/34 [==============================] - 3s 94ms/step - loss: 3.2920e-05 - accuracy: 1.0000 - val_loss: 5.0860e-06 - val_accuracy: 1.0000\n",
            "Epoch 76/200\n",
            "33/34 [============================>.] - ETA: 0s - loss: 1.6237e-05 - accuracy: 1.0000\n",
            "Epoch 76: val_loss improved from 0.00001 to 0.00000, saving model to /content/drive/MyDrive/Machine_Learning/Research/Model/xception.h5\n",
            "34/34 [==============================] - 4s 92ms/step - loss: 1.6029e-05 - accuracy: 1.0000 - val_loss: 3.8980e-06 - val_accuracy: 1.0000\n",
            "Epoch 77/200\n",
            "34/34 [==============================] - ETA: 0s - loss: 5.8337e-05 - accuracy: 1.0000\n",
            "Epoch 77: val_loss improved from 0.00000 to 0.00000, saving model to /content/drive/MyDrive/Machine_Learning/Research/Model/xception.h5\n",
            "34/34 [==============================] - 4s 89ms/step - loss: 5.8337e-05 - accuracy: 1.0000 - val_loss: 3.0338e-06 - val_accuracy: 1.0000\n",
            "Epoch 78/200\n",
            "33/34 [============================>.] - ETA: 0s - loss: 3.1518e-05 - accuracy: 1.0000\n",
            "Epoch 78: val_loss improved from 0.00000 to 0.00000, saving model to /content/drive/MyDrive/Machine_Learning/Research/Model/xception.h5\n",
            "34/34 [==============================] - 4s 91ms/step - loss: 3.0819e-05 - accuracy: 1.0000 - val_loss: 2.7020e-06 - val_accuracy: 1.0000\n",
            "Epoch 79/200\n",
            "34/34 [==============================] - ETA: 0s - loss: 1.7767e-05 - accuracy: 1.0000\n",
            "Epoch 79: val_loss improved from 0.00000 to 0.00000, saving model to /content/drive/MyDrive/Machine_Learning/Research/Model/xception.h5\n",
            "34/34 [==============================] - 4s 92ms/step - loss: 1.7767e-05 - accuracy: 1.0000 - val_loss: 2.4099e-06 - val_accuracy: 1.0000\n",
            "Epoch 80/200\n",
            "34/34 [==============================] - ETA: 0s - loss: 9.5360e-05 - accuracy: 1.0000\n",
            "Epoch 80: val_loss improved from 0.00000 to 0.00000, saving model to /content/drive/MyDrive/Machine_Learning/Research/Model/xception.h5\n",
            "34/34 [==============================] - 4s 91ms/step - loss: 9.5360e-05 - accuracy: 1.0000 - val_loss: 1.8477e-06 - val_accuracy: 1.0000\n",
            "Epoch 81/200\n",
            "33/34 [============================>.] - ETA: 0s - loss: 4.7750e-05 - accuracy: 1.0000\n",
            "Epoch 81: val_loss did not improve from 0.00000\n",
            "34/34 [==============================] - 3s 57ms/step - loss: 4.8265e-05 - accuracy: 1.0000 - val_loss: 2.1318e-06 - val_accuracy: 1.0000\n",
            "Epoch 82/200\n",
            "34/34 [==============================] - ETA: 0s - loss: 9.5500e-06 - accuracy: 1.0000\n",
            "Epoch 82: val_loss did not improve from 0.00000\n",
            "34/34 [==============================] - 2s 57ms/step - loss: 9.5500e-06 - accuracy: 1.0000 - val_loss: 2.0285e-06 - val_accuracy: 1.0000\n",
            "Epoch 83/200\n",
            "34/34 [==============================] - ETA: 0s - loss: 0.0013 - accuracy: 1.0000\n",
            "Epoch 83: val_loss improved from 0.00000 to 0.00000, saving model to /content/drive/MyDrive/Machine_Learning/Research/Model/xception.h5\n",
            "34/34 [==============================] - 3s 92ms/step - loss: 0.0013 - accuracy: 1.0000 - val_loss: 1.0212e-06 - val_accuracy: 1.0000\n",
            "Epoch 84/200\n",
            "34/34 [==============================] - ETA: 0s - loss: 1.4715e-04 - accuracy: 1.0000\n",
            "Epoch 84: val_loss improved from 0.00000 to 0.00000, saving model to /content/drive/MyDrive/Machine_Learning/Research/Model/xception.h5\n",
            "34/34 [==============================] - 4s 91ms/step - loss: 1.4715e-04 - accuracy: 1.0000 - val_loss: 6.9141e-07 - val_accuracy: 1.0000\n",
            "Epoch 85/200\n",
            "33/34 [============================>.] - ETA: 0s - loss: 8.1722e-06 - accuracy: 1.0000\n",
            "Epoch 85: val_loss improved from 0.00000 to 0.00000, saving model to /content/drive/MyDrive/Machine_Learning/Research/Model/xception.h5\n",
            "34/34 [==============================] - 4s 90ms/step - loss: 8.3308e-06 - accuracy: 1.0000 - val_loss: 6.4572e-07 - val_accuracy: 1.0000\n",
            "Epoch 86/200\n",
            "33/34 [============================>.] - ETA: 0s - loss: 3.0122e-05 - accuracy: 1.0000\n",
            "Epoch 86: val_loss improved from 0.00000 to 0.00000, saving model to /content/drive/MyDrive/Machine_Learning/Research/Model/xception.h5\n",
            "34/34 [==============================] - 4s 92ms/step - loss: 4.9540e-05 - accuracy: 1.0000 - val_loss: 6.1591e-07 - val_accuracy: 1.0000\n",
            "Epoch 87/200\n",
            "33/34 [============================>.] - ETA: 0s - loss: 2.2537e-05 - accuracy: 1.0000\n",
            "Epoch 87: val_loss improved from 0.00000 to 0.00000, saving model to /content/drive/MyDrive/Machine_Learning/Research/Model/xception.h5\n",
            "34/34 [==============================] - 4s 91ms/step - loss: 2.2507e-05 - accuracy: 1.0000 - val_loss: 5.6426e-07 - val_accuracy: 1.0000\n",
            "Epoch 88/200\n",
            "34/34 [==============================] - ETA: 0s - loss: 2.9303e-05 - accuracy: 1.0000\n",
            "Epoch 88: val_loss did not improve from 0.00000\n",
            "34/34 [==============================] - 3s 56ms/step - loss: 2.9303e-05 - accuracy: 1.0000 - val_loss: 5.8214e-07 - val_accuracy: 1.0000\n",
            "Epoch 89/200\n",
            "34/34 [==============================] - ETA: 0s - loss: 1.9604e-05 - accuracy: 1.0000\n",
            "Epoch 89: val_loss did not improve from 0.00000\n",
            "34/34 [==============================] - 2s 57ms/step - loss: 1.9604e-05 - accuracy: 1.0000 - val_loss: 5.9803e-07 - val_accuracy: 1.0000\n",
            "Epoch 90/200\n",
            "34/34 [==============================] - ETA: 0s - loss: 3.6388e-05 - accuracy: 1.0000\n",
            "Epoch 90: val_loss did not improve from 0.00000\n",
            "34/34 [==============================] - 2s 57ms/step - loss: 3.6388e-05 - accuracy: 1.0000 - val_loss: 6.1591e-07 - val_accuracy: 1.0000\n",
            "Epoch 91/200\n",
            "34/34 [==============================] - ETA: 0s - loss: 1.0430e-05 - accuracy: 1.0000\n",
            "Epoch 91: val_loss did not improve from 0.00000\n",
            "34/34 [==============================] - 2s 57ms/step - loss: 1.0430e-05 - accuracy: 1.0000 - val_loss: 6.0399e-07 - val_accuracy: 1.0000\n",
            "Epoch 92/200\n",
            "33/34 [============================>.] - ETA: 0s - loss: 2.6790e-05 - accuracy: 1.0000\n",
            "Epoch 92: val_loss did not improve from 0.00000\n",
            "34/34 [==============================] - 2s 58ms/step - loss: 2.6201e-05 - accuracy: 1.0000 - val_loss: 5.9406e-07 - val_accuracy: 1.0000\n",
            "Epoch 93/200\n",
            "33/34 [============================>.] - ETA: 0s - loss: 0.2922 - accuracy: 0.9602\n",
            "Epoch 93: val_loss did not improve from 0.00000\n",
            "34/34 [==============================] - 2s 57ms/step - loss: 0.2859 - accuracy: 0.9611 - val_loss: 149.0234 - val_accuracy: 0.3333\n",
            "Epoch 94/200\n",
            "34/34 [==============================] - ETA: 0s - loss: 0.1801 - accuracy: 0.9741\n",
            "Epoch 94: val_loss did not improve from 0.00000\n",
            "34/34 [==============================] - 2s 56ms/step - loss: 0.1801 - accuracy: 0.9741 - val_loss: 0.8800 - val_accuracy: 0.7667\n",
            "Epoch 95/200\n",
            "34/34 [==============================] - ETA: 0s - loss: 0.0422 - accuracy: 0.9870\n",
            "Epoch 95: val_loss did not improve from 0.00000\n",
            "34/34 [==============================] - 2s 57ms/step - loss: 0.0422 - accuracy: 0.9870 - val_loss: 158.3409 - val_accuracy: 0.3667\n",
            "Epoch 96/200\n",
            "34/34 [==============================] - ETA: 0s - loss: 0.0070 - accuracy: 0.9981\n",
            "Epoch 96: val_loss did not improve from 0.00000\n",
            "34/34 [==============================] - 2s 57ms/step - loss: 0.0070 - accuracy: 0.9981 - val_loss: 25.0623 - val_accuracy: 0.6500\n",
            "Epoch 97/200\n",
            "34/34 [==============================] - ETA: 0s - loss: 0.0011 - accuracy: 1.0000\n",
            "Epoch 97: val_loss did not improve from 0.00000\n",
            "34/34 [==============================] - 2s 56ms/step - loss: 0.0011 - accuracy: 1.0000 - val_loss: 3.8391 - val_accuracy: 0.6500\n",
            "Epoch 98/200\n",
            "34/34 [==============================] - ETA: 0s - loss: 3.2565e-04 - accuracy: 1.0000\n",
            "Epoch 98: val_loss did not improve from 0.00000\n",
            "34/34 [==============================] - 2s 56ms/step - loss: 3.2565e-04 - accuracy: 1.0000 - val_loss: 0.0606 - val_accuracy: 0.9833\n",
            "Epoch 99/200\n",
            "33/34 [============================>.] - ETA: 0s - loss: 0.0022 - accuracy: 1.0000\n",
            "Epoch 99: val_loss did not improve from 0.00000\n",
            "34/34 [==============================] - 2s 57ms/step - loss: 0.0021 - accuracy: 1.0000 - val_loss: 0.0369 - val_accuracy: 0.9833\n",
            "Epoch 100/200\n",
            "33/34 [============================>.] - ETA: 0s - loss: 4.8168e-04 - accuracy: 1.0000\n",
            "Epoch 100: val_loss did not improve from 0.00000\n",
            "34/34 [==============================] - 2s 56ms/step - loss: 4.7998e-04 - accuracy: 1.0000 - val_loss: 0.0090 - val_accuracy: 1.0000\n",
            "Epoch 101/200\n",
            "34/34 [==============================] - ETA: 0s - loss: 5.6009e-04 - accuracy: 1.0000\n",
            "Epoch 101: val_loss did not improve from 0.00000\n",
            "34/34 [==============================] - 2s 56ms/step - loss: 5.6009e-04 - accuracy: 1.0000 - val_loss: 0.0141 - val_accuracy: 0.9833\n",
            "Epoch 102/200\n",
            "33/34 [============================>.] - ETA: 0s - loss: 1.5345e-04 - accuracy: 1.0000\n",
            "Epoch 102: val_loss did not improve from 0.00000\n",
            "34/34 [==============================] - 2s 58ms/step - loss: 1.5094e-04 - accuracy: 1.0000 - val_loss: 0.0267 - val_accuracy: 0.9833\n",
            "Epoch 103/200\n",
            "33/34 [============================>.] - ETA: 0s - loss: 9.4490e-05 - accuracy: 1.0000\n",
            "Epoch 103: val_loss did not improve from 0.00000\n",
            "34/34 [==============================] - 2s 56ms/step - loss: 9.3972e-05 - accuracy: 1.0000 - val_loss: 0.0128 - val_accuracy: 1.0000\n",
            "Epoch 104/200\n",
            "33/34 [============================>.] - ETA: 0s - loss: 6.1618e-05 - accuracy: 1.0000\n",
            "Epoch 104: val_loss did not improve from 0.00000\n",
            "34/34 [==============================] - 2s 56ms/step - loss: 6.0725e-05 - accuracy: 1.0000 - val_loss: 0.0077 - val_accuracy: 1.0000\n",
            "Epoch 105/200\n",
            "33/34 [============================>.] - ETA: 0s - loss: 1.7626e-04 - accuracy: 1.0000\n",
            "Epoch 105: val_loss did not improve from 0.00000\n",
            "34/34 [==============================] - 2s 56ms/step - loss: 1.7296e-04 - accuracy: 1.0000 - val_loss: 0.0014 - val_accuracy: 1.0000\n",
            "Epoch 106/200\n",
            "34/34 [==============================] - ETA: 0s - loss: 6.4898e-05 - accuracy: 1.0000\n",
            "Epoch 106: val_loss did not improve from 0.00000\n",
            "34/34 [==============================] - 2s 56ms/step - loss: 6.4898e-05 - accuracy: 1.0000 - val_loss: 8.8810e-04 - val_accuracy: 1.0000\n",
            "Epoch 107/200\n",
            "33/34 [============================>.] - ETA: 0s - loss: 0.0014 - accuracy: 1.0000    \n",
            "Epoch 107: val_loss did not improve from 0.00000\n",
            "34/34 [==============================] - 2s 57ms/step - loss: 0.0013 - accuracy: 1.0000 - val_loss: 8.6263e-04 - val_accuracy: 1.0000\n",
            "Epoch 108/200\n",
            "34/34 [==============================] - ETA: 0s - loss: 1.1967e-04 - accuracy: 1.0000\n",
            "Epoch 108: val_loss did not improve from 0.00000\n",
            "34/34 [==============================] - 2s 58ms/step - loss: 1.1967e-04 - accuracy: 1.0000 - val_loss: 0.0017 - val_accuracy: 1.0000\n",
            "Epoch 109/200\n",
            "33/34 [============================>.] - ETA: 0s - loss: 1.7021e-04 - accuracy: 1.0000\n",
            "Epoch 109: val_loss did not improve from 0.00000\n",
            "34/34 [==============================] - 2s 55ms/step - loss: 1.6766e-04 - accuracy: 1.0000 - val_loss: 0.0011 - val_accuracy: 1.0000\n",
            "Epoch 110/200\n",
            "34/34 [==============================] - ETA: 0s - loss: 4.3775e-05 - accuracy: 1.0000\n",
            "Epoch 110: val_loss did not improve from 0.00000\n",
            "34/34 [==============================] - 2s 55ms/step - loss: 4.3775e-05 - accuracy: 1.0000 - val_loss: 8.5393e-04 - val_accuracy: 1.0000\n",
            "Epoch 111/200\n",
            "33/34 [============================>.] - ETA: 0s - loss: 1.1900e-04 - accuracy: 1.0000\n",
            "Epoch 111: val_loss did not improve from 0.00000\n",
            "34/34 [==============================] - 2s 54ms/step - loss: 1.1696e-04 - accuracy: 1.0000 - val_loss: 7.1916e-04 - val_accuracy: 1.0000\n",
            "Epoch 112/200\n",
            "33/34 [============================>.] - ETA: 0s - loss: 0.0045 - accuracy: 0.9981\n",
            "Epoch 112: val_loss did not improve from 0.00000\n",
            "34/34 [==============================] - 2s 55ms/step - loss: 0.0044 - accuracy: 0.9981 - val_loss: 0.0072 - val_accuracy: 1.0000\n",
            "Epoch 113/200\n",
            "33/34 [============================>.] - ETA: 0s - loss: 0.0018 - accuracy: 1.0000\n",
            "Epoch 113: val_loss did not improve from 0.00000\n",
            "34/34 [==============================] - 2s 57ms/step - loss: 0.0018 - accuracy: 1.0000 - val_loss: 0.6483 - val_accuracy: 0.8333\n",
            "Epoch 114/200\n",
            "33/34 [============================>.] - ETA: 0s - loss: 6.4194e-05 - accuracy: 1.0000\n",
            "Epoch 114: val_loss did not improve from 0.00000\n",
            "34/34 [==============================] - 2s 57ms/step - loss: 6.2950e-05 - accuracy: 1.0000 - val_loss: 0.0611 - val_accuracy: 0.9833\n",
            "Epoch 115/200\n",
            "34/34 [==============================] - ETA: 0s - loss: 0.0947 - accuracy: 0.9889    \n",
            "Epoch 115: val_loss did not improve from 0.00000\n",
            "34/34 [==============================] - 2s 56ms/step - loss: 0.0947 - accuracy: 0.9889 - val_loss: 0.3989 - val_accuracy: 0.8167\n",
            "Epoch 116/200\n",
            "33/34 [============================>.] - ETA: 0s - loss: 0.0333 - accuracy: 0.9905\n",
            "Epoch 116: val_loss did not improve from 0.00000\n",
            "34/34 [==============================] - 2s 56ms/step - loss: 0.0327 - accuracy: 0.9907 - val_loss: 1.8740 - val_accuracy: 0.7167\n",
            "Epoch 117/200\n",
            "33/34 [============================>.] - ETA: 0s - loss: 0.0010 - accuracy: 1.0000\n",
            "Epoch 117: val_loss did not improve from 0.00000\n",
            "34/34 [==============================] - 2s 55ms/step - loss: 0.0013 - accuracy: 1.0000 - val_loss: 0.3884 - val_accuracy: 0.8500\n",
            "Epoch 118/200\n",
            "33/34 [============================>.] - ETA: 0s - loss: 0.0314 - accuracy: 0.9943\n",
            "Epoch 118: val_loss did not improve from 0.00000\n",
            "34/34 [==============================] - 2s 56ms/step - loss: 0.0309 - accuracy: 0.9944 - val_loss: 0.1072 - val_accuracy: 0.9667\n",
            "Epoch 119/200\n",
            "34/34 [==============================] - ETA: 0s - loss: 0.0141 - accuracy: 0.9981\n",
            "Epoch 119: val_loss did not improve from 0.00000\n",
            "34/34 [==============================] - 2s 57ms/step - loss: 0.0141 - accuracy: 0.9981 - val_loss: 0.8734 - val_accuracy: 0.8500\n",
            "Epoch 120/200\n",
            "33/34 [============================>.] - ETA: 0s - loss: 0.0068 - accuracy: 0.9981\n",
            "Epoch 120: val_loss did not improve from 0.00000\n",
            "34/34 [==============================] - 2s 57ms/step - loss: 0.0066 - accuracy: 0.9981 - val_loss: 0.3411 - val_accuracy: 0.9167\n",
            "Epoch 121/200\n",
            "34/34 [==============================] - ETA: 0s - loss: 0.0060 - accuracy: 0.9963\n",
            "Epoch 121: val_loss did not improve from 0.00000\n",
            "34/34 [==============================] - 2s 56ms/step - loss: 0.0060 - accuracy: 0.9963 - val_loss: 2.0208e-04 - val_accuracy: 1.0000\n",
            "Epoch 122/200\n",
            "33/34 [============================>.] - ETA: 0s - loss: 3.7255e-04 - accuracy: 1.0000\n",
            "Epoch 122: val_loss did not improve from 0.00000\n",
            "34/34 [==============================] - 2s 56ms/step - loss: 5.7778e-04 - accuracy: 1.0000 - val_loss: 5.9286e-05 - val_accuracy: 1.0000\n",
            "Epoch 123/200\n",
            "34/34 [==============================] - ETA: 0s - loss: 2.2428e-04 - accuracy: 1.0000\n",
            "Epoch 123: val_loss did not improve from 0.00000\n",
            "34/34 [==============================] - 2s 55ms/step - loss: 2.2428e-04 - accuracy: 1.0000 - val_loss: 5.4692e-06 - val_accuracy: 1.0000\n",
            "Epoch 124/200\n",
            "33/34 [============================>.] - ETA: 0s - loss: 1.8629e-04 - accuracy: 1.0000\n",
            "Epoch 124: val_loss did not improve from 0.00000\n",
            "34/34 [==============================] - 2s 57ms/step - loss: 1.8229e-04 - accuracy: 1.0000 - val_loss: 3.5025e-06 - val_accuracy: 1.0000\n",
            "Epoch 125/200\n",
            "34/34 [==============================] - ETA: 0s - loss: 1.5191e-04 - accuracy: 1.0000\n",
            "Epoch 125: val_loss did not improve from 0.00000\n",
            "34/34 [==============================] - 2s 58ms/step - loss: 1.5191e-04 - accuracy: 1.0000 - val_loss: 4.1958e-06 - val_accuracy: 1.0000\n",
            "Epoch 126/200\n",
            "34/34 [==============================] - ETA: 0s - loss: 1.3138e-04 - accuracy: 1.0000\n",
            "Epoch 126: val_loss did not improve from 0.00000\n",
            "34/34 [==============================] - 2s 57ms/step - loss: 1.3138e-04 - accuracy: 1.0000 - val_loss: 5.4889e-06 - val_accuracy: 1.0000\n",
            "Epoch 127/200\n",
            "34/34 [==============================] - ETA: 0s - loss: 9.2125e-04 - accuracy: 1.0000\n",
            "Epoch 127: val_loss did not improve from 0.00000\n",
            "34/34 [==============================] - 2s 55ms/step - loss: 9.2125e-04 - accuracy: 1.0000 - val_loss: 4.5376e-06 - val_accuracy: 1.0000\n",
            "Epoch 128/200\n",
            "33/34 [============================>.] - ETA: 0s - loss: 3.1639e-04 - accuracy: 1.0000\n",
            "Epoch 128: val_loss did not improve from 0.00000\n",
            "34/34 [==============================] - 2s 55ms/step - loss: 3.0973e-04 - accuracy: 1.0000 - val_loss: 5.7197e-06 - val_accuracy: 1.0000\n",
            "Epoch 129/200\n",
            "34/34 [==============================] - ETA: 0s - loss: 1.2123e-04 - accuracy: 1.0000\n",
            "Epoch 129: val_loss did not improve from 0.00000\n",
            "34/34 [==============================] - 2s 57ms/step - loss: 1.2123e-04 - accuracy: 1.0000 - val_loss: 7.2709e-06 - val_accuracy: 1.0000\n",
            "Epoch 130/200\n",
            "34/34 [==============================] - ETA: 0s - loss: 0.1320 - accuracy: 0.9870\n",
            "Epoch 130: val_loss did not improve from 0.00000\n",
            "34/34 [==============================] - 2s 56ms/step - loss: 0.1320 - accuracy: 0.9870 - val_loss: 0.3125 - val_accuracy: 0.9000\n",
            "Epoch 131/200\n",
            "33/34 [============================>.] - ETA: 0s - loss: 0.0796 - accuracy: 0.9735\n",
            "Epoch 131: val_loss did not improve from 0.00000\n",
            "34/34 [==============================] - 2s 58ms/step - loss: 0.0796 - accuracy: 0.9722 - val_loss: 669.8528 - val_accuracy: 0.3500\n",
            "Epoch 132/200\n",
            "33/34 [============================>.] - ETA: 0s - loss: 0.0443 - accuracy: 0.9848\n",
            "Epoch 132: val_loss did not improve from 0.00000\n",
            "34/34 [==============================] - 2s 58ms/step - loss: 0.0433 - accuracy: 0.9852 - val_loss: 178.2822 - val_accuracy: 0.6667\n",
            "Epoch 133/200\n",
            "33/34 [============================>.] - ETA: 0s - loss: 0.1297 - accuracy: 0.9792\n",
            "Epoch 133: val_loss did not improve from 0.00000\n",
            "34/34 [==============================] - 2s 56ms/step - loss: 0.1269 - accuracy: 0.9796 - val_loss: 106.1945 - val_accuracy: 0.6500\n",
            "Epoch 134/200\n",
            "33/34 [============================>.] - ETA: 0s - loss: 0.0145 - accuracy: 0.9981\n",
            "Epoch 134: val_loss did not improve from 0.00000\n",
            "34/34 [==============================] - 2s 55ms/step - loss: 0.0150 - accuracy: 0.9981 - val_loss: 40.7496 - val_accuracy: 0.4167\n",
            "Epoch 135/200\n",
            "33/34 [============================>.] - ETA: 0s - loss: 0.0025 - accuracy: 1.0000\n",
            "Epoch 135: val_loss did not improve from 0.00000\n",
            "34/34 [==============================] - 2s 60ms/step - loss: 0.0024 - accuracy: 1.0000 - val_loss: 3.7845 - val_accuracy: 0.5500\n",
            "Epoch 136/200\n",
            "33/34 [============================>.] - ETA: 0s - loss: 0.0019 - accuracy: 1.0000\n",
            "Epoch 136: val_loss did not improve from 0.00000\n",
            "34/34 [==============================] - 2s 59ms/step - loss: 0.0018 - accuracy: 1.0000 - val_loss: 0.4376 - val_accuracy: 0.8500\n",
            "Epoch 137/200\n",
            "33/34 [============================>.] - ETA: 0s - loss: 2.8758e-04 - accuracy: 1.0000\n",
            "Epoch 137: val_loss did not improve from 0.00000\n",
            "34/34 [==============================] - 2s 59ms/step - loss: 2.8718e-04 - accuracy: 1.0000 - val_loss: 0.0146 - val_accuracy: 1.0000\n"
          ]
        },
        {
          "output_type": "execute_result",
          "data": {
            "text/plain": [
              "<keras.src.callbacks.History at 0x7a309ff73d30>"
            ]
          },
          "metadata": {},
          "execution_count": 9
        }
      ],
      "source": [
        "model_path = \"/content/drive/MyDrive/Machine_Learning/Research/Model/xception.h5\"\n",
        "csv_path = \"/content/drive/MyDrive/Machine_Learning/Research/Model/xception.log\"\n",
        "callbacks = [\n",
        "        ModelCheckpoint(model_path, verbose=1, save_best_only=True),\n",
        "        CSVLogger(csv_path),\n",
        "        TensorBoard(),\n",
        "        EarlyStopping(monitor='val_loss', patience=50, restore_best_weights=False),\n",
        "    ]\n",
        "\n",
        "model.fit(\n",
        "    train_ds,\n",
        "    epochs=200,\n",
        "    validation_data=validation_ds,\n",
        "    callbacks=callbacks,\n",
        "    shuffle=False\n",
        ")"
      ]
    },
    {
      "cell_type": "code",
      "source": [
        "model = tf.keras.models.load_model('/content/drive/MyDrive/Machine_Learning/Research/Model/xception.h5')"
      ],
      "metadata": {
        "id": "qIDwBXooZgSB"
      },
      "execution_count": null,
      "outputs": []
    },
    {
      "cell_type": "code",
      "source": [
        "# Remove the last layer of the model\n",
        "feature_extractor = Model(inputs=model.input, outputs=model.layers[-2].output)\n",
        "\n",
        "# Extract features from the test dataset\n",
        "test_features = feature_extractor.predict(validation_ds)\n",
        "\n",
        "num_clusters = 4  # specify the number of clusters\n",
        "kmeans = KMeans(n_clusters=num_clusters)\n",
        "clusters = kmeans.fit_predict(test_features)\n",
        "\n",
        "# clusters variable now contains the cluster labels for each image in the test dataset\n",
        "\n",
        "kmeans.labels_"
      ],
      "metadata": {
        "id": "k9C5qWUwVdmY",
        "colab": {
          "base_uri": "https://localhost:8080/"
        },
        "outputId": "505de19e-d2d9-4766-eea6-c551189d0658"
      },
      "execution_count": null,
      "outputs": [
        {
          "output_type": "stream",
          "name": "stdout",
          "text": [
            "4/4 [==============================] - 1s 21ms/step\n"
          ]
        },
        {
          "output_type": "stream",
          "name": "stderr",
          "text": [
            "/usr/local/lib/python3.10/dist-packages/sklearn/cluster/_kmeans.py:870: FutureWarning: The default value of `n_init` will change from 10 to 'auto' in 1.4. Set the value of `n_init` explicitly to suppress the warning\n",
            "  warnings.warn(\n"
          ]
        },
        {
          "output_type": "execute_result",
          "data": {
            "text/plain": [
              "array([1, 0, 3, 2, 2, 2, 3, 0, 3, 3, 2, 1, 2, 1, 2, 2, 0, 2, 2, 1, 2, 1,\n",
              "       1, 1, 3, 1, 2, 1, 0, 2, 0, 3, 0, 2, 1, 1, 2, 1, 3, 2, 1, 0, 1, 2,\n",
              "       1, 2, 0, 0, 1, 1, 1, 2, 3, 1, 2, 1, 0, 0, 0, 2], dtype=int32)"
            ]
          },
          "metadata": {},
          "execution_count": 21
        }
      ]
    },
    {
      "cell_type": "code",
      "source": [
        "data_dir = '/content/drive/MyDrive/Machine_Learning/Research/ImageCLEFmedical  GANs 2024 - Task2 test/generated_images'\n",
        "data_dir = pathlib.Path(data_dir)"
      ],
      "metadata": {
        "id": "pQNatHV66j07"
      },
      "execution_count": null,
      "outputs": []
    },
    {
      "cell_type": "code",
      "source": [
        "image_count = len(list(data_dir.glob('*.*')))\n",
        "\n",
        "# Create a dataset of image file paths\n",
        "list_ds = tf.data.Dataset.list_files(str(data_dir/'*'), shuffle=False)\n",
        "list_ds = list_ds.shuffle(image_count, reshuffle_each_iteration=False)"
      ],
      "metadata": {
        "id": "EMtzovvq6j08"
      },
      "execution_count": null,
      "outputs": []
    },
    {
      "cell_type": "code",
      "source": [
        "def process_path(file_path):\n",
        "    img = tf.io.read_file(file_path)\n",
        "    img = tf.image.decode_png(img, channels=1)  # Use decode_png if images are png format\n",
        "    img = tf.image.resize(img, [256, 256])\n",
        "    img = tf.expand_dims(img, axis=-1)  # Add a channel dimension\n",
        "    img = (img / 255.0)  # Normalize pixels to 0,1\n",
        "    return img\n"
      ],
      "metadata": {
        "id": "UAqclNRW6j09"
      },
      "execution_count": null,
      "outputs": []
    },
    {
      "cell_type": "code",
      "source": [
        "new_dataset = list_ds.map(process_path, num_parallel_calls=tf.data.AUTOTUNE)\n"
      ],
      "metadata": {
        "id": "JWA-ih5w6j09"
      },
      "execution_count": null,
      "outputs": []
    },
    {
      "cell_type": "code",
      "source": [
        "# Remove the last layer of the model\n",
        "feature_extractor = Model(inputs=model.input, outputs=model.layers[-2].output)\n",
        "\n",
        "# Batch the dataset\n",
        "new_dataset = new_dataset.batch(16)  # Replace 16 with your desired batch size\n",
        "\n",
        "# Extract features from the new dataset\n",
        "new_features = feature_extractor.predict(new_dataset)\n",
        "\n",
        "# Perform clustering on the extracted features\n",
        "num_clusters = 4  # specify the number of clusters\n",
        "kmeans = KMeans(n_clusters=num_clusters)\n",
        "new_clusters = kmeans.fit_predict(new_features)\n",
        "\n",
        "# new_clusters variable now contains the cluster labels for each image in the new dataset\n",
        "print(kmeans.labels_)\n"
      ],
      "metadata": {
        "id": "Fg_V3v2i6j09",
        "colab": {
          "base_uri": "https://localhost:8080/"
        },
        "outputId": "1771e665-7c23-4039-9147-b4224f1bd70c"
      },
      "execution_count": null,
      "outputs": [
        {
          "output_type": "stream",
          "name": "stdout",
          "text": [
            "190/190 [==============================] - 28s 143ms/step\n"
          ]
        },
        {
          "output_type": "stream",
          "name": "stderr",
          "text": [
            "/usr/local/lib/python3.10/dist-packages/sklearn/cluster/_kmeans.py:870: FutureWarning: The default value of `n_init` will change from 10 to 'auto' in 1.4. Set the value of `n_init` explicitly to suppress the warning\n",
            "  warnings.warn(\n"
          ]
        },
        {
          "output_type": "stream",
          "name": "stdout",
          "text": [
            "[2 2 2 ... 2 2 2]\n"
          ]
        }
      ]
    },
    {
      "cell_type": "code",
      "source": [
        "print(kmeans.labels_[:20])"
      ],
      "metadata": {
        "id": "RSaC689P_B0G",
        "colab": {
          "base_uri": "https://localhost:8080/"
        },
        "outputId": "0ff9d6e1-f9d2-4981-b535-a01f93a53760"
      },
      "execution_count": null,
      "outputs": [
        {
          "output_type": "stream",
          "name": "stdout",
          "text": [
            "[2 2 2 0 2 0 2 1 2 2 2 2 2 2 2 2 0 2 1 0]\n"
          ]
        }
      ]
    },
    {
      "cell_type": "code",
      "source": [
        "# Load the provided run.csv file\n",
        "provided_run_path = '/content/drive/MyDrive/Machine_Learning/Research/ImageCLEFmedical  GANs 2024 - Task2 test/xception.csv'\n",
        "\n",
        "# Read the file without header\n",
        "provided_run_df = pd.read_csv(provided_run_path, header=None, names=['data'])\n",
        "\n",
        "# Map figure IDs to cluster labels\n",
        "figure_ids = provided_run_df['data'].str.split('\\t', expand=True)[0]  # Extract figure IDs\n",
        "cluster_mapping = dict(zip(figure_ids, new_clusters + 1))  # Adding 1 to clusters to match the required labels [1, 2, 3, 4]\n",
        "\n",
        "# Create a DataFrame with image IDs and corresponding cluster mappings\n",
        "result_df = pd.DataFrame({'ImageID': figure_ids, 'Cluster': [cluster_mapping[x] for x in figure_ids]})\n",
        "\n",
        "# Save the DataFrame to the same CSV file (overwrite the existing file)\n",
        "result_df.to_csv(provided_run_path, index=False, header=False)\n"
      ],
      "metadata": {
        "id": "CQrY9GWA9Ior"
      },
      "execution_count": null,
      "outputs": []
    },
    {
      "cell_type": "code",
      "source": [],
      "metadata": {
        "id": "oI4ujpe0At-z"
      },
      "execution_count": null,
      "outputs": []
    }
  ]
}